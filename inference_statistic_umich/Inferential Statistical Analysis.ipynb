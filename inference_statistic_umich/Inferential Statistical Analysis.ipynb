{
 "cells": [
  {
   "cell_type": "code",
   "execution_count": 1,
   "id": "5f6574c5",
   "metadata": {},
   "outputs": [],
   "source": [
    "import pandas as pd\n",
    "import numpy as np\n",
    "import scipy.stats\n"
   ]
  },
  {
   "cell_type": "markdown",
   "id": "6af15b14",
   "metadata": {},
   "source": [
    "# Estimating a population proportion with Confidence\n",
    "Confidence Interval Basics\n",
    "\n",
    "**Best Estimate ± Margin of Error**\n",
    "\n",
    "**Best Estimate** = Unbiased Point Estimate\n",
    "\n",
    "**Margin of Error** = “a Few” Estimated Standard Errors\n",
    "\n",
    "**“A Few”** = Multiplier from appropriate distribution based on desired confidence level and sample design\n",
    "\n",
    "95% Confidence Level ↔ 0.05 Significance]\n",
    "\n",
    "*For example:*\n",
    "\n",
    "What proportion of parents report they use a car seat for all travel with toddlers?\n",
    "\n",
    "**Population** - Parent with a toddler\n",
    "\n",
    "**Parameter of interest** - Proportion\n",
    "\n",
    "Construct a 95% Confidence Interval for the population proportion of parents reporting they use a car seat for all travel with their toddler.\n",
    "\n",
    "A sample of 659 parents with a toddler was taken and asked if they used a car seat for all travel with their toddler. 540 parents responded ‘Yest’ to this question."
   ]
  },
  {
   "cell_type": "code",
   "execution_count": 2,
   "id": "1cbd344e",
   "metadata": {},
   "outputs": [
    {
     "name": "stdout",
     "output_type": "stream",
     "text": [
      "Confidence Interval 0.02942320021927683\n",
      "Lower Class Boundaries: 0.7900001685212391\n",
      "Upper Class Boundaries: 0.8488465689597927\n"
     ]
    }
   ],
   "source": [
    "def calculateZ(confidence, n):\n",
    "    Z = scipy.stats.t.ppf((1 + confidence) / 2., n-1)\n",
    "    return Z\n",
    "\n",
    "def calculateCI(phat, n, confidence):\n",
    "    Z = calculateZ(confidence, n)\n",
    "    ci = Z * (np.sqrt (phat*(1-phat)/n))\n",
    "    return ci\n",
    "\n",
    "confidence = 0.95\n",
    "n = 659 #Total sample\n",
    "x = 540 #Total conversion\n",
    "\n",
    "phat = x/n\n",
    "\n",
    "\n",
    "ci = calculateCI(phat, n, confidence)\n",
    "lcb = phat -ci \n",
    "ucb = phat +ci\n",
    "\n",
    "print ('Confidence Interval',ci)\n",
    "print('Lower Class Boundaries:',lcb)\n",
    "print('Upper Class Boundaries:',ucb)"
   ]
  },
  {
   "cell_type": "markdown",
   "id": "25a71d92",
   "metadata": {},
   "source": [
    "___\n"
   ]
  },
  {
   "cell_type": "markdown",
   "id": "520869de",
   "metadata": {},
   "source": [
    "# Calculating Margin of Error and Sample Size\n",
    "Back to Car Seat example, with using conservative standard error.\n",
    "\n",
    "= p̂ **±** 2 $\\ 1\\above{1pt} 2\\sqrt n$\n",
    "\n",
    "= p̂ **±** $\\ 1\\above{1pt} \\sqrt n$\n",
    "\n",
    "(0.81, 0.89) 95% Margin of Error is only dependent on Sample Size (regardless of the p-hat)\n",
    "\n",
    "**Sample Size Determination**\n",
    "\n",
    "Margin of Error (MoE) is only dependent on:\n",
    "\n",
    "1. Our confidence level (typically 95%), and\n",
    "2. Our sample size.\n",
    "\n",
    "Having this, we could answer:\n",
    "\n",
    "**What sample size would we need to have a 95% (conservative) confidence interval with a Margin of Error of only 3% (0.03)?**"
   ]
  },
  {
   "cell_type": "code",
   "execution_count": 3,
   "id": "f9095c71",
   "metadata": {},
   "outputs": [
    {
     "name": "stdout",
     "output_type": "stream",
     "text": [
      "Sample size(n) needed with 0.95 confidence with 0.03 Margin of Error: 1068\n"
     ]
    }
   ],
   "source": [
    "import math\n",
    "\n",
    "def calculateZCriticalPoint(confidence):\n",
    "    alpha = 1-confidence\n",
    "    Zcrit = scipy.stats.norm.ppf(1-(alpha/2))    \n",
    "    return Zcrit\n",
    "\n",
    "def calculateMoE(n, confidence):\n",
    "    zcrit = calculateZCriticalPoint(confidence)\n",
    "    MoE = zcrit * (1/(2 * np.sqrt(n)))\n",
    "    return MoE\n",
    "\n",
    "def calculateSampleSize(confidence, MoE):\n",
    "    zcrit = calculateZCriticalPoint(confidence)\n",
    "    n = math.ceil(((1.96/(2*MoE)))**2)\n",
    "    return n\n",
    "\n",
    "\n",
    "confidence = 0.95\n",
    "MoE = 0.03\n",
    "n = calculateSampleSize(0.95, 0.03)\n",
    "print('Sample size(n) needed with {0} confidence with {1} Margin of Error: {2}'.format(confidence, MoE, n))"
   ]
  },
  {
   "cell_type": "code",
   "execution_count": 4,
   "id": "a749b027",
   "metadata": {},
   "outputs": [
    {
     "data": {
      "text/plain": [
       "0.029986961979154566"
      ]
     },
     "execution_count": 4,
     "metadata": {},
     "output_type": "execute_result"
    }
   ],
   "source": [
    "calculateMoE(n, confidence)"
   ]
  },
  {
   "cell_type": "markdown",
   "id": "a8bc435f",
   "metadata": {},
   "source": [
    "___\n"
   ]
  },
  {
   "cell_type": "markdown",
   "id": "a9fa0f97",
   "metadata": {},
   "source": [
    "## **Estimating a Difference in Population Proportions with Confidence**\n",
    "\n",
    "**Research Question:**\n",
    "\n",
    "What is the difference in population proportions of parents reporting that their children aged 6-18 have had some swimming lessons between white children and black children?\n",
    "\n",
    "**Population**:\n",
    "\n",
    "All parents of white children aged 6-18 and all parents of black children aged 6-18\n",
    "\n",
    "**Parameter of Interest**\n",
    "\n",
    "Difference in population proportions (p1-p2)\n",
    "\n",
    "p1 = White children\n",
    "\n",
    "p2 = Black children\n",
    "\n",
    "**Survey Results**\n",
    "\n",
    "- A sample of 247 parents of black children aged 6-18 was taken with 91 saying that their child has some swimming lessons.\n",
    "- A sample of 988 parents of white children aged 6-18 was taken with 543 saying that their child has had some swimming lessons.\n",
    "\n",
    "Difference in Proportion Confidence Interval\n",
    "\n",
    "**Best Estimate ± Margin of Error**\n",
    "\n",
    "p̂1 - p̂2 **±** Margin of Error\n",
    "\n",
    "p̂1 - p̂2 ± Z Score x SE (p̂1 - p̂2)\n",
    "\n",
    "p̂1 - p̂2 ± 1.96 x $\\sqrt {{p̂1(1-p̂1)\\above{1pt}n1 } + {p̂2(1-p̂2)\\above{1pt}n2}}$"
   ]
  },
  {
   "cell_type": "code",
   "execution_count": 5,
   "id": "5f735e33",
   "metadata": {},
   "outputs": [
    {
     "data": {
      "text/plain": [
       "0.06773173792547972"
      ]
     },
     "execution_count": 5,
     "metadata": {},
     "output_type": "execute_result"
    }
   ],
   "source": [
    "def calculateCIforDiffPopulation(phat1, phat2, n1, n2, confidence):\n",
    "    zcrit = calculateZCriticalPoint(confidence)\n",
    "    standard_error = zcrit * np.sqrt(((phat1 * (1-phat1))/n1) + ((phat2 * (1-phat2))/n2))\n",
    "    return standard_error\n",
    "\n",
    "phat1 = 0.55 #Conversion for Group 1\n",
    "phat2 = 0.37 #Conversion for Group 2\n",
    "\n",
    "n1 = 988 #Sample size for Group 1 \n",
    "n2 = 247 #Sample size for Group 2 \n",
    "\n",
    "confidence = 0.95\n",
    "calculateCIforDiffPopulation(phat1, phat2, n1, n2, confidence)"
   ]
  },
  {
   "cell_type": "code",
   "execution_count": 18,
   "id": "a67a71e7",
   "metadata": {},
   "outputs": [
    {
     "data": {
      "text/plain": [
       "-6.2164624676235976"
      ]
     },
     "execution_count": 18,
     "metadata": {},
     "output_type": "execute_result"
    }
   ],
   "source": [
    "def calculateTCriticalPoint(confidence, n):\n",
    "    DoF = n-1\n",
    "    significance_level = 1-confidence\n",
    "    \n",
    "    Tcrit = scipy.stats.t.ppf(significance_level/2, DoF) \n",
    "    return Tcrit\n",
    "\n",
    "def calculateCIforPopulationMean(mean, std, n, confidence):\n",
    "    T = calculateTCriticalPoint (confidence,n)\n",
    "    CI = T * (std/np.sqrt(n))\n",
    "    return CI\n",
    "    \n",
    "\n",
    "\n",
    "mean = 82.48\n",
    "std = 15.06\n",
    "n = 25\n",
    "confidence = 0.95\n",
    "calculateCIforPopulationMean(mean, std, n, confidence)"
   ]
  },
  {
   "cell_type": "code",
   "execution_count": 20,
   "id": "9ac705cb",
   "metadata": {},
   "outputs": [
    {
     "data": {
      "text/plain": [
       "-13.333730438903219"
      ]
     },
     "execution_count": 20,
     "metadata": {},
     "output_type": "execute_result"
    }
   ],
   "source": []
  },
  {
   "cell_type": "markdown",
   "id": "76c4cf2d",
   "metadata": {},
   "source": [
    "___\n",
    "## **Estimating a Mean Difference for Paired Data**\n",
    "\n",
    "Paired Data: We want to treat the two sets of values simultaneously.\n",
    "\n",
    "Variable: Difference of measurements in paris\n",
    "\n",
    "**Research Questions**\n",
    "\n",
    "What is the average difference between the older twin’s and younger twin’s self -reported education?\n",
    "\n",
    "Population - All identical twins\n",
    "\n",
    "Parameter of Interest - Population mean difference of self-reported education level \n",
    "(difference = Older twin - younger twin)\n",
    "\n",
    "Construct a 95% Confidence Interval for the mean difference of self-reported education for a set of identical twins.\n",
    "\n",
    "**Difference Summary**\n",
    "\n",
    "n = 340\n",
    "\n",
    "Min = -3.5 years,\n",
    "\n",
    "Max = 4 years\n",
    "\n",
    "72.1% had a difference of 0 year (same education level).\n",
    "\n",
    "Mean = 0.0838 years\n",
    "\n",
    "Standard Deviation = 0.7627 years"
   ]
  },
  {
   "cell_type": "code",
   "execution_count": 7,
   "id": "0e76b7ed",
   "metadata": {},
   "outputs": [
    {
     "name": "stdout",
     "output_type": "stream",
     "text": [
      "0.0024391160305014536 0.16516088396949855\n"
     ]
    }
   ],
   "source": [
    "mean = 0.0838\n",
    "std = 0.7627\n",
    "n = 340\n",
    "confidence = 0.95\n",
    "CI = abs(calculateCIforPopulationMean(mean, std, n, confidence))\n",
    "lcb = mean-CI\n",
    "ucb = mean+CI\n",
    "\n",
    "print(lcb, ucb)\n"
   ]
  },
  {
   "cell_type": "markdown",
   "id": "65e4ef04",
   "metadata": {},
   "source": [
    "___\n",
    "**Interpreting the Confidence Interval**\n",
    "\n",
    "With 95% confidence, the population mean difference between the older twin’s less the younger twin’s self-reported education is estimated to be between 0.0025 years and 0.1652 years."
   ]
  },
  {
   "cell_type": "markdown",
   "id": "1b6742ab",
   "metadata": {},
   "source": [
    "___\n",
    "## **Estimating a Difference in Population Means with Confidence (for Independent Groups)**\n",
    "\n",
    "**Research Question**\n",
    "\n",
    "Considering Mexican American adults (ages 18-29) living in the United States, do males and females differ significantly in mean Body Mass Index (BMI)?\n",
    "\n",
    "Population: Mexican American adults (ages 18-29) in the US\n",
    "\n",
    "Parameter of Interest (μ1 - μ2): BMI\n",
    "\n",
    "**BMI Variable Summary**\n",
    "\n",
    "|  | Male | Female | Delta |\n",
    "| --- | --- | --- | --- |\n",
    "| Mean | 23.57 | 22.83 |  |\n",
    "| Std Dev | 6.24 | 6.43 |  |\n",
    "| n | 258 | 239 |  |\n",
    "\n",
    "There are two approaches for calculating the Confidence Interval:\n",
    "\n",
    "1. Pooled Approach → The variance of the two populations is assumed to be equal.\n",
    "2. Unpooled Approach → The variance of the two populations is not equal.\n",
    "\n",
    "**Calculating CI for Unpooled Confidence Interval** \n",
    "\n",
    "= **Best Estimate ± Margin of Error**\n",
    "\n",
    "= The difference in sample mean **±** “a Few” estimated standard error.\n",
    "\n",
    "**= (x̄1 - x̄2) ± t* $\\sqrt {({s1^2\\above{1pt} n1 } + {s2^2\\above{1pt} n2 } )}$**\n",
    "\n",
    "**Calculating CI for Pooled Confidence Interval** \n",
    "\n",
    "= **Best Estimate ± Margin of Error**\n",
    "\n",
    "= The difference in sample mean **±** “a Few” estimated standard error.\n",
    "\n",
    "**= (x̄1 - x̄2) ± t* $\\sqrt {({(n1-1)s1^2 + (n2-1) s2^2\\above{1pt} n1+n2-2} }. \\sqrt {  {1\\above{1pt} n1 }+{1\\above{1pt} n2 } )}$**"
   ]
  },
  {
   "cell_type": "code",
   "execution_count": 8,
   "id": "e50f5417",
   "metadata": {},
   "outputs": [
    {
     "name": "stdout",
     "output_type": "stream",
     "text": [
      "-0.37693576089468217 1.8569357608946861\n"
     ]
    },
    {
     "data": {
      "text/plain": [
       "1.1169357608946842"
      ]
     },
     "execution_count": 8,
     "metadata": {},
     "output_type": "execute_result"
    }
   ],
   "source": [
    "def calculateCIPooled(n1, s1, n2, s2, mean_1, mean_2, confidence):\n",
    "    n = n1+n2-2\n",
    "    t = calculateTCriticalPoint (confidence, n)\n",
    "    ci = abs(t * np.sqrt((((n1-1)*s1**2) + ((n2-1)*s2**2))/(n1+n2-2)) * (np.sqrt(1/n1 +1/n2)))\n",
    "    d = mean_1-mean_2\n",
    "    lcb = d -ci\n",
    "    ucb = d+ci\n",
    "    print(lcb, ucb)\n",
    "    return ci\n",
    "\n",
    "n1 = 258\n",
    "n2 = 239\n",
    "mean_1 = 23.57\n",
    "mean_2 = 22.83\n",
    "std1 = 6.24\n",
    "std2 = 6.43\n",
    "confidence = 0.95\n",
    "\n",
    "calculateCIPooled(n1, std1, n2, std2, mean_1, mean_2, confidence)"
   ]
  },
  {
   "cell_type": "code",
   "execution_count": 9,
   "id": "36517386",
   "metadata": {},
   "outputs": [
    {
     "name": "stdout",
     "output_type": "stream",
     "text": [
      "-0.37947651130442317 1.8594765113044271\n"
     ]
    },
    {
     "data": {
      "text/plain": [
       "1.1194765113044252"
      ]
     },
     "execution_count": 9,
     "metadata": {},
     "output_type": "execute_result"
    }
   ],
   "source": [
    "def calculateCIUnpooled(n1, s1, n2, s2, mean_1, mean_2, confidence):\n",
    "#     n = n1+n2-2\n",
    "    t = calculateTCriticalPoint (confidence, n)\n",
    "    \n",
    "    ci = abs(t * np.sqrt((s1**2/n1) + (s2**2/n2)))\n",
    "    \n",
    "    d = mean_1-mean_2\n",
    "    lcb = d -ci\n",
    "    ucb = d+ci\n",
    "    print(lcb, ucb)\n",
    "    return ci\n",
    "\n",
    "n1 = 258\n",
    "n2 = 239\n",
    "mean_1 = 23.57\n",
    "mean_2 = 22.83\n",
    "std1 = 6.24\n",
    "std2 = 6.43\n",
    "confidence = 0.95\n",
    "\n",
    "calculateCIUnpooled(n1, std1, n2, std2, mean_1, mean_2, confidence)"
   ]
  },
  {
   "cell_type": "markdown",
   "id": "1b4e4b7f",
   "metadata": {},
   "source": [
    "___\n",
    "**Interpreting the Confidence Interval**\n",
    "\n",
    "(-0.38,1.86)\n",
    "\n",
    "With 95% confidence, the difference in mean body mass index between males and females for all Mexican American adults (age 18-29) in the U.S is estimated between -0.38 to 1.86.\n",
    "\n",
    "**What does “with 95% confidence” mean:**\n",
    "\n",
    "if this procedure were repeated over and over, each time producing a 95% CI estimate, we would expect 95% of those resulting intervals to contain the difference in population mean BMI."
   ]
  },
  {
   "cell_type": "markdown",
   "id": "d8cf5f0f",
   "metadata": {},
   "source": [
    "___\n",
    "\n",
    "## **Setting Up a Test for a Population Proportion (Z-Test)**\n",
    "\n",
    "**Why do we do Hypothesis Tests?**\n",
    "\n",
    "Could the value of the parameter be ___\n",
    "\n",
    "Use data to help support that claim.\n",
    "\n",
    "**Research Question**\n",
    "\n",
    "In the previous year 52% of parents believed that electronics and social media was the cause of their teenager’s lack of sleep**. Do more parents today** believe that their teenager’s lack of sleep is caused due to electronics and social media.\n",
    "\n",
    "Hypotheses:\n",
    "\n",
    "$H_0: p = 0.52$ (Null Hypothesis)\n",
    "\n",
    "$H_1:p >0.52$ (Alternate Hypothesis)\n",
    "\n",
    "Where p is the population proportion of parents with a teenager who believe that electronics and social media is the cause of their teenager’s lack of sleep\n",
    "\n",
    "$\\alpha$ = 0.05\n",
    "\n",
    "**Survey Results**\n",
    "\n",
    "A random sample of 1018 parents with a teenager were taken and 56% said they believe electronics and social media was the cause of their teenager’s lack of sleep.\n",
    "\n",
    "$\\hat {p} = 0.56$\n",
    "\n",
    "$p_0= 0.52$\n",
    "\n",
    "$n=1018$"
   ]
  },
  {
   "cell_type": "code",
   "execution_count": 10,
   "id": "f9aaf97c",
   "metadata": {},
   "outputs": [
    {
     "data": {
      "text/plain": [
       "0.005316510991822442"
      ]
     },
     "execution_count": 10,
     "metadata": {},
     "output_type": "execute_result"
    }
   ],
   "source": [
    "import scipy.stats\n",
    "\n",
    "def calculateStandardError(p0, n):\n",
    "    se = np.sqrt(p0 * (1-p0)/n)\n",
    "    return se\n",
    "\n",
    "def calculatePValueFromZ(Z, tail =2):\n",
    "    if tail==1:\n",
    "        pvalue = scipy.stats.norm.sf(abs(Z))\n",
    "    elif tail==2:\n",
    "        pvalue = scipy.stats.norm.sf(abs(Z))*2\n",
    "    else:\n",
    "        pvalue =None\n",
    "    return pvalue\n",
    "\n",
    "def calculateZTest(p0, phat, n ):\n",
    "    se = calculateStandardError(p0,n)\n",
    "    Z = (phat - p0)/se\n",
    "    pvalue = calculatePValueFromZ(Z, tail=1)\n",
    "    return pvalue\n",
    "\n",
    "p0=0.52\n",
    "phat = 0.56\n",
    "n=1018\n",
    "\n",
    "confidence = 0.95\n",
    "significance_level = 1-confidence\n",
    "\n",
    "calculateZTest(p0, phat, n )"
   ]
  },
  {
   "cell_type": "markdown",
   "id": "799b34a7",
   "metadata": {},
   "source": [
    "**Conclusions**\n",
    "\n",
    "p-value = 0.0053 < $\\alpha$ = 0.05\n",
    "\n",
    "Because it was less than our alpha that we set in the start, then we will reject the null hypothesis ($H_0:p = 0.52)$, or\n",
    "\n",
    "There is sufficient evidence to conclude that the population proportion of parents with a teenager who believe that electronics and social media is the cause for lack of sleep is greater than 52%"
   ]
  },
  {
   "cell_type": "markdown",
   "id": "94f71ba6",
   "metadata": {},
   "source": [
    "____"
   ]
  },
  {
   "cell_type": "markdown",
   "id": "6b4424e9",
   "metadata": {},
   "source": [
    "# Setting Up a Test of Difference in Population Proportions\n",
    "**Research Questions**\n",
    "\n",
    "Is there a significant difference between the population proportions of parents of black children and parents of Hispanic children who report that their child has had some swimming lessons?\n",
    "\n",
    "**Populations**\n",
    "\n",
    "All parents of black children aged 6-18 and all parents of Hispanic children aged 6-18\n",
    "\n",
    "**Parameter of Interest**\n",
    "\n",
    "$p_1 - p_2$ \n",
    "\n",
    "$p_1$ is a parent of black children, and $p_2$ is a parent of Hispanic children.\n",
    "\n",
    "**Objective**\n",
    "\n",
    "Test for significant difference in the population proportions of parents reporting that their child has had swimming lessons at the 10% significance level $(\\alpha = 0.10)$.\n",
    "\n",
    "**Hypotheses**\n",
    "\n",
    "$H_0: p_1 - p_2 =0$\n",
    "\n",
    "$H_a: p_1 - p_2 \\not= 0$\n",
    "\n",
    " $\\alpha = 0.10$\n",
    " \n",
    " **Survey Results**\n",
    "\n",
    "- A sample of 247 parents of black children aged 6-18 was taken with 91 saying that their child has had some swimming lessons.\n",
    "- A sample of 308 parents of Hispanic children aged 6-18 was taken with 120 saying that their child has had some swimming lessons.\n",
    " "
   ]
  },
  {
   "cell_type": "code",
   "execution_count": 11,
   "id": "e798e329",
   "metadata": {},
   "outputs": [
    {
     "data": {
      "text/plain": [
       "0.6093128715165157"
      ]
     },
     "execution_count": 11,
     "metadata": {},
     "output_type": "execute_result"
    }
   ],
   "source": [
    "def calculatePhat(n1,p1, n2,p2):\n",
    "    phat = ((n1*p1) + (n2*p2))/ (n1+n2)\n",
    "    return phat\n",
    "    \n",
    "def calculateStandardErrorTwoPopulation(phat, n1, n2):\n",
    "    se =  np.sqrt(phat * (1-phat) * ((1/n1) +(1/n2)) )\n",
    "    return se\n",
    "\n",
    "def calculateTestDifferentPopulation(n1,p1, n2,p2):\n",
    "    phat = calculatePhat(n1,p1, n2,p2)\n",
    "    se = calculateStandardErrorTwoPopulation(phat, n1, n2)\n",
    "    Z = (p1 -p2)/se\n",
    "    pvalue = calculatePValueFromZ(Z)\n",
    "    return pvalue\n",
    "    \n",
    "    \n",
    "n1 = 247\n",
    "n2 = 308\n",
    "x1 = 91\n",
    "x2 =120\n",
    "p1 = x1/n1\n",
    "p2 = x2/n2\n",
    "\n",
    "calculateTestDifferentPopulation(n1,p1, n2,p2)"
   ]
  },
  {
   "cell_type": "markdown",
   "id": "11993757",
   "metadata": {},
   "source": [
    "Notes:\n",
    "\n",
    "- A one-tailed test looks for an **“increase”** or **“decrease”** in the parameter.\n",
    "- A two-tailed test looks for a **“change”** (could be increase or decrease) in the parameter.\n",
    "\n",
    "**Decision & Conclusion**\n",
    "\n",
    "p-val =0.61 > $\\alpha = 0.10$ → Fail to reject null hypothesis → Don’t have evidence against equal population proportions.\n",
    "\n",
    "Formally, based on our sample and our p-value, we fail to reject the null hypothesis. We conclude that there is no significant difference between the population proportion of parents of black and Hispanic children who report their child has had swimming lessons.\n",
    "\n",
    "**Alternative Approaches**\n",
    "\n",
    "1. Can use Chi-Square Test.\n",
    "2. Can use Fisher’s exact Test.\n",
    "\n",
    "The chi-squared test applies an approximation assuming the sample is large, while the Fisher's exact test runs an exact procedure especially for small-sized samples"
   ]
  },
  {
   "cell_type": "markdown",
   "id": "45dbce0d",
   "metadata": {},
   "source": [
    "___"
   ]
  },
  {
   "cell_type": "markdown",
   "id": "bc41e50f",
   "metadata": {},
   "source": [
    "# **One Mean: Testing about a Population Mean with Confidence**\n",
    "\n",
    "Research Question\n",
    "\n",
    "Is the average Cartwheel distance (in inches) for adults more than 80 inches?\n",
    "\n",
    "Population: All adults\n",
    "\n",
    "Parameter of interest: Population mean cartwheel distance (μ)\n",
    "\n",
    "Perform a one-sample test regarding the value for the mean cartwheel distance for the population of all such adults.\n",
    "\n",
    "Defining Hypothesis\n",
    "\n",
    "Null: Population mean CW distance $(μ)$ in 80 Inches\n",
    "\n",
    "$H_0:μ =80$\n",
    "\n",
    "Alternative: Population mean is greater than 80 inches\n",
    "\n",
    "$H_a:μ>80$\n",
    "\n",
    "Significance Level = 5% $(\\alpha = 0.05)$\n",
    "\n",
    "**Survey Result**\n",
    "\n",
    "n=25\n",
    "\n",
    "Mean $(\\hat{X})$= 82.48\n",
    "\n",
    "Std Dev = 15.06"
   ]
  },
  {
   "cell_type": "code",
   "execution_count": 15,
   "id": "5afb8dfb",
   "metadata": {},
   "outputs": [
    {
     "data": {
      "text/plain": [
       "0.21"
      ]
     },
     "execution_count": 15,
     "metadata": {},
     "output_type": "execute_result"
    }
   ],
   "source": [
    "import scipy.stats\n",
    "\n",
    "def calculatePValueFromT(t, n, tail =2):\n",
    "    DoF=n-1\n",
    "    if tail==1:\n",
    "        pvalue = scipy.stats.t.sf(abs(t), DoF)\n",
    "    elif tail==2:\n",
    "        pvalue = scipy.stats.t.sf(abs(t), DoF)*2\n",
    "    else:\n",
    "        pvalue =None\n",
    "    return pvalue\n",
    "\n",
    "def calculateTTest(xhat, x0, std, n):\n",
    "    t = (xhat - x0)/ (std/np.sqrt(n))\n",
    "    return t\n",
    "\n",
    "\n",
    "def calculateTestPopulationMean(xhat, x0, std, n):\n",
    "    t = calculateTTest(xhat, x0, std, n)\n",
    "    pvalue = round(calculatePValueFromT(t, n, tail =1),2)\n",
    "    return pvalue\n",
    "\n",
    "xhat = 82.48\n",
    "x0 = 80\n",
    "std = 15.06\n",
    "n=25\n",
    "\n",
    "calculateTestPopulationMean(xhat, x0, std, n)"
   ]
  },
  {
   "cell_type": "markdown",
   "id": "543599f6",
   "metadata": {},
   "source": [
    "Our sample mean is only 0.82 (estimated) standard errors above null value of 80 inches.\n",
    "\n",
    "The p-value of t = 0.82 is 0.21\n",
    "\n",
    "If population mean CW distance was really 80 inches, then observing a sample mean of 82.48 inches or larger is quite likely.\n",
    "\n",
    "**Make a decision about the hypothesis.**\n",
    "\n",
    "Since our P-value is much bigger than 0.05 (our significance level), weak evidence against the nul → we fail to reject the null!\n",
    "\n",
    "Based on estimated mean (82.48 inches) we cannot support the population mean CW distance is greater than 80 inches.\n",
    "\n",
    "**What if normality doesn’t hold?**\n",
    "\n",
    "- If we are not convinced that CW Distance follows a normal distribution in population\n",
    "    \n",
    "    → We can use **non-parametric test** that does not assume normality.\n",
    "    \n",
    "- Non-parametric analog of the one sample t-test = **Wilcoxon Signed Rank Test**\n",
    "    \n",
    "    → Use **median** to examine location of distribution of measurements."
   ]
  },
  {
   "cell_type": "markdown",
   "id": "7152f3f6",
   "metadata": {},
   "source": [
    "___\n"
   ]
  },
  {
   "cell_type": "markdown",
   "id": "a95e297d",
   "metadata": {},
   "source": [
    "____\n",
    "\n",
    "## **Testing a Population Mean Difference**\n",
    "\n",
    "Research Question:\n",
    "\n",
    "Is there an **average difference** between the cabinet quotes from the suppliers?\n",
    "\n",
    "**Populations** - All houses\n",
    "\n",
    "**Parameter of Interes**t - Population mean difference of cabinet quotes $\\mu_d$\n",
    "\n",
    "$_d = Supplier A - Supplier B$\n",
    "\n",
    "Test for a significant mean difference in cabinet quotes at the 5% significance level\n",
    "\n",
    "**Hypotheses**\n",
    "\n",
    "$H_0:\\mu_d=0$\n",
    "\n",
    "$H_a:\\mu_d \\not= 0$\n",
    "\n",
    "**Data Result**\n",
    "\n",
    "n = 20\n",
    "\n",
    "Minimum Difference  = $-30\n",
    "\n",
    "Maximum Difference $90\n",
    "\n",
    "Median = $13.50\n",
    "\n",
    "Mean = $17.30\n",
    "\n",
    "Standard Deviation = $28.49"
   ]
  },
  {
   "cell_type": "code",
   "execution_count": 30,
   "id": "aade841e",
   "metadata": {},
   "outputs": [
    {
     "data": {
      "text/plain": [
       "0.013718818836080428"
      ]
     },
     "execution_count": 30,
     "metadata": {},
     "output_type": "execute_result"
    }
   ],
   "source": [
    "def calculateTPopulationMeanDiff(xhat, std, n):\n",
    "    t = (xhat - 0)/(std/np.sqrt(n))\n",
    "    return t\n",
    "\n",
    "def calculateTestPopulationMeanDiff(xhat, std, n):\n",
    "    t = calculateTPopulationMeanDiff(xhat, std, n)\n",
    "    \n",
    "    pvalue = calculatePValueFromT(t, n, tail=2)\n",
    "    return pvalue\n",
    "    \n",
    "xhat = 17.3\n",
    "std = 28.49\n",
    "n = 20\n",
    "confidence =0.95\n",
    "\n",
    "\n",
    "calculateTestPopulationMeanDiff(xhat, std, n)\n"
   ]
  },
  {
   "cell_type": "code",
   "execution_count": 25,
   "id": "73d85185",
   "metadata": {},
   "outputs": [
    {
     "name": "stdout",
     "output_type": "stream",
     "text": [
      "95% CI difference:\n",
      "3.966269561096782 30.63373043890322\n"
     ]
    }
   ],
   "source": [
    "ci = abs(calculateCIforPopulationMean(xhat, std, n, confidence))\n",
    "\n",
    "lcb = xhat -ci\n",
    "ucb = xhat +ci\n",
    "\n",
    "print('95% CI difference:')\n",
    "print(lcb, ucb)"
   ]
  },
  {
   "cell_type": "markdown",
   "id": "549583e7",
   "metadata": {},
   "source": [
    "Our observed mean difference is 2.72 (estimated) standard errors above our null value of 0 z\n",
    "\n",
    "P-value from t-distribution of 2.72 is 0.013\n",
    "\n",
    "Formally, based on our sample and our p-value, we reject the null hypothesis. We conclude that the mean difference of cabinet quote prices for supplier A less B is significantly different from 0"
   ]
  },
  {
   "cell_type": "markdown",
   "id": "1e699aa6",
   "metadata": {},
   "source": [
    "## **Testing for a Difference in Population Means (for Independent Groups)**\n",
    "\n",
    "**Research Question:**\n",
    "\n",
    "Considering Mexican-American adults (ages 18-29) living in the United States, do males have a significantly higher mean Body Mass Index than females?\n",
    "\n",
    "**Population:** Mexican-American Adults ages 18-29 in the US\n",
    "\n",
    "**Parameter of Interest** $(\\mu_1 - \\mu_2)$: Body Mass Index or BMI $(kg/m^2)$\n",
    "\n",
    "**Task**: Perform an independent samples t-test regarding the value for the difference in mean BMI between males and females\n",
    "\n",
    "**Hypotheses**\n",
    "\n",
    "$H_0: \\mu_1=\\mu_2$\n",
    "\n",
    "$H_a: \\mu_1 \\not= \\mu_2$\n",
    "\n",
    "with $\\alpha=0.05$\n",
    "\n",
    "**Summary of Statistics**\n",
    "\n",
    "|  | Male | Female |\n",
    "| --- | --- | --- |\n",
    "| Mean | 23.57 | 22.83 |\n",
    "| Std Dev | 6.24 | 6.43 |\n",
    "| n | 258 | 239 |\n",
    "\n",
    "**Calculate Test Statistic**\n",
    "\n",
    "Best Estimate: $\\hat{X}_1 - \\hat{X}_2 = 23.57-22.83=0.74$\n",
    "\n",
    "$t = \\frac {best\\space estimate - null\\space value} {estimated \\space standard \\space error}$\n",
    "\n",
    "**Two approach that we can use:**\n",
    "\n",
    "1. Pooled approach: The variance of the two populations are assumed to be equal\n",
    "2. Unpooled approach: The variance of the two populations are not equal\n",
    "\n",
    "**Calculating Test Statistic using Pooled Approach:**\n",
    "\n",
    "$t= \\frac {\\hat{x}_1 - \\hat{x}_2 - 0} {S_p \\sqrt {\\frac {1} {n_1} + \\frac {1} {n_2}}}$\n",
    "\n",
    "$S_p = \\sqrt { \\frac {{{(n_1 -1){s_1}^2} + {(n_2 -1){s_2}^2 }}} {n_1+n_2-2} }$\n",
    "\n",
    "Calculating Test Statistic using Unpooled Approach:\n",
    "\n",
    " $t = \\frac {(\\hat{X}_1 - \\hat{X}_2)-0} {\\sqrt  { {\\frac {{s_1}^2}{n_1}}  + {\\frac {{s_2}^2}{n_2}} }}$\n",
    "\n",
    "Because the IQR’s and Standard Deviations are similar, the pooled approach will be used."
   ]
  },
  {
   "cell_type": "code",
   "execution_count": 83,
   "id": "49a1c4d6",
   "metadata": {},
   "outputs": [],
   "source": [
    "def calculateStandardErrorDiffPopulationMeans(n1,s1, n2,s2):\n",
    "    sp = np.sqrt((((n1-1)*s1**2) + ((n2-1)*s2**2)) / (n1+n2-2))\n",
    "    return sp\n",
    "    \n",
    "def calculateTDiffPopulationMeans(n1,s1, n2,s2, xhat1, xhat2):\n",
    "    sp = calculateStandardErrorDiffPopulationMeans(n1,s1, n2,s2)\n",
    "    \n",
    "    t = (xhat1 -xhat2-0) / (sp * np.sqrt((1/n1+1/n2)))\n",
    "    return t\n",
    "\n",
    "def calculateTestDiffPopulationMeans(n1,s1, n2,s2, xhat1, xhat2):\n",
    "    t = calculateTDiffPopulationMeans(n1,s1, n2,s2, xhat1, xhat2)\n",
    "    pvalue = calculatePValueFromT(t, (n1+n2-1), tail=2)\n",
    "    \n",
    "    return pvalue"
   ]
  },
  {
   "cell_type": "code",
   "execution_count": 84,
   "id": "b9d1baf5",
   "metadata": {},
   "outputs": [
    {
     "data": {
      "text/plain": [
       "0.19361821996388956"
      ]
     },
     "execution_count": 84,
     "metadata": {},
     "output_type": "execute_result"
    }
   ],
   "source": [
    "n1 = 258\n",
    "n2 = 239\n",
    "\n",
    "s1 = 6.24\n",
    "s2 = 6.43\n",
    "\n",
    "xhat1 = 23.57\n",
    "xhat2 = 22.83\n",
    "\n",
    "pvalue= calculateTestDiffPopulationMeans(n1,s1, n2,s2, xhat1, xhat2)\n",
    "pvalue"
   ]
  },
  {
   "cell_type": "code",
   "execution_count": 91,
   "id": "0d4b62f2",
   "metadata": {},
   "outputs": [
    {
     "name": "stdout",
     "output_type": "stream",
     "text": [
      "-0.37693576089468217 1.8569357608946861\n"
     ]
    }
   ],
   "source": [
    "ci = calculateCIPooled(n1, s1, n2, s2, xhat1, xhat2, confidence)"
   ]
  },
  {
   "cell_type": "code",
   "execution_count": null,
   "id": "5ad8b2cb",
   "metadata": {},
   "outputs": [],
   "source": []
  }
 ],
 "metadata": {
  "kernelspec": {
   "display_name": "Python 3 (ipykernel)",
   "language": "python",
   "name": "python3"
  },
  "language_info": {
   "codemirror_mode": {
    "name": "ipython",
    "version": 3
   },
   "file_extension": ".py",
   "mimetype": "text/x-python",
   "name": "python",
   "nbconvert_exporter": "python",
   "pygments_lexer": "ipython3",
   "version": "3.10.4"
  }
 },
 "nbformat": 4,
 "nbformat_minor": 5
}
