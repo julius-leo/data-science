{
 "cells": [
  {
   "cell_type": "code",
   "execution_count": 2,
   "id": "ab288eef",
   "metadata": {},
   "outputs": [],
   "source": [
    "import pandas as pd\n",
    "import numpy as np\n",
    "import scipy.stats\n"
   ]
  },
  {
   "cell_type": "markdown",
   "id": "24760a52",
   "metadata": {},
   "source": [
    "# Estimating a population proportion with Confidence\n",
    "Confidence Interval Basics\n",
    "\n",
    "**Best Estimate ± Margin of Error**\n",
    "\n",
    "**Best Estimate** = Unbiased Point Estimate\n",
    "\n",
    "**Margin of Error** = “a Few” Estimated Standard Errors\n",
    "\n",
    "**“A Few”** = Multiplier from appropriate distribution based on desired confidence level and sample design\n",
    "\n",
    "95% Confidence Level ↔ 0.05 Significance]\n",
    "\n",
    "*For example:*\n",
    "\n",
    "What proportion of parents report they use a car seat for all travel with toddlers?\n",
    "\n",
    "**Population** - Parent with a toddler\n",
    "\n",
    "**Parameter of interest** - Proportion\n",
    "\n",
    "Construct a 95% Confidence Interval for the population proportion of parents reporting they use a car seat for all travel with their toddler.\n",
    "\n",
    "A sample of 659 parents with a toddler was taken and asked if they used a car seat for all travel with their toddler. 540 parents responded ‘Yest’ to this question."
   ]
  },
  {
   "cell_type": "code",
   "execution_count": 208,
   "id": "989cc3ae",
   "metadata": {},
   "outputs": [
    {
     "name": "stdout",
     "output_type": "stream",
     "text": [
      "Confidence Interval 0.02942320021927683\n",
      "Lower Class Boundaries: 0.7900001685212391\n",
      "Upper Class Boundaries: 0.8488465689597927\n"
     ]
    }
   ],
   "source": [
    "def calculateZ(confidence, n):\n",
    "    Z = scipy.stats.t.ppf((1 + confidence) / 2., n-1)\n",
    "    return Z\n",
    "\n",
    "def calculateCI(phat, n, confidence):\n",
    "    Z = calculateZ(confidence, n)\n",
    "    ci = Z * (np.sqrt (phat*(1-phat)/n))\n",
    "    return ci\n",
    "\n",
    "confidence = 0.95\n",
    "n = 659 #Total sample\n",
    "x = 540 #Total conversion\n",
    "\n",
    "phat = x/n\n",
    "\n",
    "\n",
    "ci = calculateCI(phat, n, confidence)\n",
    "lcb = phat -ci \n",
    "ucb = phat +ci\n",
    "\n",
    "print ('Confidence Interval',ci)\n",
    "print('Lower Class Boundaries:',lcb)\n",
    "print('Upper Class Boundaries:',ucb)"
   ]
  },
  {
   "cell_type": "markdown",
   "id": "1d1992d0",
   "metadata": {},
   "source": [
    "___\n"
   ]
  },
  {
   "cell_type": "markdown",
   "id": "c8cc7249",
   "metadata": {},
   "source": [
    "# Calculating Margin of Error and Sample Size\n",
    "Back to Car Seat example, with using conservative standard error.\n",
    "\n",
    "= p̂ **±** 2 $\\ 1\\above{1pt} 2\\sqrt n$\n",
    "\n",
    "= p̂ **±** $\\ 1\\above{1pt} \\sqrt n$\n",
    "\n",
    "(0.81, 0.89) 95% Margin of Error is only dependent on Sample Size (regardless of the p-hat)\n",
    "\n",
    "**Sample Size Determination**\n",
    "\n",
    "Margin of Error (MoE) is only dependent on:\n",
    "\n",
    "1. Our confidence level (typically 95%), and\n",
    "2. Our sample size.\n",
    "\n",
    "Having this, we could answer:\n",
    "\n",
    "**What sample size would we need to have a 95% (conservative) confidence interval with a Margin of Error of only 3% (0.03)?**"
   ]
  },
  {
   "cell_type": "code",
   "execution_count": 100,
   "id": "d058a9b6",
   "metadata": {},
   "outputs": [
    {
     "name": "stdout",
     "output_type": "stream",
     "text": [
      "Sample size(n) needed with 0.95 confidence with 0.03 Margin of Error: 1068\n"
     ]
    }
   ],
   "source": [
    "import math\n",
    "\n",
    "def calculateZCriticalPoint(confidence):\n",
    "    alpha = 1-confidence\n",
    "    Zcrit = scipy.stats.norm.ppf(1-(alpha/2))    \n",
    "    return Zcrit\n",
    "\n",
    "def calculateMoE(n, confidence):\n",
    "    zcrit = calculateZCriticalPoint(confidence)\n",
    "    MoE = zcrit * (1/(2 * np.sqrt(n)))\n",
    "    return MoE\n",
    "\n",
    "def calculateSampleSize(confidence, MoE):\n",
    "    zcrit = calculateZCriticalPoint(confidence)\n",
    "    n = math.ceil(((1.96/(2*MoE)))**2)\n",
    "    return n\n",
    "\n",
    "\n",
    "confidence = 0.95\n",
    "MoE = 0.03\n",
    "n = calculateSampleSize(0.95, 0.03)\n",
    "print('Sample size(n) needed with {0} confidence with {1} Margin of Error: {2}'.format(confidence, MoE, n))"
   ]
  },
  {
   "cell_type": "code",
   "execution_count": 101,
   "id": "7d802413",
   "metadata": {},
   "outputs": [
    {
     "data": {
      "text/plain": [
       "0.029986961979154566"
      ]
     },
     "execution_count": 101,
     "metadata": {},
     "output_type": "execute_result"
    }
   ],
   "source": [
    "calculateMoE(n, confidence)"
   ]
  },
  {
   "cell_type": "markdown",
   "id": "a69b9240",
   "metadata": {},
   "source": [
    "___\n"
   ]
  },
  {
   "cell_type": "markdown",
   "id": "80d4e755",
   "metadata": {},
   "source": [
    "## **Estimating a Difference in Population Proportions with Confidence**\n",
    "\n",
    "**Research Question:**\n",
    "\n",
    "What is the difference in population proportions of parents reporting that their children aged 6-18 have had some swimming lessons between white children and black children?\n",
    "\n",
    "**Population**:\n",
    "\n",
    "All parents of white children aged 6-18 and all parents of black children aged 6-18\n",
    "\n",
    "**Parameter of Interest**\n",
    "\n",
    "Difference in population proportions (p1-p2)\n",
    "\n",
    "p1 = White children\n",
    "\n",
    "p2 = Black children\n",
    "\n",
    "**Survey Results**\n",
    "\n",
    "- A sample of 247 parents of black children aged 6-18 was taken with 91 saying that their child has some swimming lessons.\n",
    "- A sample of 988 parents of white children aged 6-18 was taken with 543 saying that their child has had some swimming lessons.\n",
    "\n",
    "Difference in Proportion Confidence Interval\n",
    "\n",
    "**Best Estimate ± Margin of Error**\n",
    "\n",
    "p̂1 - p̂2 **±** Margin of Error\n",
    "\n",
    "p̂1 - p̂2 ± Z Score x SE (p̂1 - p̂2)\n",
    "\n",
    "p̂1 - p̂2 ± 1.96 x $\\sqrt {{p̂1(1-p̂1)\\above{1pt}n1 } + {p̂2(1-p̂2)\\above{1pt}n2}}$"
   ]
  },
  {
   "cell_type": "code",
   "execution_count": 104,
   "id": "c6cc0844",
   "metadata": {},
   "outputs": [
    {
     "data": {
      "text/plain": [
       "0.06773173792547972"
      ]
     },
     "execution_count": 104,
     "metadata": {},
     "output_type": "execute_result"
    }
   ],
   "source": [
    "def calculateMoEforDiffPopulation(phat1, phat2, n1, n2, confidence):\n",
    "    zcrit = calculateZCriticalPoint(confidence)\n",
    "    standard_error = zcrit * np.sqrt(((phat1 * (1-phat1))/n1) + ((phat2 * (1-phat2))/n2))\n",
    "    return standard_error\n",
    "\n",
    "phat1 = 0.55 #Conversion for Group 1\n",
    "phat2 = 0.37 #Conversion for Group 2\n",
    "\n",
    "n1 = 988 #Sample size for Group 1 \n",
    "n2 = 247 #Sample size for Group 2 \n",
    "\n",
    "confidence = 0.95\n",
    "calculateMoEforDiffPopulation(phat1, phat2, n1, n2, confidence)"
   ]
  },
  {
   "cell_type": "code",
   "execution_count": 127,
   "id": "605e2bc7",
   "metadata": {},
   "outputs": [
    {
     "data": {
      "text/plain": [
       "-6.2164624676235976"
      ]
     },
     "execution_count": 127,
     "metadata": {},
     "output_type": "execute_result"
    }
   ],
   "source": [
    "def calculateTCriticalPoint(confidence, n):\n",
    "    DoF = n-1\n",
    "    significance_level = 1-confidence\n",
    "    \n",
    "    Tcrit = scipy.stats.t.ppf(significance_level/2, DoF) \n",
    "    return Tcrit\n",
    "\n",
    "def calculateMoEforPopulationMean(mean, std, n, confidence):\n",
    "    T = calculateTCriticalPoint (confidence,n)\n",
    "    MoE = T * (std/np.sqrt(n))\n",
    "#     print(T, MoE)\n",
    "    return MoE\n",
    "    \n",
    "\n",
    "\n",
    "mean = 82.48\n",
    "std = 15.06\n",
    "n = 25\n",
    "confidence = 0.95\n",
    "calculateMoEforPopulationMean(mean, std, n, confidence)"
   ]
  },
  {
   "cell_type": "code",
   "execution_count": 129,
   "id": "c39baae9",
   "metadata": {},
   "outputs": [
    {
     "data": {
      "text/plain": [
       "-0.08136088396949855"
      ]
     },
     "execution_count": 129,
     "metadata": {},
     "output_type": "execute_result"
    }
   ],
   "source": [
    "mean = 0.0838\n",
    "std = 0.7627\n",
    "n = 340\n",
    "confidence = 0.95\n",
    "calculateMoEforPopulationMean(mean, std, n, confidence)"
   ]
  },
  {
   "cell_type": "code",
   "execution_count": 152,
   "id": "50f0a431",
   "metadata": {},
   "outputs": [
    {
     "name": "stdout",
     "output_type": "stream",
     "text": [
      "-0.38558930273222525 1.8655893027322292\n"
     ]
    },
    {
     "data": {
      "text/plain": [
       "1.1255893027322272"
      ]
     },
     "execution_count": 152,
     "metadata": {},
     "output_type": "execute_result"
    }
   ],
   "source": [
    "def calculateCIPooled(n1, s1, n2, s2, mean_1, mean_2, confidence):\n",
    "    n = n1+n2-2\n",
    "    t = calculateTCriticalPoint (confidence, n)\n",
    "    ci = abs(t * np.sqrt((((n1-1)*s1**2) + ((n2-1)*s2**2))/(n1+n2-2)) * (np.sqrt(1/n1 +1/n2)))\n",
    "    d = mean_1-mean_2\n",
    "    lcb = d -ci\n",
    "    ucb = d+ci\n",
    "    print(lcb, ucb)\n",
    "    return ci\n",
    "\n",
    "n1 = 258\n",
    "n2 = 239\n",
    "mean_1 = 23.57\n",
    "mean_2 = 22.83\n",
    "std1 = 6.24\n",
    "std2 = 6.43\n",
    "confidence = 0.95\n",
    "\n",
    "calculateCIPooled(n1, std1, n2, std2, mean_1, mean_2, confidence)"
   ]
  },
  {
   "cell_type": "code",
   "execution_count": 155,
   "id": "9e23ce5b",
   "metadata": {},
   "outputs": [
    {
     "name": "stdout",
     "output_type": "stream",
     "text": [
      "-0.37947651130442317 1.8594765113044271\n"
     ]
    },
    {
     "data": {
      "text/plain": [
       "1.1194765113044252"
      ]
     },
     "execution_count": 155,
     "metadata": {},
     "output_type": "execute_result"
    }
   ],
   "source": [
    "def calculateCIUnpooled(n1, s1, n2, s2, mean_1, mean_2, confidence):\n",
    "#     n = n1+n2-2\n",
    "    t = calculateTCriticalPoint (confidence, n)\n",
    "    \n",
    "    ci = abs(t * np.sqrt((s1**2/n1) + (s2**2/n2)))\n",
    "    \n",
    "    d = mean_1-mean_2\n",
    "    lcb = d -ci\n",
    "    ucb = d+ci\n",
    "    print(lcb, ucb)\n",
    "    return ci\n",
    "\n",
    "n1 = 258\n",
    "n2 = 239\n",
    "mean_1 = 23.57\n",
    "mean_2 = 22.83\n",
    "std1 = 6.24\n",
    "std2 = 6.43\n",
    "confidence = 0.95\n",
    "\n",
    "calculateCIUnpooled(n1, std1, n2, std2, mean_1, mean_2, confidence)"
   ]
  },
  {
   "cell_type": "markdown",
   "id": "fcedae3b",
   "metadata": {},
   "source": [
    "**Research Question:**\n",
    "In the previous year 52% of parents believed that electronics and social media was the cause of their teenager’s lack of sleep. Do more parents today believe that their teenager’s lack of sleep is caused due to electronics and social media.\n",
    "\n",
    "\n",
    "**Survey Results**\n",
    "A random sample of 1018 parents with a teenager were taken and 56% said they believe electronics and social media was the cause of their teenager’s lack of sleep."
   ]
  },
  {
   "cell_type": "code",
   "execution_count": 193,
   "id": "a4a4773b",
   "metadata": {},
   "outputs": [
    {
     "name": "stdout",
     "output_type": "stream",
     "text": [
      "PValue: 0.010633021983644884\n"
     ]
    },
    {
     "data": {
      "text/plain": [
       "2.5545334262132955"
      ]
     },
     "execution_count": 193,
     "metadata": {},
     "output_type": "execute_result"
    }
   ],
   "source": [
    "import scipy.stats\n",
    "\n",
    "def calculateStandardError(p0, n):\n",
    "    se = np.sqrt(p0 * (1-p0)/n)\n",
    "    return se\n",
    "\n",
    "def calculatePValueFromZ(Z, tail =2):\n",
    "    if tail==1:\n",
    "        pvalue = scipy.stats.norm.sf(abs(Z))\n",
    "    elif tail==2:\n",
    "        pvalue = scipy.stats.norm.sf(abs(Z))*2\n",
    "    else:\n",
    "        pvalue =None\n",
    "    return pvalue\n",
    "\n",
    "def calculateZTest(p0, phat, n ):\n",
    "    se = calculateStandardError(p0,n)\n",
    "    Z = (phat - p0)/se\n",
    "    pvalue = calculatePValueFromZ(Z)\n",
    "    print('PValue:',pvalue)\n",
    "    return Z\n",
    "\n",
    "p0=0.52\n",
    "phat = 0.56\n",
    "n=1018\n",
    "\n",
    "confidence = 0.95\n",
    "significance_level = 1-confidence\n",
    "\n",
    "calculateZTest(p0, phat, n )"
   ]
  },
  {
   "cell_type": "markdown",
   "id": "69144a6b",
   "metadata": {},
   "source": [
    "**Conclusions**\n",
    "\n",
    "p-value = 0.0053 < $\\alpha$ = 0.05\n",
    "\n",
    "Because it was less than our alpha that we set in the start, then we will reject the null hypothesis ($H_0:p = 0.52)$, or\n",
    "\n",
    "There is sufficient evidence to conclude that the population proportion of parents with a teenager who believe that electronics and social media is the cause for lack of sleep is greater than 52%"
   ]
  },
  {
   "cell_type": "markdown",
   "id": "f12291b6",
   "metadata": {},
   "source": [
    "____"
   ]
  },
  {
   "cell_type": "markdown",
   "id": "6c2b3957",
   "metadata": {},
   "source": [
    "# Setting Up a Test of Difference in Population Proportions\n",
    "**Research Questions**\n",
    "\n",
    "Is there a significant difference between the population proportions of parents of black children and parents of Hispanic children who report that their child has had some swimming lessons?\n",
    "\n",
    "**Populations**\n",
    "\n",
    "All parents of black children aged 6-18 and all parents of Hispanic children aged 6-18\n",
    "\n",
    "**Parameter of Interest**\n",
    "\n",
    "$p_1 - p_2$ \n",
    "\n",
    "$p_1$ is a parent of black children, and $p_2$ is a parent of Hispanic children.\n",
    "\n",
    "**Objective**\n",
    "\n",
    "Test for significant difference in the population proportions of parents reporting that their child has had swimming lessons at the 10% significance level $(\\alpha = 0.10)$.\n",
    "\n",
    "**Hypotheses**\n",
    "\n",
    "$H_0: p_1 - p_2 =0$\n",
    "\n",
    "$H_a: p_1 - p_2 \\not= 0$\n",
    "\n",
    " $\\alpha = 0.10$\n",
    " \n",
    " **Survey Results**\n",
    "\n",
    "- A sample of 247 parents of black children aged 6-18 was taken with 91 saying that their child has had some swimming lessons.\n",
    "- A sample of 308 parents of Hispanic children aged 6-18 was taken with 120 saying that their child has had some swimming lessons.\n",
    " "
   ]
  },
  {
   "cell_type": "code",
   "execution_count": 198,
   "id": "3d75eef1",
   "metadata": {},
   "outputs": [
    {
     "data": {
      "text/plain": [
       "0.6093128715165157"
      ]
     },
     "execution_count": 198,
     "metadata": {},
     "output_type": "execute_result"
    }
   ],
   "source": [
    "def calculatePhat(n1,p1, n2,p2):\n",
    "    phat = ((n1*p1) + (n2*p2))/ (n1+n2)\n",
    "    return phat\n",
    "    \n",
    "def calculateStandardErrorTwoPopulation(phat, n1, n2):\n",
    "    se =  np.sqrt(phat * (1-phat) * ((1/n1) +(1/n2)) )\n",
    "    return se\n",
    "\n",
    "def calculateTestDifferentPopulation(n1,p1, n2,p2):\n",
    "    phat = calculatePhat(n1,p1, n2,p2)\n",
    "    se = calculateStandardErrorTwoPopulation(phat, n1, n2)\n",
    "    Z = (p1 -p2)/se\n",
    "    pvalue = calculatePValueFromZ(Z)\n",
    "    return pvalue\n",
    "    \n",
    "    \n",
    "n1 = 247\n",
    "n2 = 308\n",
    "x1 = 91\n",
    "x2 =120\n",
    "p1 = x1/n1\n",
    "p2 = x2/n2\n",
    "\n",
    "calculateTestDifferentPopulation(n1,p1, n2,p2)"
   ]
  },
  {
   "cell_type": "markdown",
   "id": "143d87f0",
   "metadata": {},
   "source": [
    "Notes:\n",
    "\n",
    "- A one-tailed test looks for an **“increase”** or **“decrease”** in the parameter.\n",
    "- A two-tailed test looks for a **“change”** (could be increase or decrease) in the parameter.\n",
    "\n",
    "**Decision & Conclusion**\n",
    "\n",
    "p-val =0.61 > $\\alpha = 0.10$ → Fail to reject null hypothesis → Don’t have evidence against equal population proportions.\n",
    "\n",
    "Formally, based on our sample and our p-value, we fail to reject the null hypothesis. We conclude that there is no significant difference between the population proportion of parents of black and Hispanic children who report their child has had swimming lessons.\n",
    "\n",
    "**Alternative Approaches**\n",
    "\n",
    "1. Can use Chi-Square Test.\n",
    "2. Can use Fisher’s exact Test.\n",
    "\n",
    "The chi-squared test applies an approximation assuming the sample is large, while the Fisher's exact test runs an exact procedure especially for small-sized samples"
   ]
  },
  {
   "cell_type": "markdown",
   "id": "60e755ba",
   "metadata": {},
   "source": [
    "___"
   ]
  },
  {
   "cell_type": "markdown",
   "id": "5acf1d2f",
   "metadata": {},
   "source": [
    "# **One Mean: Testing about a Population Mean with Confidence**\n",
    "\n",
    "Research Question\n",
    "\n",
    "Is the average Cartwheel distance (in inches) for adults more than 80 inches?\n",
    "\n",
    "Population: All adults\n",
    "\n",
    "Parameter of interest: Population mean cartwheel distance (μ)\n",
    "\n",
    "Perform a one-sample test regarding the value for the mean cartwheel distance for the population of all such adults.\n",
    "\n",
    "Defining Hypothesis\n",
    "\n",
    "Null: Population mean CW distance $(μ)$ in 80 Inches\n",
    "\n",
    "$H_0:μ =80$\n",
    "\n",
    "Alternative: Population mean is greater than 80 inches\n",
    "\n",
    "$H_a:μ>80$\n",
    "\n",
    "Significance Level = 5% $(\\alpha = 0.05)$\n",
    "\n",
    "**Survey Result**\n",
    "\n",
    "n=25\n",
    "\n",
    "Mean $(\\hat{X})$= 82.48\n",
    "\n",
    "Std Dev = 15.06"
   ]
  },
  {
   "cell_type": "code",
   "execution_count": 206,
   "id": "996ab69f",
   "metadata": {},
   "outputs": [
    {
     "data": {
      "text/plain": [
       "0.21"
      ]
     },
     "execution_count": 206,
     "metadata": {},
     "output_type": "execute_result"
    }
   ],
   "source": [
    "import scipy.stats\n",
    "\n",
    "def calculatePValueFromT(t, tail =2):\n",
    "    DoF=n-1\n",
    "    if tail==1:\n",
    "        pvalue = scipy.stats.t.sf(abs(t), DoF)\n",
    "    elif tail==2:\n",
    "        pvalue = scipy.stats.t.sf(abs(t), DoF)*2\n",
    "    else:\n",
    "        pvalue =None\n",
    "    return pvalue\n",
    "\n",
    "def calculateTTest(xhat, x0, std, n):\n",
    "    t = (xhat - x0)/ (std/np.sqrt(n))\n",
    "    return t\n",
    "\n",
    "\n",
    "def calculateTestPopulationMean(xhat, x0, std, n):\n",
    "    t = calculateTTest(xhat, x0, std, n)\n",
    "    pvalue = round(calculatePValueFromT(t, tail =1),2)\n",
    "    return pvalue\n",
    "\n",
    "xhat = 82.48\n",
    "x0 = 80\n",
    "std = 15.06\n",
    "n=25\n",
    "\n",
    "calculateTestPopulationMean(xhat, x0, std, n)"
   ]
  },
  {
   "cell_type": "markdown",
   "id": "fcee7366",
   "metadata": {},
   "source": [
    "Our sample mean is only 0.82 (estimated) standard errors above null value of 80 inches.\n",
    "\n",
    "The p-value of t = 0.82 is 0.21\n",
    "\n",
    "If population mean CW distance was really 80 inches, then observing a sample mean of 82.48 inches or larger is quite likely.\n",
    "\n",
    "**Make a decision about the hypothesis.**\n",
    "\n",
    "Since our P-value is much bigger than 0.05 (our significance level), weak evidence against the nul → we fail to reject the null!\n",
    "\n",
    "Based on estimated mean (82.48 inches) we cannot support the population mean CW distance is greater than 80 inches.\n",
    "\n",
    "**What if normality doesn’t hold?**\n",
    "\n",
    "- If we are not convinced that CW Distance follows a normal distribution in population\n",
    "    \n",
    "    → We can use **non-parametric test** that does not assume normality.\n",
    "    \n",
    "- Non-parametric analog of the one sample t-test = **Wilcoxon Signed Rank Test**\n",
    "    \n",
    "    → Use **median** to examine location of distribution of measurements."
   ]
  },
  {
   "cell_type": "markdown",
   "id": "4e17cdac",
   "metadata": {},
   "source": [
    "___\n"
   ]
  },
  {
   "cell_type": "code",
   "execution_count": null,
   "id": "5b784f38",
   "metadata": {},
   "outputs": [],
   "source": []
  }
 ],
 "metadata": {
  "kernelspec": {
   "display_name": "Python 3 (ipykernel)",
   "language": "python",
   "name": "python3"
  },
  "language_info": {
   "codemirror_mode": {
    "name": "ipython",
    "version": 3
   },
   "file_extension": ".py",
   "mimetype": "text/x-python",
   "name": "python",
   "nbconvert_exporter": "python",
   "pygments_lexer": "ipython3",
   "version": "3.10.4"
  }
 },
 "nbformat": 4,
 "nbformat_minor": 5
}
