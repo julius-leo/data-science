{
 "cells": [
  {
   "cell_type": "code",
   "execution_count": 10,
   "id": "887311a9",
   "metadata": {},
   "outputs": [],
   "source": [
    "import pandas as pd\n",
    "import numpy as np\n",
    "import datetime\n"
   ]
  },
  {
   "cell_type": "code",
   "execution_count": 42,
   "id": "fba4b881",
   "metadata": {},
   "outputs": [
    {
     "name": "stdout",
     "output_type": "stream",
     "text": [
      "(2060, 6)\n"
     ]
    },
    {
     "data": {
      "text/html": [
       "<div>\n",
       "<style scoped>\n",
       "    .dataframe tbody tr th:only-of-type {\n",
       "        vertical-align: middle;\n",
       "    }\n",
       "\n",
       "    .dataframe tbody tr th {\n",
       "        vertical-align: top;\n",
       "    }\n",
       "\n",
       "    .dataframe thead th {\n",
       "        text-align: right;\n",
       "    }\n",
       "</style>\n",
       "<table border=\"1\" class=\"dataframe\">\n",
       "  <thead>\n",
       "    <tr style=\"text-align: right;\">\n",
       "      <th></th>\n",
       "      <th>trx_date</th>\n",
       "      <th>trx_month</th>\n",
       "      <th>category</th>\n",
       "      <th>amount</th>\n",
       "      <th>note</th>\n",
       "      <th>author</th>\n",
       "    </tr>\n",
       "  </thead>\n",
       "  <tbody>\n",
       "    <tr>\n",
       "      <th>0</th>\n",
       "      <td>2021-02-11</td>\n",
       "      <td>2021-02-01</td>\n",
       "      <td>Food &amp; Drink</td>\n",
       "      <td>79000.0</td>\n",
       "      <td>Breakfast Mie Asoy</td>\n",
       "      <td>Leo</td>\n",
       "    </tr>\n",
       "    <tr>\n",
       "      <th>1</th>\n",
       "      <td>2021-02-11</td>\n",
       "      <td>2021-02-01</td>\n",
       "      <td>Gifts</td>\n",
       "      <td>21000.0</td>\n",
       "      <td>Gosend pie susu nina &amp; melissa</td>\n",
       "      <td>Sonia P</td>\n",
       "    </tr>\n",
       "    <tr>\n",
       "      <th>2</th>\n",
       "      <td>2021-02-11</td>\n",
       "      <td>2021-02-01</td>\n",
       "      <td>Transport</td>\n",
       "      <td>1100000.0</td>\n",
       "      <td>Servis Mobil</td>\n",
       "      <td>Leo</td>\n",
       "    </tr>\n",
       "    <tr>\n",
       "      <th>3</th>\n",
       "      <td>2021-02-11</td>\n",
       "      <td>2021-02-01</td>\n",
       "      <td>Food &amp; Drink</td>\n",
       "      <td>81000.0</td>\n",
       "      <td>Lunch waroenk kito</td>\n",
       "      <td>Sonia P</td>\n",
       "    </tr>\n",
       "    <tr>\n",
       "      <th>4</th>\n",
       "      <td>2021-02-12</td>\n",
       "      <td>2021-02-01</td>\n",
       "      <td>Groceries</td>\n",
       "      <td>90000.0</td>\n",
       "      <td>Hypermart - BBQ sinchia</td>\n",
       "      <td>Leo</td>\n",
       "    </tr>\n",
       "  </tbody>\n",
       "</table>\n",
       "</div>"
      ],
      "text/plain": [
       "     trx_date  trx_month      category     amount  \\\n",
       "0  2021-02-11 2021-02-01  Food & Drink    79000.0   \n",
       "1  2021-02-11 2021-02-01         Gifts    21000.0   \n",
       "2  2021-02-11 2021-02-01     Transport  1100000.0   \n",
       "3  2021-02-11 2021-02-01  Food & Drink    81000.0   \n",
       "4  2021-02-12 2021-02-01     Groceries    90000.0   \n",
       "\n",
       "                             note   author  \n",
       "0              Breakfast Mie Asoy      Leo  \n",
       "1  Gosend pie susu nina & melissa  Sonia P  \n",
       "2                    Servis Mobil      Leo  \n",
       "3              Lunch waroenk kito  Sonia P  \n",
       "4         Hypermart - BBQ sinchia      Leo  "
      ]
     },
     "execution_count": 42,
     "metadata": {},
     "output_type": "execute_result"
    }
   ],
   "source": [
    "data = pd.read_csv('../data/data.csv').drop(columns={'Currency', 'Type', 'Labels', 'Wallet'}).rename(columns={\n",
    "    'Date':'date_utc',\n",
    "    'Category name':'category'})\n",
    "\n",
    "data.columns= data.columns.str.lower()\n",
    "data['trx_date'] = pd.to_datetime(data.date_utc, format=\"%Y-%m-%dT%H:%M:%S\"\n",
    "                                 ).dt.tz_convert('Asia/Jakarta').dt.date\n",
    "\n",
    "data['trx_month'] = pd.to_datetime(data.trx_date, format=\"%Y-%m-%d\"\n",
    "                                  ).dt.to_period('M').apply(lambda r:r.start_time)\n",
    "\n",
    "data['amount']=-data['amount']\n",
    "data = data[data.amount>0][['trx_date', 'trx_month', 'category', 'amount', 'note', 'author']]\n",
    "print(data.shape)\n",
    "data.head()"
   ]
  },
  {
   "cell_type": "code",
   "execution_count": 28,
   "id": "4bbd9a15",
   "metadata": {
    "scrolled": true
   },
   "outputs": [
    {
     "data": {
      "text/html": [
       "<div>\n",
       "<style scoped>\n",
       "    .dataframe tbody tr th:only-of-type {\n",
       "        vertical-align: middle;\n",
       "    }\n",
       "\n",
       "    .dataframe tbody tr th {\n",
       "        vertical-align: top;\n",
       "    }\n",
       "\n",
       "    .dataframe thead th {\n",
       "        text-align: right;\n",
       "    }\n",
       "</style>\n",
       "<table border=\"1\" class=\"dataframe\">\n",
       "  <thead>\n",
       "    <tr style=\"text-align: right;\">\n",
       "      <th></th>\n",
       "      <th>id</th>\n",
       "      <th>trx_date</th>\n",
       "      <th>trx_month</th>\n",
       "      <th>category</th>\n",
       "      <th>amount</th>\n",
       "      <th>note</th>\n",
       "      <th>author</th>\n",
       "    </tr>\n",
       "  </thead>\n",
       "  <tbody>\n",
       "    <tr>\n",
       "      <th>0</th>\n",
       "      <td>1</td>\n",
       "      <td>2022-01-01</td>\n",
       "      <td>2022-01-01</td>\n",
       "      <td>Bills &amp; Fees</td>\n",
       "      <td>984993.0</td>\n",
       "      <td>Maintenance Belmont</td>\n",
       "      <td>Leo</td>\n",
       "    </tr>\n",
       "    <tr>\n",
       "      <th>1</th>\n",
       "      <td>2</td>\n",
       "      <td>2022-01-01</td>\n",
       "      <td>2022-01-01</td>\n",
       "      <td>Nami</td>\n",
       "      <td>218300.0</td>\n",
       "      <td>Tissue, tissue basah, sleek</td>\n",
       "      <td>Sonia P</td>\n",
       "    </tr>\n",
       "    <tr>\n",
       "      <th>2</th>\n",
       "      <td>3</td>\n",
       "      <td>2022-01-01</td>\n",
       "      <td>2022-01-01</td>\n",
       "      <td>Food &amp; Drink</td>\n",
       "      <td>70000.0</td>\n",
       "      <td>Mamat</td>\n",
       "      <td>Leo</td>\n",
       "    </tr>\n",
       "    <tr>\n",
       "      <th>3</th>\n",
       "      <td>4</td>\n",
       "      <td>2022-01-01</td>\n",
       "      <td>2022-01-01</td>\n",
       "      <td>Shopping</td>\n",
       "      <td>74000.0</td>\n",
       "      <td>Bumbu tomyum</td>\n",
       "      <td>Leo</td>\n",
       "    </tr>\n",
       "    <tr>\n",
       "      <th>4</th>\n",
       "      <td>5</td>\n",
       "      <td>2022-01-02</td>\n",
       "      <td>2022-01-01</td>\n",
       "      <td>Food &amp; Drink</td>\n",
       "      <td>72500.0</td>\n",
       "      <td>Mcd</td>\n",
       "      <td>Leo</td>\n",
       "    </tr>\n",
       "  </tbody>\n",
       "</table>\n",
       "</div>"
      ],
      "text/plain": [
       "   id    trx_date  trx_month      category    amount  \\\n",
       "0   1  2022-01-01 2022-01-01  Bills & Fees  984993.0   \n",
       "1   2  2022-01-01 2022-01-01          Nami  218300.0   \n",
       "2   3  2022-01-01 2022-01-01  Food & Drink   70000.0   \n",
       "3   4  2022-01-01 2022-01-01      Shopping   74000.0   \n",
       "4   5  2022-01-02 2022-01-01  Food & Drink   72500.0   \n",
       "\n",
       "                          note   author  \n",
       "0          Maintenance Belmont      Leo  \n",
       "1  Tissue, tissue basah, sleek  Sonia P  \n",
       "2                        Mamat      Leo  \n",
       "3                 Bumbu tomyum      Leo  \n",
       "4                          Mcd      Leo  "
      ]
     },
     "execution_count": 28,
     "metadata": {},
     "output_type": "execute_result"
    }
   ],
   "source": [
    "df = data[(data.trx_month>='2022-01-01') & (data.trx_month<='2022-12-01')].reset_index(drop=True)\n",
    "df=df.reset_index().rename(columns={'index':'id'})\n",
    "df['id']+=1\n",
    "df.head()"
   ]
  },
  {
   "cell_type": "code",
   "execution_count": 50,
   "id": "77c66aea",
   "metadata": {
    "scrolled": true
   },
   "outputs": [
    {
     "data": {
      "text/html": [
       "<div>\n",
       "<style scoped>\n",
       "    .dataframe tbody tr th:only-of-type {\n",
       "        vertical-align: middle;\n",
       "    }\n",
       "\n",
       "    .dataframe tbody tr th {\n",
       "        vertical-align: top;\n",
       "    }\n",
       "\n",
       "    .dataframe thead th {\n",
       "        text-align: right;\n",
       "    }\n",
       "</style>\n",
       "<table border=\"1\" class=\"dataframe\">\n",
       "  <thead>\n",
       "    <tr style=\"text-align: right;\">\n",
       "      <th></th>\n",
       "      <th>id</th>\n",
       "      <th>trx_date</th>\n",
       "      <th>trx_month</th>\n",
       "      <th>category</th>\n",
       "      <th>amount</th>\n",
       "      <th>note</th>\n",
       "      <th>author</th>\n",
       "    </tr>\n",
       "  </thead>\n",
       "  <tbody>\n",
       "    <tr>\n",
       "      <th>924</th>\n",
       "      <td>925</td>\n",
       "      <td>2022-10-01</td>\n",
       "      <td>2022-10-01</td>\n",
       "      <td>Transport</td>\n",
       "      <td>3500.0</td>\n",
       "      <td>Grab nina</td>\n",
       "      <td>Sonia P</td>\n",
       "    </tr>\n",
       "    <tr>\n",
       "      <th>1131</th>\n",
       "      <td>1132</td>\n",
       "      <td>2022-11-21</td>\n",
       "      <td>2022-11-01</td>\n",
       "      <td>Travel</td>\n",
       "      <td>9000.0</td>\n",
       "      <td>Roaming Leo</td>\n",
       "      <td>Leo</td>\n",
       "    </tr>\n",
       "    <tr>\n",
       "      <th>778</th>\n",
       "      <td>779</td>\n",
       "      <td>2022-08-28</td>\n",
       "      <td>2022-08-01</td>\n",
       "      <td>Food &amp; Drink</td>\n",
       "      <td>12000.0</td>\n",
       "      <td>McD</td>\n",
       "      <td>Leo</td>\n",
       "    </tr>\n",
       "    <tr>\n",
       "      <th>890</th>\n",
       "      <td>891</td>\n",
       "      <td>2022-09-24</td>\n",
       "      <td>2022-09-01</td>\n",
       "      <td>Transport</td>\n",
       "      <td>13000.0</td>\n",
       "      <td>Parkir lippo</td>\n",
       "      <td>Leo</td>\n",
       "    </tr>\n",
       "    <tr>\n",
       "      <th>786</th>\n",
       "      <td>787</td>\n",
       "      <td>2022-08-29</td>\n",
       "      <td>2022-08-01</td>\n",
       "      <td>Food &amp; Drink</td>\n",
       "      <td>14400.0</td>\n",
       "      <td>Suki</td>\n",
       "      <td>Leo</td>\n",
       "    </tr>\n",
       "    <tr>\n",
       "      <th>...</th>\n",
       "      <td>...</td>\n",
       "      <td>...</td>\n",
       "      <td>...</td>\n",
       "      <td>...</td>\n",
       "      <td>...</td>\n",
       "      <td>...</td>\n",
       "      <td>...</td>\n",
       "    </tr>\n",
       "    <tr>\n",
       "      <th>734</th>\n",
       "      <td>735</td>\n",
       "      <td>2022-08-13</td>\n",
       "      <td>2022-08-01</td>\n",
       "      <td>Travel</td>\n",
       "      <td>2724637.0</td>\n",
       "      <td>Puncak Pass Stay 2Nights</td>\n",
       "      <td>Leo</td>\n",
       "    </tr>\n",
       "    <tr>\n",
       "      <th>172</th>\n",
       "      <td>173</td>\n",
       "      <td>2022-02-23</td>\n",
       "      <td>2022-02-01</td>\n",
       "      <td>Healthcare</td>\n",
       "      <td>3000000.0</td>\n",
       "      <td>Allianz</td>\n",
       "      <td>Leo</td>\n",
       "    </tr>\n",
       "    <tr>\n",
       "      <th>64</th>\n",
       "      <td>65</td>\n",
       "      <td>2022-01-29</td>\n",
       "      <td>2022-01-01</td>\n",
       "      <td>Healthcare</td>\n",
       "      <td>3000000.0</td>\n",
       "      <td>Allianz</td>\n",
       "      <td>Leo</td>\n",
       "    </tr>\n",
       "    <tr>\n",
       "      <th>249</th>\n",
       "      <td>250</td>\n",
       "      <td>2022-03-16</td>\n",
       "      <td>2022-03-01</td>\n",
       "      <td>Food &amp; Drink</td>\n",
       "      <td>3330000.0</td>\n",
       "      <td>Dapurfit sonia</td>\n",
       "      <td>Sonia P</td>\n",
       "    </tr>\n",
       "    <tr>\n",
       "      <th>896</th>\n",
       "      <td>897</td>\n",
       "      <td>2022-09-25</td>\n",
       "      <td>2022-09-01</td>\n",
       "      <td>Travel</td>\n",
       "      <td>3621600.0</td>\n",
       "      <td>Lojel Cubo Cabin Size</td>\n",
       "      <td>Leo</td>\n",
       "    </tr>\n",
       "  </tbody>\n",
       "</table>\n",
       "<p>1290 rows × 7 columns</p>\n",
       "</div>"
      ],
      "text/plain": [
       "        id    trx_date  trx_month      category     amount  \\\n",
       "924    925  2022-10-01 2022-10-01     Transport     3500.0   \n",
       "1131  1132  2022-11-21 2022-11-01        Travel     9000.0   \n",
       "778    779  2022-08-28 2022-08-01  Food & Drink    12000.0   \n",
       "890    891  2022-09-24 2022-09-01     Transport    13000.0   \n",
       "786    787  2022-08-29 2022-08-01  Food & Drink    14400.0   \n",
       "...    ...         ...        ...           ...        ...   \n",
       "734    735  2022-08-13 2022-08-01        Travel  2724637.0   \n",
       "172    173  2022-02-23 2022-02-01    Healthcare  3000000.0   \n",
       "64      65  2022-01-29 2022-01-01    Healthcare  3000000.0   \n",
       "249    250  2022-03-16 2022-03-01  Food & Drink  3330000.0   \n",
       "896    897  2022-09-25 2022-09-01        Travel  3621600.0   \n",
       "\n",
       "                          note   author  \n",
       "924                  Grab nina  Sonia P  \n",
       "1131               Roaming Leo      Leo  \n",
       "778                        McD      Leo  \n",
       "890              Parkir lippo       Leo  \n",
       "786                       Suki      Leo  \n",
       "...                        ...      ...  \n",
       "734   Puncak Pass Stay 2Nights      Leo  \n",
       "172                    Allianz      Leo  \n",
       "64                     Allianz      Leo  \n",
       "249             Dapurfit sonia  Sonia P  \n",
       "896      Lojel Cubo Cabin Size      Leo  \n",
       "\n",
       "[1290 rows x 7 columns]"
      ]
     },
     "execution_count": 50,
     "metadata": {},
     "output_type": "execute_result"
    }
   ],
   "source": [
    "df.sort_values('amount')"
   ]
  },
  {
   "cell_type": "code",
   "execution_count": 39,
   "id": "b6e5fac7",
   "metadata": {},
   "outputs": [
    {
     "data": {
      "text/html": [
       "<div>\n",
       "<style scoped>\n",
       "    .dataframe tbody tr th:only-of-type {\n",
       "        vertical-align: middle;\n",
       "    }\n",
       "\n",
       "    .dataframe tbody tr th {\n",
       "        vertical-align: top;\n",
       "    }\n",
       "\n",
       "    .dataframe thead th {\n",
       "        text-align: right;\n",
       "    }\n",
       "</style>\n",
       "<table border=\"1\" class=\"dataframe\">\n",
       "  <thead>\n",
       "    <tr style=\"text-align: right;\">\n",
       "      <th></th>\n",
       "      <th>category</th>\n",
       "      <th>amount</th>\n",
       "      <th>trx</th>\n",
       "      <th>trx_date</th>\n",
       "      <th>amount_per_trx</th>\n",
       "    </tr>\n",
       "  </thead>\n",
       "  <tbody>\n",
       "    <tr>\n",
       "      <th>0</th>\n",
       "      <td>Nami</td>\n",
       "      <td>45670800.0</td>\n",
       "      <td>156</td>\n",
       "      <td>2022-12-28</td>\n",
       "      <td>292761</td>\n",
       "    </tr>\n",
       "    <tr>\n",
       "      <th>1</th>\n",
       "      <td>Food &amp; Drink</td>\n",
       "      <td>45116012.0</td>\n",
       "      <td>486</td>\n",
       "      <td>2022-12-31</td>\n",
       "      <td>92831</td>\n",
       "    </tr>\n",
       "    <tr>\n",
       "      <th>2</th>\n",
       "      <td>Transport</td>\n",
       "      <td>20671027.0</td>\n",
       "      <td>73</td>\n",
       "      <td>2022-12-29</td>\n",
       "      <td>283164</td>\n",
       "    </tr>\n",
       "    <tr>\n",
       "      <th>3</th>\n",
       "      <td>Groceries</td>\n",
       "      <td>20419569.0</td>\n",
       "      <td>104</td>\n",
       "      <td>2022-12-31</td>\n",
       "      <td>196342</td>\n",
       "    </tr>\n",
       "    <tr>\n",
       "      <th>4</th>\n",
       "      <td>Healthcare</td>\n",
       "      <td>16540189.0</td>\n",
       "      <td>33</td>\n",
       "      <td>2022-12-24</td>\n",
       "      <td>501217</td>\n",
       "    </tr>\n",
       "  </tbody>\n",
       "</table>\n",
       "</div>"
      ],
      "text/plain": [
       "       category      amount  trx    trx_date  amount_per_trx\n",
       "0          Nami  45670800.0  156  2022-12-28          292761\n",
       "1  Food & Drink  45116012.0  486  2022-12-31           92831\n",
       "2     Transport  20671027.0   73  2022-12-29          283164\n",
       "3     Groceries  20419569.0  104  2022-12-31          196342\n",
       "4    Healthcare  16540189.0   33  2022-12-24          501217"
      ]
     },
     "execution_count": 39,
     "metadata": {},
     "output_type": "execute_result"
    }
   ],
   "source": [
    "category = df.groupby(['category']).agg(\n",
    "    {'amount':'sum', 'id':'count', 'trx_date':'max'}\n",
    ").sort_values('amount', ascending=False).reset_index().rename(columns={'id':'trx'})\n",
    "\n",
    "category = category[category!='Maternity']\n",
    "category['amount_per_trx'] = (category.amount/category.trx).astype(int)\n",
    "category.head()"
   ]
  },
  {
   "cell_type": "code",
   "execution_count": 52,
   "id": "96b47507",
   "metadata": {},
   "outputs": [
    {
     "data": {
      "application/vnd.plotly.v1+json": {
       "config": {
        "plotlyServerURL": "https://plot.ly"
       },
       "data": [
        {
         "alignmentgroup": "True",
         "hovertemplate": "category=%{x}<br>amount=%{y}<extra></extra>",
         "legendgroup": "",
         "marker": {
          "color": "#636efa",
          "pattern": {
           "shape": ""
          }
         },
         "name": "",
         "offsetgroup": "",
         "orientation": "v",
         "showlegend": false,
         "textposition": "auto",
         "type": "bar",
         "x": [
          "Nami",
          "Food & Drink",
          "Transport",
          "Groceries",
          "Healthcare",
          "Bills & Fees",
          "Shopping",
          "Home",
          "Travel",
          "Coffee",
          "Snack",
          "Entertainment",
          "Gifts",
          "Drink",
          "Laundry",
          null,
          "Books",
          "Gadget",
          "Other"
         ],
         "xaxis": "x",
         "y": [
          45670800,
          45116012,
          20671027,
          20419569,
          16540189,
          15929652,
          14035604,
          11688272,
          8868147,
          8509693,
          6756561,
          5185508,
          4043633,
          1536230,
          871000,
          511000,
          245000,
          235400,
          100533
         ],
         "yaxis": "y"
        }
       ],
       "layout": {
        "barmode": "relative",
        "legend": {
         "tracegroupgap": 0
        },
        "margin": {
         "t": 60
        },
        "template": {
         "data": {
          "bar": [
           {
            "error_x": {
             "color": "#2a3f5f"
            },
            "error_y": {
             "color": "#2a3f5f"
            },
            "marker": {
             "line": {
              "color": "#E5ECF6",
              "width": 0.5
             },
             "pattern": {
              "fillmode": "overlay",
              "size": 10,
              "solidity": 0.2
             }
            },
            "type": "bar"
           }
          ],
          "barpolar": [
           {
            "marker": {
             "line": {
              "color": "#E5ECF6",
              "width": 0.5
             },
             "pattern": {
              "fillmode": "overlay",
              "size": 10,
              "solidity": 0.2
             }
            },
            "type": "barpolar"
           }
          ],
          "carpet": [
           {
            "aaxis": {
             "endlinecolor": "#2a3f5f",
             "gridcolor": "white",
             "linecolor": "white",
             "minorgridcolor": "white",
             "startlinecolor": "#2a3f5f"
            },
            "baxis": {
             "endlinecolor": "#2a3f5f",
             "gridcolor": "white",
             "linecolor": "white",
             "minorgridcolor": "white",
             "startlinecolor": "#2a3f5f"
            },
            "type": "carpet"
           }
          ],
          "choropleth": [
           {
            "colorbar": {
             "outlinewidth": 0,
             "ticks": ""
            },
            "type": "choropleth"
           }
          ],
          "contour": [
           {
            "colorbar": {
             "outlinewidth": 0,
             "ticks": ""
            },
            "colorscale": [
             [
              0,
              "#0d0887"
             ],
             [
              0.1111111111111111,
              "#46039f"
             ],
             [
              0.2222222222222222,
              "#7201a8"
             ],
             [
              0.3333333333333333,
              "#9c179e"
             ],
             [
              0.4444444444444444,
              "#bd3786"
             ],
             [
              0.5555555555555556,
              "#d8576b"
             ],
             [
              0.6666666666666666,
              "#ed7953"
             ],
             [
              0.7777777777777778,
              "#fb9f3a"
             ],
             [
              0.8888888888888888,
              "#fdca26"
             ],
             [
              1,
              "#f0f921"
             ]
            ],
            "type": "contour"
           }
          ],
          "contourcarpet": [
           {
            "colorbar": {
             "outlinewidth": 0,
             "ticks": ""
            },
            "type": "contourcarpet"
           }
          ],
          "heatmap": [
           {
            "colorbar": {
             "outlinewidth": 0,
             "ticks": ""
            },
            "colorscale": [
             [
              0,
              "#0d0887"
             ],
             [
              0.1111111111111111,
              "#46039f"
             ],
             [
              0.2222222222222222,
              "#7201a8"
             ],
             [
              0.3333333333333333,
              "#9c179e"
             ],
             [
              0.4444444444444444,
              "#bd3786"
             ],
             [
              0.5555555555555556,
              "#d8576b"
             ],
             [
              0.6666666666666666,
              "#ed7953"
             ],
             [
              0.7777777777777778,
              "#fb9f3a"
             ],
             [
              0.8888888888888888,
              "#fdca26"
             ],
             [
              1,
              "#f0f921"
             ]
            ],
            "type": "heatmap"
           }
          ],
          "heatmapgl": [
           {
            "colorbar": {
             "outlinewidth": 0,
             "ticks": ""
            },
            "colorscale": [
             [
              0,
              "#0d0887"
             ],
             [
              0.1111111111111111,
              "#46039f"
             ],
             [
              0.2222222222222222,
              "#7201a8"
             ],
             [
              0.3333333333333333,
              "#9c179e"
             ],
             [
              0.4444444444444444,
              "#bd3786"
             ],
             [
              0.5555555555555556,
              "#d8576b"
             ],
             [
              0.6666666666666666,
              "#ed7953"
             ],
             [
              0.7777777777777778,
              "#fb9f3a"
             ],
             [
              0.8888888888888888,
              "#fdca26"
             ],
             [
              1,
              "#f0f921"
             ]
            ],
            "type": "heatmapgl"
           }
          ],
          "histogram": [
           {
            "marker": {
             "pattern": {
              "fillmode": "overlay",
              "size": 10,
              "solidity": 0.2
             }
            },
            "type": "histogram"
           }
          ],
          "histogram2d": [
           {
            "colorbar": {
             "outlinewidth": 0,
             "ticks": ""
            },
            "colorscale": [
             [
              0,
              "#0d0887"
             ],
             [
              0.1111111111111111,
              "#46039f"
             ],
             [
              0.2222222222222222,
              "#7201a8"
             ],
             [
              0.3333333333333333,
              "#9c179e"
             ],
             [
              0.4444444444444444,
              "#bd3786"
             ],
             [
              0.5555555555555556,
              "#d8576b"
             ],
             [
              0.6666666666666666,
              "#ed7953"
             ],
             [
              0.7777777777777778,
              "#fb9f3a"
             ],
             [
              0.8888888888888888,
              "#fdca26"
             ],
             [
              1,
              "#f0f921"
             ]
            ],
            "type": "histogram2d"
           }
          ],
          "histogram2dcontour": [
           {
            "colorbar": {
             "outlinewidth": 0,
             "ticks": ""
            },
            "colorscale": [
             [
              0,
              "#0d0887"
             ],
             [
              0.1111111111111111,
              "#46039f"
             ],
             [
              0.2222222222222222,
              "#7201a8"
             ],
             [
              0.3333333333333333,
              "#9c179e"
             ],
             [
              0.4444444444444444,
              "#bd3786"
             ],
             [
              0.5555555555555556,
              "#d8576b"
             ],
             [
              0.6666666666666666,
              "#ed7953"
             ],
             [
              0.7777777777777778,
              "#fb9f3a"
             ],
             [
              0.8888888888888888,
              "#fdca26"
             ],
             [
              1,
              "#f0f921"
             ]
            ],
            "type": "histogram2dcontour"
           }
          ],
          "mesh3d": [
           {
            "colorbar": {
             "outlinewidth": 0,
             "ticks": ""
            },
            "type": "mesh3d"
           }
          ],
          "parcoords": [
           {
            "line": {
             "colorbar": {
              "outlinewidth": 0,
              "ticks": ""
             }
            },
            "type": "parcoords"
           }
          ],
          "pie": [
           {
            "automargin": true,
            "type": "pie"
           }
          ],
          "scatter": [
           {
            "fillpattern": {
             "fillmode": "overlay",
             "size": 10,
             "solidity": 0.2
            },
            "type": "scatter"
           }
          ],
          "scatter3d": [
           {
            "line": {
             "colorbar": {
              "outlinewidth": 0,
              "ticks": ""
             }
            },
            "marker": {
             "colorbar": {
              "outlinewidth": 0,
              "ticks": ""
             }
            },
            "type": "scatter3d"
           }
          ],
          "scattercarpet": [
           {
            "marker": {
             "colorbar": {
              "outlinewidth": 0,
              "ticks": ""
             }
            },
            "type": "scattercarpet"
           }
          ],
          "scattergeo": [
           {
            "marker": {
             "colorbar": {
              "outlinewidth": 0,
              "ticks": ""
             }
            },
            "type": "scattergeo"
           }
          ],
          "scattergl": [
           {
            "marker": {
             "colorbar": {
              "outlinewidth": 0,
              "ticks": ""
             }
            },
            "type": "scattergl"
           }
          ],
          "scattermapbox": [
           {
            "marker": {
             "colorbar": {
              "outlinewidth": 0,
              "ticks": ""
             }
            },
            "type": "scattermapbox"
           }
          ],
          "scatterpolar": [
           {
            "marker": {
             "colorbar": {
              "outlinewidth": 0,
              "ticks": ""
             }
            },
            "type": "scatterpolar"
           }
          ],
          "scatterpolargl": [
           {
            "marker": {
             "colorbar": {
              "outlinewidth": 0,
              "ticks": ""
             }
            },
            "type": "scatterpolargl"
           }
          ],
          "scatterternary": [
           {
            "marker": {
             "colorbar": {
              "outlinewidth": 0,
              "ticks": ""
             }
            },
            "type": "scatterternary"
           }
          ],
          "surface": [
           {
            "colorbar": {
             "outlinewidth": 0,
             "ticks": ""
            },
            "colorscale": [
             [
              0,
              "#0d0887"
             ],
             [
              0.1111111111111111,
              "#46039f"
             ],
             [
              0.2222222222222222,
              "#7201a8"
             ],
             [
              0.3333333333333333,
              "#9c179e"
             ],
             [
              0.4444444444444444,
              "#bd3786"
             ],
             [
              0.5555555555555556,
              "#d8576b"
             ],
             [
              0.6666666666666666,
              "#ed7953"
             ],
             [
              0.7777777777777778,
              "#fb9f3a"
             ],
             [
              0.8888888888888888,
              "#fdca26"
             ],
             [
              1,
              "#f0f921"
             ]
            ],
            "type": "surface"
           }
          ],
          "table": [
           {
            "cells": {
             "fill": {
              "color": "#EBF0F8"
             },
             "line": {
              "color": "white"
             }
            },
            "header": {
             "fill": {
              "color": "#C8D4E3"
             },
             "line": {
              "color": "white"
             }
            },
            "type": "table"
           }
          ]
         },
         "layout": {
          "annotationdefaults": {
           "arrowcolor": "#2a3f5f",
           "arrowhead": 0,
           "arrowwidth": 1
          },
          "autotypenumbers": "strict",
          "coloraxis": {
           "colorbar": {
            "outlinewidth": 0,
            "ticks": ""
           }
          },
          "colorscale": {
           "diverging": [
            [
             0,
             "#8e0152"
            ],
            [
             0.1,
             "#c51b7d"
            ],
            [
             0.2,
             "#de77ae"
            ],
            [
             0.3,
             "#f1b6da"
            ],
            [
             0.4,
             "#fde0ef"
            ],
            [
             0.5,
             "#f7f7f7"
            ],
            [
             0.6,
             "#e6f5d0"
            ],
            [
             0.7,
             "#b8e186"
            ],
            [
             0.8,
             "#7fbc41"
            ],
            [
             0.9,
             "#4d9221"
            ],
            [
             1,
             "#276419"
            ]
           ],
           "sequential": [
            [
             0,
             "#0d0887"
            ],
            [
             0.1111111111111111,
             "#46039f"
            ],
            [
             0.2222222222222222,
             "#7201a8"
            ],
            [
             0.3333333333333333,
             "#9c179e"
            ],
            [
             0.4444444444444444,
             "#bd3786"
            ],
            [
             0.5555555555555556,
             "#d8576b"
            ],
            [
             0.6666666666666666,
             "#ed7953"
            ],
            [
             0.7777777777777778,
             "#fb9f3a"
            ],
            [
             0.8888888888888888,
             "#fdca26"
            ],
            [
             1,
             "#f0f921"
            ]
           ],
           "sequentialminus": [
            [
             0,
             "#0d0887"
            ],
            [
             0.1111111111111111,
             "#46039f"
            ],
            [
             0.2222222222222222,
             "#7201a8"
            ],
            [
             0.3333333333333333,
             "#9c179e"
            ],
            [
             0.4444444444444444,
             "#bd3786"
            ],
            [
             0.5555555555555556,
             "#d8576b"
            ],
            [
             0.6666666666666666,
             "#ed7953"
            ],
            [
             0.7777777777777778,
             "#fb9f3a"
            ],
            [
             0.8888888888888888,
             "#fdca26"
            ],
            [
             1,
             "#f0f921"
            ]
           ]
          },
          "colorway": [
           "#636efa",
           "#EF553B",
           "#00cc96",
           "#ab63fa",
           "#FFA15A",
           "#19d3f3",
           "#FF6692",
           "#B6E880",
           "#FF97FF",
           "#FECB52"
          ],
          "font": {
           "color": "#2a3f5f"
          },
          "geo": {
           "bgcolor": "white",
           "lakecolor": "white",
           "landcolor": "#E5ECF6",
           "showlakes": true,
           "showland": true,
           "subunitcolor": "white"
          },
          "hoverlabel": {
           "align": "left"
          },
          "hovermode": "closest",
          "mapbox": {
           "style": "light"
          },
          "paper_bgcolor": "white",
          "plot_bgcolor": "#E5ECF6",
          "polar": {
           "angularaxis": {
            "gridcolor": "white",
            "linecolor": "white",
            "ticks": ""
           },
           "bgcolor": "#E5ECF6",
           "radialaxis": {
            "gridcolor": "white",
            "linecolor": "white",
            "ticks": ""
           }
          },
          "scene": {
           "xaxis": {
            "backgroundcolor": "#E5ECF6",
            "gridcolor": "white",
            "gridwidth": 2,
            "linecolor": "white",
            "showbackground": true,
            "ticks": "",
            "zerolinecolor": "white"
           },
           "yaxis": {
            "backgroundcolor": "#E5ECF6",
            "gridcolor": "white",
            "gridwidth": 2,
            "linecolor": "white",
            "showbackground": true,
            "ticks": "",
            "zerolinecolor": "white"
           },
           "zaxis": {
            "backgroundcolor": "#E5ECF6",
            "gridcolor": "white",
            "gridwidth": 2,
            "linecolor": "white",
            "showbackground": true,
            "ticks": "",
            "zerolinecolor": "white"
           }
          },
          "shapedefaults": {
           "line": {
            "color": "#2a3f5f"
           }
          },
          "ternary": {
           "aaxis": {
            "gridcolor": "white",
            "linecolor": "white",
            "ticks": ""
           },
           "baxis": {
            "gridcolor": "white",
            "linecolor": "white",
            "ticks": ""
           },
           "bgcolor": "#E5ECF6",
           "caxis": {
            "gridcolor": "white",
            "linecolor": "white",
            "ticks": ""
           }
          },
          "title": {
           "x": 0.05
          },
          "xaxis": {
           "automargin": true,
           "gridcolor": "white",
           "linecolor": "white",
           "ticks": "",
           "title": {
            "standoff": 15
           },
           "zerolinecolor": "white",
           "zerolinewidth": 2
          },
          "yaxis": {
           "automargin": true,
           "gridcolor": "white",
           "linecolor": "white",
           "ticks": "",
           "title": {
            "standoff": 15
           },
           "zerolinecolor": "white",
           "zerolinewidth": 2
          }
         }
        },
        "xaxis": {
         "anchor": "y",
         "domain": [
          0,
          1
         ],
         "title": {
          "text": "category"
         }
        },
        "yaxis": {
         "anchor": "x",
         "domain": [
          0,
          1
         ],
         "title": {
          "text": "amount"
         }
        }
       }
      },
      "text/html": [
       "<div>                            <div id=\"e4c0fe56-3edf-4afb-b781-7734cb788150\" class=\"plotly-graph-div\" style=\"height:525px; width:100%;\"></div>            <script type=\"text/javascript\">                require([\"plotly\"], function(Plotly) {                    window.PLOTLYENV=window.PLOTLYENV || {};                                    if (document.getElementById(\"e4c0fe56-3edf-4afb-b781-7734cb788150\")) {                    Plotly.newPlot(                        \"e4c0fe56-3edf-4afb-b781-7734cb788150\",                        [{\"alignmentgroup\":\"True\",\"hovertemplate\":\"category=%{x}<br>amount=%{y}<extra></extra>\",\"legendgroup\":\"\",\"marker\":{\"color\":\"#636efa\",\"pattern\":{\"shape\":\"\"}},\"name\":\"\",\"offsetgroup\":\"\",\"orientation\":\"v\",\"showlegend\":false,\"textposition\":\"auto\",\"x\":[\"Nami\",\"Food & Drink\",\"Transport\",\"Groceries\",\"Healthcare\",\"Bills & Fees\",\"Shopping\",\"Home\",\"Travel\",\"Coffee\",\"Snack\",\"Entertainment\",\"Gifts\",\"Drink\",\"Laundry\",null,\"Books\",\"Gadget\",\"Other\"],\"xaxis\":\"x\",\"y\":[45670800.0,45116012.0,20671027.0,20419569.0,16540189.0,15929652.0,14035604.0,11688272.0,8868147.0,8509693.0,6756561.0,5185508.0,4043633.0,1536230.0,871000.0,511000.0,245000.0,235400.0,100533.0],\"yaxis\":\"y\",\"type\":\"bar\"}],                        {\"template\":{\"data\":{\"histogram2dcontour\":[{\"type\":\"histogram2dcontour\",\"colorbar\":{\"outlinewidth\":0,\"ticks\":\"\"},\"colorscale\":[[0.0,\"#0d0887\"],[0.1111111111111111,\"#46039f\"],[0.2222222222222222,\"#7201a8\"],[0.3333333333333333,\"#9c179e\"],[0.4444444444444444,\"#bd3786\"],[0.5555555555555556,\"#d8576b\"],[0.6666666666666666,\"#ed7953\"],[0.7777777777777778,\"#fb9f3a\"],[0.8888888888888888,\"#fdca26\"],[1.0,\"#f0f921\"]]}],\"choropleth\":[{\"type\":\"choropleth\",\"colorbar\":{\"outlinewidth\":0,\"ticks\":\"\"}}],\"histogram2d\":[{\"type\":\"histogram2d\",\"colorbar\":{\"outlinewidth\":0,\"ticks\":\"\"},\"colorscale\":[[0.0,\"#0d0887\"],[0.1111111111111111,\"#46039f\"],[0.2222222222222222,\"#7201a8\"],[0.3333333333333333,\"#9c179e\"],[0.4444444444444444,\"#bd3786\"],[0.5555555555555556,\"#d8576b\"],[0.6666666666666666,\"#ed7953\"],[0.7777777777777778,\"#fb9f3a\"],[0.8888888888888888,\"#fdca26\"],[1.0,\"#f0f921\"]]}],\"heatmap\":[{\"type\":\"heatmap\",\"colorbar\":{\"outlinewidth\":0,\"ticks\":\"\"},\"colorscale\":[[0.0,\"#0d0887\"],[0.1111111111111111,\"#46039f\"],[0.2222222222222222,\"#7201a8\"],[0.3333333333333333,\"#9c179e\"],[0.4444444444444444,\"#bd3786\"],[0.5555555555555556,\"#d8576b\"],[0.6666666666666666,\"#ed7953\"],[0.7777777777777778,\"#fb9f3a\"],[0.8888888888888888,\"#fdca26\"],[1.0,\"#f0f921\"]]}],\"heatmapgl\":[{\"type\":\"heatmapgl\",\"colorbar\":{\"outlinewidth\":0,\"ticks\":\"\"},\"colorscale\":[[0.0,\"#0d0887\"],[0.1111111111111111,\"#46039f\"],[0.2222222222222222,\"#7201a8\"],[0.3333333333333333,\"#9c179e\"],[0.4444444444444444,\"#bd3786\"],[0.5555555555555556,\"#d8576b\"],[0.6666666666666666,\"#ed7953\"],[0.7777777777777778,\"#fb9f3a\"],[0.8888888888888888,\"#fdca26\"],[1.0,\"#f0f921\"]]}],\"contourcarpet\":[{\"type\":\"contourcarpet\",\"colorbar\":{\"outlinewidth\":0,\"ticks\":\"\"}}],\"contour\":[{\"type\":\"contour\",\"colorbar\":{\"outlinewidth\":0,\"ticks\":\"\"},\"colorscale\":[[0.0,\"#0d0887\"],[0.1111111111111111,\"#46039f\"],[0.2222222222222222,\"#7201a8\"],[0.3333333333333333,\"#9c179e\"],[0.4444444444444444,\"#bd3786\"],[0.5555555555555556,\"#d8576b\"],[0.6666666666666666,\"#ed7953\"],[0.7777777777777778,\"#fb9f3a\"],[0.8888888888888888,\"#fdca26\"],[1.0,\"#f0f921\"]]}],\"surface\":[{\"type\":\"surface\",\"colorbar\":{\"outlinewidth\":0,\"ticks\":\"\"},\"colorscale\":[[0.0,\"#0d0887\"],[0.1111111111111111,\"#46039f\"],[0.2222222222222222,\"#7201a8\"],[0.3333333333333333,\"#9c179e\"],[0.4444444444444444,\"#bd3786\"],[0.5555555555555556,\"#d8576b\"],[0.6666666666666666,\"#ed7953\"],[0.7777777777777778,\"#fb9f3a\"],[0.8888888888888888,\"#fdca26\"],[1.0,\"#f0f921\"]]}],\"mesh3d\":[{\"type\":\"mesh3d\",\"colorbar\":{\"outlinewidth\":0,\"ticks\":\"\"}}],\"scatter\":[{\"fillpattern\":{\"fillmode\":\"overlay\",\"size\":10,\"solidity\":0.2},\"type\":\"scatter\"}],\"parcoords\":[{\"type\":\"parcoords\",\"line\":{\"colorbar\":{\"outlinewidth\":0,\"ticks\":\"\"}}}],\"scatterpolargl\":[{\"type\":\"scatterpolargl\",\"marker\":{\"colorbar\":{\"outlinewidth\":0,\"ticks\":\"\"}}}],\"bar\":[{\"error_x\":{\"color\":\"#2a3f5f\"},\"error_y\":{\"color\":\"#2a3f5f\"},\"marker\":{\"line\":{\"color\":\"#E5ECF6\",\"width\":0.5},\"pattern\":{\"fillmode\":\"overlay\",\"size\":10,\"solidity\":0.2}},\"type\":\"bar\"}],\"scattergeo\":[{\"type\":\"scattergeo\",\"marker\":{\"colorbar\":{\"outlinewidth\":0,\"ticks\":\"\"}}}],\"scatterpolar\":[{\"type\":\"scatterpolar\",\"marker\":{\"colorbar\":{\"outlinewidth\":0,\"ticks\":\"\"}}}],\"histogram\":[{\"marker\":{\"pattern\":{\"fillmode\":\"overlay\",\"size\":10,\"solidity\":0.2}},\"type\":\"histogram\"}],\"scattergl\":[{\"type\":\"scattergl\",\"marker\":{\"colorbar\":{\"outlinewidth\":0,\"ticks\":\"\"}}}],\"scatter3d\":[{\"type\":\"scatter3d\",\"line\":{\"colorbar\":{\"outlinewidth\":0,\"ticks\":\"\"}},\"marker\":{\"colorbar\":{\"outlinewidth\":0,\"ticks\":\"\"}}}],\"scattermapbox\":[{\"type\":\"scattermapbox\",\"marker\":{\"colorbar\":{\"outlinewidth\":0,\"ticks\":\"\"}}}],\"scatterternary\":[{\"type\":\"scatterternary\",\"marker\":{\"colorbar\":{\"outlinewidth\":0,\"ticks\":\"\"}}}],\"scattercarpet\":[{\"type\":\"scattercarpet\",\"marker\":{\"colorbar\":{\"outlinewidth\":0,\"ticks\":\"\"}}}],\"carpet\":[{\"aaxis\":{\"endlinecolor\":\"#2a3f5f\",\"gridcolor\":\"white\",\"linecolor\":\"white\",\"minorgridcolor\":\"white\",\"startlinecolor\":\"#2a3f5f\"},\"baxis\":{\"endlinecolor\":\"#2a3f5f\",\"gridcolor\":\"white\",\"linecolor\":\"white\",\"minorgridcolor\":\"white\",\"startlinecolor\":\"#2a3f5f\"},\"type\":\"carpet\"}],\"table\":[{\"cells\":{\"fill\":{\"color\":\"#EBF0F8\"},\"line\":{\"color\":\"white\"}},\"header\":{\"fill\":{\"color\":\"#C8D4E3\"},\"line\":{\"color\":\"white\"}},\"type\":\"table\"}],\"barpolar\":[{\"marker\":{\"line\":{\"color\":\"#E5ECF6\",\"width\":0.5},\"pattern\":{\"fillmode\":\"overlay\",\"size\":10,\"solidity\":0.2}},\"type\":\"barpolar\"}],\"pie\":[{\"automargin\":true,\"type\":\"pie\"}]},\"layout\":{\"autotypenumbers\":\"strict\",\"colorway\":[\"#636efa\",\"#EF553B\",\"#00cc96\",\"#ab63fa\",\"#FFA15A\",\"#19d3f3\",\"#FF6692\",\"#B6E880\",\"#FF97FF\",\"#FECB52\"],\"font\":{\"color\":\"#2a3f5f\"},\"hovermode\":\"closest\",\"hoverlabel\":{\"align\":\"left\"},\"paper_bgcolor\":\"white\",\"plot_bgcolor\":\"#E5ECF6\",\"polar\":{\"bgcolor\":\"#E5ECF6\",\"angularaxis\":{\"gridcolor\":\"white\",\"linecolor\":\"white\",\"ticks\":\"\"},\"radialaxis\":{\"gridcolor\":\"white\",\"linecolor\":\"white\",\"ticks\":\"\"}},\"ternary\":{\"bgcolor\":\"#E5ECF6\",\"aaxis\":{\"gridcolor\":\"white\",\"linecolor\":\"white\",\"ticks\":\"\"},\"baxis\":{\"gridcolor\":\"white\",\"linecolor\":\"white\",\"ticks\":\"\"},\"caxis\":{\"gridcolor\":\"white\",\"linecolor\":\"white\",\"ticks\":\"\"}},\"coloraxis\":{\"colorbar\":{\"outlinewidth\":0,\"ticks\":\"\"}},\"colorscale\":{\"sequential\":[[0.0,\"#0d0887\"],[0.1111111111111111,\"#46039f\"],[0.2222222222222222,\"#7201a8\"],[0.3333333333333333,\"#9c179e\"],[0.4444444444444444,\"#bd3786\"],[0.5555555555555556,\"#d8576b\"],[0.6666666666666666,\"#ed7953\"],[0.7777777777777778,\"#fb9f3a\"],[0.8888888888888888,\"#fdca26\"],[1.0,\"#f0f921\"]],\"sequentialminus\":[[0.0,\"#0d0887\"],[0.1111111111111111,\"#46039f\"],[0.2222222222222222,\"#7201a8\"],[0.3333333333333333,\"#9c179e\"],[0.4444444444444444,\"#bd3786\"],[0.5555555555555556,\"#d8576b\"],[0.6666666666666666,\"#ed7953\"],[0.7777777777777778,\"#fb9f3a\"],[0.8888888888888888,\"#fdca26\"],[1.0,\"#f0f921\"]],\"diverging\":[[0,\"#8e0152\"],[0.1,\"#c51b7d\"],[0.2,\"#de77ae\"],[0.3,\"#f1b6da\"],[0.4,\"#fde0ef\"],[0.5,\"#f7f7f7\"],[0.6,\"#e6f5d0\"],[0.7,\"#b8e186\"],[0.8,\"#7fbc41\"],[0.9,\"#4d9221\"],[1,\"#276419\"]]},\"xaxis\":{\"gridcolor\":\"white\",\"linecolor\":\"white\",\"ticks\":\"\",\"title\":{\"standoff\":15},\"zerolinecolor\":\"white\",\"automargin\":true,\"zerolinewidth\":2},\"yaxis\":{\"gridcolor\":\"white\",\"linecolor\":\"white\",\"ticks\":\"\",\"title\":{\"standoff\":15},\"zerolinecolor\":\"white\",\"automargin\":true,\"zerolinewidth\":2},\"scene\":{\"xaxis\":{\"backgroundcolor\":\"#E5ECF6\",\"gridcolor\":\"white\",\"linecolor\":\"white\",\"showbackground\":true,\"ticks\":\"\",\"zerolinecolor\":\"white\",\"gridwidth\":2},\"yaxis\":{\"backgroundcolor\":\"#E5ECF6\",\"gridcolor\":\"white\",\"linecolor\":\"white\",\"showbackground\":true,\"ticks\":\"\",\"zerolinecolor\":\"white\",\"gridwidth\":2},\"zaxis\":{\"backgroundcolor\":\"#E5ECF6\",\"gridcolor\":\"white\",\"linecolor\":\"white\",\"showbackground\":true,\"ticks\":\"\",\"zerolinecolor\":\"white\",\"gridwidth\":2}},\"shapedefaults\":{\"line\":{\"color\":\"#2a3f5f\"}},\"annotationdefaults\":{\"arrowcolor\":\"#2a3f5f\",\"arrowhead\":0,\"arrowwidth\":1},\"geo\":{\"bgcolor\":\"white\",\"landcolor\":\"#E5ECF6\",\"subunitcolor\":\"white\",\"showland\":true,\"showlakes\":true,\"lakecolor\":\"white\"},\"title\":{\"x\":0.05},\"mapbox\":{\"style\":\"light\"}}},\"xaxis\":{\"anchor\":\"y\",\"domain\":[0.0,1.0],\"title\":{\"text\":\"category\"}},\"yaxis\":{\"anchor\":\"x\",\"domain\":[0.0,1.0],\"title\":{\"text\":\"amount\"}},\"legend\":{\"tracegroupgap\":0},\"margin\":{\"t\":60},\"barmode\":\"relative\"},                        {\"responsive\": true}                    ).then(function(){\n",
       "                            \n",
       "var gd = document.getElementById('e4c0fe56-3edf-4afb-b781-7734cb788150');\n",
       "var x = new MutationObserver(function (mutations, observer) {{\n",
       "        var display = window.getComputedStyle(gd).display;\n",
       "        if (!display || display === 'none') {{\n",
       "            console.log([gd, 'removed!']);\n",
       "            Plotly.purge(gd);\n",
       "            observer.disconnect();\n",
       "        }}\n",
       "}});\n",
       "\n",
       "// Listen for the removal of the full notebook cells\n",
       "var notebookContainer = gd.closest('#notebook-container');\n",
       "if (notebookContainer) {{\n",
       "    x.observe(notebookContainer, {childList: true});\n",
       "}}\n",
       "\n",
       "// Listen for the clearing of the current output cell\n",
       "var outputEl = gd.closest('.output');\n",
       "if (outputEl) {{\n",
       "    x.observe(outputEl, {childList: true});\n",
       "}}\n",
       "\n",
       "                        })                };                });            </script>        </div>"
      ]
     },
     "metadata": {},
     "output_type": "display_data"
    }
   ],
   "source": [
    "import plotly.express as px\n",
    "fig = px.bar(category, x='category', y='amount')\n",
    "fig.show()"
   ]
  },
  {
   "cell_type": "code",
   "execution_count": 138,
   "id": "0f8c0ee2",
   "metadata": {
    "scrolled": true
   },
   "outputs": [
    {
     "data": {
      "text/html": [
       "<div>\n",
       "<style scoped>\n",
       "    .dataframe tbody tr th:only-of-type {\n",
       "        vertical-align: middle;\n",
       "    }\n",
       "\n",
       "    .dataframe tbody tr th {\n",
       "        vertical-align: top;\n",
       "    }\n",
       "\n",
       "    .dataframe thead th {\n",
       "        text-align: right;\n",
       "    }\n",
       "</style>\n",
       "<table border=\"1\" class=\"dataframe\">\n",
       "  <thead>\n",
       "    <tr style=\"text-align: right;\">\n",
       "      <th></th>\n",
       "      <th>trx_month</th>\n",
       "      <th>category</th>\n",
       "      <th>amount</th>\n",
       "      <th>trx</th>\n",
       "      <th>amount_per_trx</th>\n",
       "    </tr>\n",
       "  </thead>\n",
       "  <tbody>\n",
       "    <tr>\n",
       "      <th>72</th>\n",
       "      <td>2022-01-01</td>\n",
       "      <td>Bills &amp; Fees</td>\n",
       "      <td>984993.0</td>\n",
       "      <td>1</td>\n",
       "      <td>984993</td>\n",
       "    </tr>\n",
       "    <tr>\n",
       "      <th>63</th>\n",
       "      <td>2022-02-01</td>\n",
       "      <td>Bills &amp; Fees</td>\n",
       "      <td>1289000.0</td>\n",
       "      <td>2</td>\n",
       "      <td>644500</td>\n",
       "    </tr>\n",
       "    <tr>\n",
       "      <th>65</th>\n",
       "      <td>2022-03-01</td>\n",
       "      <td>Bills &amp; Fees</td>\n",
       "      <td>1276642.0</td>\n",
       "      <td>1</td>\n",
       "      <td>1276642</td>\n",
       "    </tr>\n",
       "    <tr>\n",
       "      <th>100</th>\n",
       "      <td>2022-04-01</td>\n",
       "      <td>Bills &amp; Fees</td>\n",
       "      <td>564000.0</td>\n",
       "      <td>3</td>\n",
       "      <td>188000</td>\n",
       "    </tr>\n",
       "    <tr>\n",
       "      <th>40</th>\n",
       "      <td>2022-05-01</td>\n",
       "      <td>Bills &amp; Fees</td>\n",
       "      <td>2002500.0</td>\n",
       "      <td>2</td>\n",
       "      <td>1001250</td>\n",
       "    </tr>\n",
       "  </tbody>\n",
       "</table>\n",
       "</div>"
      ],
      "text/plain": [
       "     trx_month      category     amount  trx  amount_per_trx\n",
       "72  2022-01-01  Bills & Fees   984993.0    1          984993\n",
       "63  2022-02-01  Bills & Fees  1289000.0    2          644500\n",
       "65  2022-03-01  Bills & Fees  1276642.0    1         1276642\n",
       "100 2022-04-01  Bills & Fees   564000.0    3          188000\n",
       "40  2022-05-01  Bills & Fees  2002500.0    2         1001250"
      ]
     },
     "execution_count": 138,
     "metadata": {},
     "output_type": "execute_result"
    }
   ],
   "source": [
    "category_m = df.groupby(['trx_month', 'category']).agg(\n",
    "    {'amount':'sum', 'id':'count'}\n",
    ").sort_values('amount', ascending=False).reset_index().rename(columns={'id':'trx'})\n",
    "\n",
    "category_m = category_m[category_m!='Maternity'].sort_values(['category', 'trx_month'])\n",
    "category_m['amount_per_trx'] = (category_m.amount/category_m.trx).astype(int)\n",
    "category_m=category_m.dropna()\n",
    "category_m.head()"
   ]
  },
  {
   "cell_type": "code",
   "execution_count": 136,
   "id": "51c20d42",
   "metadata": {
    "scrolled": true
   },
   "outputs": [
    {
     "data": {
      "text/html": [
       "<div>\n",
       "<style scoped>\n",
       "    .dataframe tbody tr th:only-of-type {\n",
       "        vertical-align: middle;\n",
       "    }\n",
       "\n",
       "    .dataframe tbody tr th {\n",
       "        vertical-align: top;\n",
       "    }\n",
       "\n",
       "    .dataframe thead th {\n",
       "        text-align: right;\n",
       "    }\n",
       "</style>\n",
       "<table border=\"1\" class=\"dataframe\">\n",
       "  <thead>\n",
       "    <tr style=\"text-align: right;\">\n",
       "      <th></th>\n",
       "      <th>id</th>\n",
       "      <th>trx_date</th>\n",
       "      <th>trx_month</th>\n",
       "      <th>category</th>\n",
       "      <th>amount</th>\n",
       "      <th>note</th>\n",
       "      <th>author</th>\n",
       "    </tr>\n",
       "  </thead>\n",
       "  <tbody>\n",
       "    <tr>\n",
       "      <th>32</th>\n",
       "      <td>33</td>\n",
       "      <td>2022-01-11</td>\n",
       "      <td>2022-01-01</td>\n",
       "      <td>Coffee</td>\n",
       "      <td>106500.0</td>\n",
       "      <td>NaN</td>\n",
       "      <td>Leo</td>\n",
       "    </tr>\n",
       "    <tr>\n",
       "      <th>93</th>\n",
       "      <td>94</td>\n",
       "      <td>2022-02-03</td>\n",
       "      <td>2022-02-01</td>\n",
       "      <td>Laundry</td>\n",
       "      <td>60000.0</td>\n",
       "      <td>NaN</td>\n",
       "      <td>Leo</td>\n",
       "    </tr>\n",
       "  </tbody>\n",
       "</table>\n",
       "</div>"
      ],
      "text/plain": [
       "    id    trx_date  trx_month category    amount note author\n",
       "32  33  2022-01-11 2022-01-01   Coffee  106500.0  NaN    Leo\n",
       "93  94  2022-02-03 2022-02-01  Laundry   60000.0  NaN    Leo"
      ]
     },
     "execution_count": 136,
     "metadata": {},
     "output_type": "execute_result"
    }
   ],
   "source": [
    "df[pd.isnull(df).any(axis=1)]"
   ]
  },
  {
   "cell_type": "code",
   "execution_count": 139,
   "id": "3010b5d0",
   "metadata": {},
   "outputs": [
    {
     "data": {
      "text/plain": [
       "18"
      ]
     },
     "execution_count": 139,
     "metadata": {},
     "output_type": "execute_result"
    }
   ],
   "source": [
    "category_list = category_m.category.unique()\n",
    "len(category_list)"
   ]
  },
  {
   "cell_type": "code",
   "execution_count": 151,
   "id": "319453e5",
   "metadata": {},
   "outputs": [
    {
     "name": "stdout",
     "output_type": "stream",
     "text": [
      "Bills & Fees 1 1\n",
      "Books 1 2\n",
      "Coffee 1 3\n",
      "Drink 2 1\n",
      "Entertainment 2 2\n",
      "Food & Drink 2 3\n",
      "Gadget 3 1\n",
      "Gifts 3 2\n",
      "Groceries 3 3\n",
      "Healthcare 4 1\n",
      "Home 4 2\n",
      "Laundry 4 3\n",
      "Nami 5 1\n",
      "Other 5 2\n",
      "Shopping 5 3\n",
      "Snack 6 1\n",
      "Transport 6 2\n",
      "Travel 6 3\n"
     ]
    },
    {
     "data": {
      "application/vnd.plotly.v1+json": {
       "config": {
        "plotlyServerURL": "https://plot.ly"
       },
       "data": [
        {
         "type": "scatter",
         "x": [
          "2022-01-01T00:00:00.000000000",
          "2022-02-01T00:00:00.000000000",
          "2022-03-01T00:00:00.000000000",
          "2022-04-01T00:00:00.000000000",
          "2022-05-01T00:00:00.000000000",
          "2022-07-01T00:00:00.000000000",
          "2022-08-01T00:00:00.000000000",
          "2022-09-01T00:00:00.000000000",
          "2022-10-01T00:00:00.000000000",
          "2022-11-01T00:00:00.000000000",
          "2022-12-01T00:00:00.000000000"
         ],
         "xaxis": "x",
         "y": [
          984993,
          1289000,
          1276642,
          564000,
          2002500,
          1820600,
          2053790,
          1280000,
          1352100,
          1678282,
          1627745
         ],
         "yaxis": "y"
        },
        {
         "type": "scatter",
         "x": [
          "2022-02-01T00:00:00.000000000"
         ],
         "xaxis": "x2",
         "y": [
          245000
         ],
         "yaxis": "y2"
        },
        {
         "type": "scatter",
         "x": [
          "2022-01-01T00:00:00.000000000",
          "2022-02-01T00:00:00.000000000",
          "2022-03-01T00:00:00.000000000",
          "2022-04-01T00:00:00.000000000",
          "2022-05-01T00:00:00.000000000",
          "2022-06-01T00:00:00.000000000",
          "2022-07-01T00:00:00.000000000",
          "2022-08-01T00:00:00.000000000",
          "2022-09-01T00:00:00.000000000",
          "2022-10-01T00:00:00.000000000",
          "2022-11-01T00:00:00.000000000",
          "2022-12-01T00:00:00.000000000"
         ],
         "xaxis": "x3",
         "y": [
          833500,
          711400,
          1262500,
          610400,
          746400,
          492500,
          454600,
          891293,
          684000,
          835250,
          380000,
          607850
         ],
         "yaxis": "y3"
        },
        {
         "type": "scatter",
         "x": [
          "2022-01-01T00:00:00.000000000",
          "2022-02-01T00:00:00.000000000",
          "2022-04-01T00:00:00.000000000",
          "2022-06-01T00:00:00.000000000",
          "2022-07-01T00:00:00.000000000",
          "2022-08-01T00:00:00.000000000",
          "2022-09-01T00:00:00.000000000",
          "2022-10-01T00:00:00.000000000",
          "2022-11-01T00:00:00.000000000",
          "2022-12-01T00:00:00.000000000"
         ],
         "xaxis": "x4",
         "y": [
          20000,
          256000,
          96200,
          106800,
          74400,
          49800,
          208900,
          49800,
          566580,
          107750
         ],
         "yaxis": "y4"
        },
        {
         "type": "scatter",
         "x": [
          "2022-01-01T00:00:00.000000000",
          "2022-04-01T00:00:00.000000000",
          "2022-06-01T00:00:00.000000000",
          "2022-07-01T00:00:00.000000000",
          "2022-08-01T00:00:00.000000000",
          "2022-09-01T00:00:00.000000000",
          "2022-11-01T00:00:00.000000000",
          "2022-12-01T00:00:00.000000000"
         ],
         "xaxis": "x5",
         "y": [
          100000,
          130000,
          222000,
          2525000,
          1297008,
          380000,
          212500,
          319000
         ],
         "yaxis": "y5"
        },
        {
         "type": "scatter",
         "x": [
          "2022-01-01T00:00:00.000000000",
          "2022-02-01T00:00:00.000000000",
          "2022-03-01T00:00:00.000000000",
          "2022-04-01T00:00:00.000000000",
          "2022-05-01T00:00:00.000000000",
          "2022-06-01T00:00:00.000000000",
          "2022-07-01T00:00:00.000000000",
          "2022-08-01T00:00:00.000000000",
          "2022-09-01T00:00:00.000000000",
          "2022-10-01T00:00:00.000000000",
          "2022-11-01T00:00:00.000000000",
          "2022-12-01T00:00:00.000000000"
         ],
         "xaxis": "x6",
         "y": [
          1787400,
          5288325,
          7018915,
          5194678,
          2843329,
          1943480,
          3032690,
          2546083,
          3339588,
          2461576,
          3951622,
          5708326
         ],
         "yaxis": "y6"
        },
        {
         "type": "scatter",
         "x": [
          "2022-02-01T00:00:00.000000000",
          "2022-07-01T00:00:00.000000000"
         ],
         "xaxis": "x7",
         "y": [
          185900,
          49500
         ],
         "yaxis": "y7"
        },
        {
         "type": "scatter",
         "x": [
          "2022-02-01T00:00:00.000000000",
          "2022-05-01T00:00:00.000000000",
          "2022-06-01T00:00:00.000000000",
          "2022-07-01T00:00:00.000000000",
          "2022-08-01T00:00:00.000000000",
          "2022-09-01T00:00:00.000000000",
          "2022-10-01T00:00:00.000000000",
          "2022-12-01T00:00:00.000000000"
         ],
         "xaxis": "x8",
         "y": [
          448700,
          667000,
          319500,
          475000,
          820000,
          620533,
          100000,
          592900
         ],
         "yaxis": "y8"
        },
        {
         "type": "scatter",
         "x": [
          "2022-01-01T00:00:00.000000000",
          "2022-02-01T00:00:00.000000000",
          "2022-03-01T00:00:00.000000000",
          "2022-04-01T00:00:00.000000000",
          "2022-05-01T00:00:00.000000000",
          "2022-06-01T00:00:00.000000000",
          "2022-07-01T00:00:00.000000000",
          "2022-08-01T00:00:00.000000000",
          "2022-09-01T00:00:00.000000000",
          "2022-10-01T00:00:00.000000000",
          "2022-11-01T00:00:00.000000000",
          "2022-12-01T00:00:00.000000000"
         ],
         "xaxis": "x9",
         "y": [
          497200,
          994900,
          121300,
          2247550,
          3990870,
          1777045,
          2379493,
          1432892,
          2436732,
          1428598,
          1506009,
          1606980
         ],
         "yaxis": "y9"
        },
        {
         "type": "scatter",
         "x": [
          "2022-01-01T00:00:00.000000000",
          "2022-02-01T00:00:00.000000000",
          "2022-03-01T00:00:00.000000000",
          "2022-06-01T00:00:00.000000000",
          "2022-07-01T00:00:00.000000000",
          "2022-08-01T00:00:00.000000000",
          "2022-09-01T00:00:00.000000000",
          "2022-10-01T00:00:00.000000000",
          "2022-11-01T00:00:00.000000000",
          "2022-12-01T00:00:00.000000000"
         ],
         "xaxis": "x10",
         "y": [
          6563000,
          5695900,
          39000,
          550000,
          206298,
          694882,
          273959,
          389600,
          1723270,
          404280
         ],
         "yaxis": "y10"
        },
        {
         "type": "scatter",
         "x": [
          "2022-01-01T00:00:00.000000000",
          "2022-02-01T00:00:00.000000000",
          "2022-03-01T00:00:00.000000000",
          "2022-04-01T00:00:00.000000000",
          "2022-05-01T00:00:00.000000000",
          "2022-06-01T00:00:00.000000000",
          "2022-07-01T00:00:00.000000000",
          "2022-08-01T00:00:00.000000000",
          "2022-09-01T00:00:00.000000000",
          "2022-10-01T00:00:00.000000000",
          "2022-11-01T00:00:00.000000000"
         ],
         "xaxis": "x11",
         "y": [
          261555,
          1474946,
          2808750,
          476596,
          3767479,
          951556,
          536900,
          107500,
          453540,
          85800,
          763650
         ],
         "yaxis": "y11"
        },
        {
         "type": "scatter",
         "x": [
          "2022-02-01T00:00:00.000000000",
          "2022-04-01T00:00:00.000000000",
          "2022-05-01T00:00:00.000000000",
          "2022-08-01T00:00:00.000000000"
         ],
         "xaxis": "x12",
         "y": [
          60000,
          486000,
          285000,
          40000
         ],
         "yaxis": "y12"
        },
        {
         "type": "scatter",
         "x": [
          "2022-01-01T00:00:00.000000000",
          "2022-02-01T00:00:00.000000000",
          "2022-03-01T00:00:00.000000000",
          "2022-04-01T00:00:00.000000000",
          "2022-05-01T00:00:00.000000000",
          "2022-06-01T00:00:00.000000000",
          "2022-07-01T00:00:00.000000000",
          "2022-08-01T00:00:00.000000000",
          "2022-09-01T00:00:00.000000000",
          "2022-10-01T00:00:00.000000000",
          "2022-11-01T00:00:00.000000000",
          "2022-12-01T00:00:00.000000000"
         ],
         "xaxis": "x13",
         "y": [
          7618155,
          5210056,
          3819556,
          3308174,
          2937177,
          4121086,
          4200642,
          2925791,
          3276141,
          3777210,
          1832700,
          2644112
         ],
         "yaxis": "y13"
        },
        {
         "type": "scatter",
         "x": [
          "2022-08-01T00:00:00.000000000"
         ],
         "xaxis": "x14",
         "y": [
          100533
         ],
         "yaxis": "y14"
        },
        {
         "type": "scatter",
         "x": [
          "2022-01-01T00:00:00.000000000",
          "2022-02-01T00:00:00.000000000",
          "2022-03-01T00:00:00.000000000",
          "2022-04-01T00:00:00.000000000",
          "2022-05-01T00:00:00.000000000",
          "2022-06-01T00:00:00.000000000",
          "2022-07-01T00:00:00.000000000",
          "2022-08-01T00:00:00.000000000",
          "2022-09-01T00:00:00.000000000",
          "2022-10-01T00:00:00.000000000",
          "2022-11-01T00:00:00.000000000",
          "2022-12-01T00:00:00.000000000"
         ],
         "xaxis": "x15",
         "y": [
          437199,
          158100,
          2227600,
          321300,
          155400,
          589500,
          1453500,
          964480,
          2244000,
          2081500,
          515700,
          2887325
         ],
         "yaxis": "y15"
        },
        {
         "type": "scatter",
         "x": [
          "2022-01-01T00:00:00.000000000",
          "2022-02-01T00:00:00.000000000",
          "2022-03-01T00:00:00.000000000",
          "2022-04-01T00:00:00.000000000",
          "2022-05-01T00:00:00.000000000",
          "2022-06-01T00:00:00.000000000",
          "2022-07-01T00:00:00.000000000",
          "2022-08-01T00:00:00.000000000",
          "2022-09-01T00:00:00.000000000",
          "2022-10-01T00:00:00.000000000",
          "2022-11-01T00:00:00.000000000",
          "2022-12-01T00:00:00.000000000"
         ],
         "xaxis": "x16",
         "y": [
          806400,
          219400,
          298500,
          266500,
          27000,
          777950,
          581900,
          684010,
          651690,
          802550,
          762100,
          878561
         ],
         "yaxis": "y16"
        },
        {
         "type": "scatter",
         "x": [
          "2022-01-01T00:00:00.000000000",
          "2022-02-01T00:00:00.000000000",
          "2022-03-01T00:00:00.000000000",
          "2022-04-01T00:00:00.000000000",
          "2022-05-01T00:00:00.000000000",
          "2022-06-01T00:00:00.000000000",
          "2022-07-01T00:00:00.000000000",
          "2022-08-01T00:00:00.000000000",
          "2022-09-01T00:00:00.000000000",
          "2022-10-01T00:00:00.000000000",
          "2022-11-01T00:00:00.000000000",
          "2022-12-01T00:00:00.000000000"
         ],
         "xaxis": "x17",
         "y": [
          1318300,
          1185000,
          1705000,
          2091345,
          1073653,
          3084230,
          1596080,
          1300000,
          1227898,
          1503713,
          856841,
          3728967
         ],
         "yaxis": "y17"
        },
        {
         "type": "scatter",
         "x": [
          "2022-03-01T00:00:00.000000000",
          "2022-08-01T00:00:00.000000000",
          "2022-09-01T00:00:00.000000000",
          "2022-11-01T00:00:00.000000000"
         ],
         "xaxis": "x18",
         "y": [
          1118910,
          2724637,
          3621600,
          1403000
         ],
         "yaxis": "y18"
        }
       ],
       "layout": {
        "annotations": [
         {
          "showarrow": false,
          "text": "Bills & Fees",
          "x": 0.5,
          "xref": "x domain",
          "y": 1.2,
          "yref": "y domain"
         },
         {
          "showarrow": false,
          "text": "Books",
          "x": 0.5,
          "xref": "x2 domain",
          "y": 1.2,
          "yref": "y2 domain"
         },
         {
          "showarrow": false,
          "text": "Coffee",
          "x": 0.5,
          "xref": "x3 domain",
          "y": 1.2,
          "yref": "y3 domain"
         },
         {
          "showarrow": false,
          "text": "Drink",
          "x": 0.5,
          "xref": "x4 domain",
          "y": 1.2,
          "yref": "y4 domain"
         },
         {
          "showarrow": false,
          "text": "Entertainment",
          "x": 0.5,
          "xref": "x5 domain",
          "y": 1.2,
          "yref": "y5 domain"
         },
         {
          "showarrow": false,
          "text": "Food & Drink",
          "x": 0.5,
          "xref": "x6 domain",
          "y": 1.2,
          "yref": "y6 domain"
         },
         {
          "showarrow": false,
          "text": "Gadget",
          "x": 0.5,
          "xref": "x7 domain",
          "y": 1.2,
          "yref": "y7 domain"
         },
         {
          "showarrow": false,
          "text": "Gifts",
          "x": 0.5,
          "xref": "x8 domain",
          "y": 1.2,
          "yref": "y8 domain"
         },
         {
          "showarrow": false,
          "text": "Groceries",
          "x": 0.5,
          "xref": "x9 domain",
          "y": 1.2,
          "yref": "y9 domain"
         },
         {
          "showarrow": false,
          "text": "Healthcare",
          "x": 0.5,
          "xref": "x10 domain",
          "y": 1.2,
          "yref": "y10 domain"
         },
         {
          "showarrow": false,
          "text": "Home",
          "x": 0.5,
          "xref": "x11 domain",
          "y": 1.2,
          "yref": "y11 domain"
         },
         {
          "showarrow": false,
          "text": "Laundry",
          "x": 0.5,
          "xref": "x12 domain",
          "y": 1.2,
          "yref": "y12 domain"
         },
         {
          "showarrow": false,
          "text": "Nami",
          "x": 0.5,
          "xref": "x13 domain",
          "y": 1.2,
          "yref": "y13 domain"
         },
         {
          "showarrow": false,
          "text": "Other",
          "x": 0.5,
          "xref": "x14 domain",
          "y": 1.2,
          "yref": "y14 domain"
         },
         {
          "showarrow": false,
          "text": "Shopping",
          "x": 0.5,
          "xref": "x15 domain",
          "y": 1.2,
          "yref": "y15 domain"
         },
         {
          "showarrow": false,
          "text": "Snack",
          "x": 0.5,
          "xref": "x16 domain",
          "y": 1.2,
          "yref": "y16 domain"
         },
         {
          "showarrow": false,
          "text": "Transport",
          "x": 0.5,
          "xref": "x17 domain",
          "y": 1.2,
          "yref": "y17 domain"
         },
         {
          "showarrow": false,
          "text": "Travel",
          "x": 0.5,
          "xref": "x18 domain",
          "y": 1.2,
          "yref": "y18 domain"
         }
        ],
        "height": 1000,
        "template": {
         "data": {
          "bar": [
           {
            "error_x": {
             "color": "#2a3f5f"
            },
            "error_y": {
             "color": "#2a3f5f"
            },
            "marker": {
             "line": {
              "color": "#E5ECF6",
              "width": 0.5
             },
             "pattern": {
              "fillmode": "overlay",
              "size": 10,
              "solidity": 0.2
             }
            },
            "type": "bar"
           }
          ],
          "barpolar": [
           {
            "marker": {
             "line": {
              "color": "#E5ECF6",
              "width": 0.5
             },
             "pattern": {
              "fillmode": "overlay",
              "size": 10,
              "solidity": 0.2
             }
            },
            "type": "barpolar"
           }
          ],
          "carpet": [
           {
            "aaxis": {
             "endlinecolor": "#2a3f5f",
             "gridcolor": "white",
             "linecolor": "white",
             "minorgridcolor": "white",
             "startlinecolor": "#2a3f5f"
            },
            "baxis": {
             "endlinecolor": "#2a3f5f",
             "gridcolor": "white",
             "linecolor": "white",
             "minorgridcolor": "white",
             "startlinecolor": "#2a3f5f"
            },
            "type": "carpet"
           }
          ],
          "choropleth": [
           {
            "colorbar": {
             "outlinewidth": 0,
             "ticks": ""
            },
            "type": "choropleth"
           }
          ],
          "contour": [
           {
            "colorbar": {
             "outlinewidth": 0,
             "ticks": ""
            },
            "colorscale": [
             [
              0,
              "#0d0887"
             ],
             [
              0.1111111111111111,
              "#46039f"
             ],
             [
              0.2222222222222222,
              "#7201a8"
             ],
             [
              0.3333333333333333,
              "#9c179e"
             ],
             [
              0.4444444444444444,
              "#bd3786"
             ],
             [
              0.5555555555555556,
              "#d8576b"
             ],
             [
              0.6666666666666666,
              "#ed7953"
             ],
             [
              0.7777777777777778,
              "#fb9f3a"
             ],
             [
              0.8888888888888888,
              "#fdca26"
             ],
             [
              1,
              "#f0f921"
             ]
            ],
            "type": "contour"
           }
          ],
          "contourcarpet": [
           {
            "colorbar": {
             "outlinewidth": 0,
             "ticks": ""
            },
            "type": "contourcarpet"
           }
          ],
          "heatmap": [
           {
            "colorbar": {
             "outlinewidth": 0,
             "ticks": ""
            },
            "colorscale": [
             [
              0,
              "#0d0887"
             ],
             [
              0.1111111111111111,
              "#46039f"
             ],
             [
              0.2222222222222222,
              "#7201a8"
             ],
             [
              0.3333333333333333,
              "#9c179e"
             ],
             [
              0.4444444444444444,
              "#bd3786"
             ],
             [
              0.5555555555555556,
              "#d8576b"
             ],
             [
              0.6666666666666666,
              "#ed7953"
             ],
             [
              0.7777777777777778,
              "#fb9f3a"
             ],
             [
              0.8888888888888888,
              "#fdca26"
             ],
             [
              1,
              "#f0f921"
             ]
            ],
            "type": "heatmap"
           }
          ],
          "heatmapgl": [
           {
            "colorbar": {
             "outlinewidth": 0,
             "ticks": ""
            },
            "colorscale": [
             [
              0,
              "#0d0887"
             ],
             [
              0.1111111111111111,
              "#46039f"
             ],
             [
              0.2222222222222222,
              "#7201a8"
             ],
             [
              0.3333333333333333,
              "#9c179e"
             ],
             [
              0.4444444444444444,
              "#bd3786"
             ],
             [
              0.5555555555555556,
              "#d8576b"
             ],
             [
              0.6666666666666666,
              "#ed7953"
             ],
             [
              0.7777777777777778,
              "#fb9f3a"
             ],
             [
              0.8888888888888888,
              "#fdca26"
             ],
             [
              1,
              "#f0f921"
             ]
            ],
            "type": "heatmapgl"
           }
          ],
          "histogram": [
           {
            "marker": {
             "pattern": {
              "fillmode": "overlay",
              "size": 10,
              "solidity": 0.2
             }
            },
            "type": "histogram"
           }
          ],
          "histogram2d": [
           {
            "colorbar": {
             "outlinewidth": 0,
             "ticks": ""
            },
            "colorscale": [
             [
              0,
              "#0d0887"
             ],
             [
              0.1111111111111111,
              "#46039f"
             ],
             [
              0.2222222222222222,
              "#7201a8"
             ],
             [
              0.3333333333333333,
              "#9c179e"
             ],
             [
              0.4444444444444444,
              "#bd3786"
             ],
             [
              0.5555555555555556,
              "#d8576b"
             ],
             [
              0.6666666666666666,
              "#ed7953"
             ],
             [
              0.7777777777777778,
              "#fb9f3a"
             ],
             [
              0.8888888888888888,
              "#fdca26"
             ],
             [
              1,
              "#f0f921"
             ]
            ],
            "type": "histogram2d"
           }
          ],
          "histogram2dcontour": [
           {
            "colorbar": {
             "outlinewidth": 0,
             "ticks": ""
            },
            "colorscale": [
             [
              0,
              "#0d0887"
             ],
             [
              0.1111111111111111,
              "#46039f"
             ],
             [
              0.2222222222222222,
              "#7201a8"
             ],
             [
              0.3333333333333333,
              "#9c179e"
             ],
             [
              0.4444444444444444,
              "#bd3786"
             ],
             [
              0.5555555555555556,
              "#d8576b"
             ],
             [
              0.6666666666666666,
              "#ed7953"
             ],
             [
              0.7777777777777778,
              "#fb9f3a"
             ],
             [
              0.8888888888888888,
              "#fdca26"
             ],
             [
              1,
              "#f0f921"
             ]
            ],
            "type": "histogram2dcontour"
           }
          ],
          "mesh3d": [
           {
            "colorbar": {
             "outlinewidth": 0,
             "ticks": ""
            },
            "type": "mesh3d"
           }
          ],
          "parcoords": [
           {
            "line": {
             "colorbar": {
              "outlinewidth": 0,
              "ticks": ""
             }
            },
            "type": "parcoords"
           }
          ],
          "pie": [
           {
            "automargin": true,
            "type": "pie"
           }
          ],
          "scatter": [
           {
            "fillpattern": {
             "fillmode": "overlay",
             "size": 10,
             "solidity": 0.2
            },
            "type": "scatter"
           }
          ],
          "scatter3d": [
           {
            "line": {
             "colorbar": {
              "outlinewidth": 0,
              "ticks": ""
             }
            },
            "marker": {
             "colorbar": {
              "outlinewidth": 0,
              "ticks": ""
             }
            },
            "type": "scatter3d"
           }
          ],
          "scattercarpet": [
           {
            "marker": {
             "colorbar": {
              "outlinewidth": 0,
              "ticks": ""
             }
            },
            "type": "scattercarpet"
           }
          ],
          "scattergeo": [
           {
            "marker": {
             "colorbar": {
              "outlinewidth": 0,
              "ticks": ""
             }
            },
            "type": "scattergeo"
           }
          ],
          "scattergl": [
           {
            "marker": {
             "colorbar": {
              "outlinewidth": 0,
              "ticks": ""
             }
            },
            "type": "scattergl"
           }
          ],
          "scattermapbox": [
           {
            "marker": {
             "colorbar": {
              "outlinewidth": 0,
              "ticks": ""
             }
            },
            "type": "scattermapbox"
           }
          ],
          "scatterpolar": [
           {
            "marker": {
             "colorbar": {
              "outlinewidth": 0,
              "ticks": ""
             }
            },
            "type": "scatterpolar"
           }
          ],
          "scatterpolargl": [
           {
            "marker": {
             "colorbar": {
              "outlinewidth": 0,
              "ticks": ""
             }
            },
            "type": "scatterpolargl"
           }
          ],
          "scatterternary": [
           {
            "marker": {
             "colorbar": {
              "outlinewidth": 0,
              "ticks": ""
             }
            },
            "type": "scatterternary"
           }
          ],
          "surface": [
           {
            "colorbar": {
             "outlinewidth": 0,
             "ticks": ""
            },
            "colorscale": [
             [
              0,
              "#0d0887"
             ],
             [
              0.1111111111111111,
              "#46039f"
             ],
             [
              0.2222222222222222,
              "#7201a8"
             ],
             [
              0.3333333333333333,
              "#9c179e"
             ],
             [
              0.4444444444444444,
              "#bd3786"
             ],
             [
              0.5555555555555556,
              "#d8576b"
             ],
             [
              0.6666666666666666,
              "#ed7953"
             ],
             [
              0.7777777777777778,
              "#fb9f3a"
             ],
             [
              0.8888888888888888,
              "#fdca26"
             ],
             [
              1,
              "#f0f921"
             ]
            ],
            "type": "surface"
           }
          ],
          "table": [
           {
            "cells": {
             "fill": {
              "color": "#EBF0F8"
             },
             "line": {
              "color": "white"
             }
            },
            "header": {
             "fill": {
              "color": "#C8D4E3"
             },
             "line": {
              "color": "white"
             }
            },
            "type": "table"
           }
          ]
         },
         "layout": {
          "annotationdefaults": {
           "arrowcolor": "#2a3f5f",
           "arrowhead": 0,
           "arrowwidth": 1
          },
          "autotypenumbers": "strict",
          "coloraxis": {
           "colorbar": {
            "outlinewidth": 0,
            "ticks": ""
           }
          },
          "colorscale": {
           "diverging": [
            [
             0,
             "#8e0152"
            ],
            [
             0.1,
             "#c51b7d"
            ],
            [
             0.2,
             "#de77ae"
            ],
            [
             0.3,
             "#f1b6da"
            ],
            [
             0.4,
             "#fde0ef"
            ],
            [
             0.5,
             "#f7f7f7"
            ],
            [
             0.6,
             "#e6f5d0"
            ],
            [
             0.7,
             "#b8e186"
            ],
            [
             0.8,
             "#7fbc41"
            ],
            [
             0.9,
             "#4d9221"
            ],
            [
             1,
             "#276419"
            ]
           ],
           "sequential": [
            [
             0,
             "#0d0887"
            ],
            [
             0.1111111111111111,
             "#46039f"
            ],
            [
             0.2222222222222222,
             "#7201a8"
            ],
            [
             0.3333333333333333,
             "#9c179e"
            ],
            [
             0.4444444444444444,
             "#bd3786"
            ],
            [
             0.5555555555555556,
             "#d8576b"
            ],
            [
             0.6666666666666666,
             "#ed7953"
            ],
            [
             0.7777777777777778,
             "#fb9f3a"
            ],
            [
             0.8888888888888888,
             "#fdca26"
            ],
            [
             1,
             "#f0f921"
            ]
           ],
           "sequentialminus": [
            [
             0,
             "#0d0887"
            ],
            [
             0.1111111111111111,
             "#46039f"
            ],
            [
             0.2222222222222222,
             "#7201a8"
            ],
            [
             0.3333333333333333,
             "#9c179e"
            ],
            [
             0.4444444444444444,
             "#bd3786"
            ],
            [
             0.5555555555555556,
             "#d8576b"
            ],
            [
             0.6666666666666666,
             "#ed7953"
            ],
            [
             0.7777777777777778,
             "#fb9f3a"
            ],
            [
             0.8888888888888888,
             "#fdca26"
            ],
            [
             1,
             "#f0f921"
            ]
           ]
          },
          "colorway": [
           "#636efa",
           "#EF553B",
           "#00cc96",
           "#ab63fa",
           "#FFA15A",
           "#19d3f3",
           "#FF6692",
           "#B6E880",
           "#FF97FF",
           "#FECB52"
          ],
          "font": {
           "color": "#2a3f5f"
          },
          "geo": {
           "bgcolor": "white",
           "lakecolor": "white",
           "landcolor": "#E5ECF6",
           "showlakes": true,
           "showland": true,
           "subunitcolor": "white"
          },
          "hoverlabel": {
           "align": "left"
          },
          "hovermode": "closest",
          "mapbox": {
           "style": "light"
          },
          "paper_bgcolor": "white",
          "plot_bgcolor": "#E5ECF6",
          "polar": {
           "angularaxis": {
            "gridcolor": "white",
            "linecolor": "white",
            "ticks": ""
           },
           "bgcolor": "#E5ECF6",
           "radialaxis": {
            "gridcolor": "white",
            "linecolor": "white",
            "ticks": ""
           }
          },
          "scene": {
           "xaxis": {
            "backgroundcolor": "#E5ECF6",
            "gridcolor": "white",
            "gridwidth": 2,
            "linecolor": "white",
            "showbackground": true,
            "ticks": "",
            "zerolinecolor": "white"
           },
           "yaxis": {
            "backgroundcolor": "#E5ECF6",
            "gridcolor": "white",
            "gridwidth": 2,
            "linecolor": "white",
            "showbackground": true,
            "ticks": "",
            "zerolinecolor": "white"
           },
           "zaxis": {
            "backgroundcolor": "#E5ECF6",
            "gridcolor": "white",
            "gridwidth": 2,
            "linecolor": "white",
            "showbackground": true,
            "ticks": "",
            "zerolinecolor": "white"
           }
          },
          "shapedefaults": {
           "line": {
            "color": "#2a3f5f"
           }
          },
          "ternary": {
           "aaxis": {
            "gridcolor": "white",
            "linecolor": "white",
            "ticks": ""
           },
           "baxis": {
            "gridcolor": "white",
            "linecolor": "white",
            "ticks": ""
           },
           "bgcolor": "#E5ECF6",
           "caxis": {
            "gridcolor": "white",
            "linecolor": "white",
            "ticks": ""
           }
          },
          "title": {
           "x": 0.05
          },
          "xaxis": {
           "automargin": true,
           "gridcolor": "white",
           "linecolor": "white",
           "ticks": "",
           "title": {
            "standoff": 15
           },
           "zerolinecolor": "white",
           "zerolinewidth": 2
          },
          "yaxis": {
           "automargin": true,
           "gridcolor": "white",
           "linecolor": "white",
           "ticks": "",
           "title": {
            "standoff": 15
           },
           "zerolinecolor": "white",
           "zerolinewidth": 2
          }
         }
        },
        "xaxis": {
         "anchor": "y",
         "domain": [
          0,
          0.2888888888888889
         ]
        },
        "xaxis10": {
         "anchor": "y10",
         "domain": [
          0,
          0.2888888888888889
         ]
        },
        "xaxis11": {
         "anchor": "y11",
         "domain": [
          0.35555555555555557,
          0.6444444444444445
         ]
        },
        "xaxis12": {
         "anchor": "y12",
         "domain": [
          0.7111111111111111,
          1
         ]
        },
        "xaxis13": {
         "anchor": "y13",
         "domain": [
          0,
          0.2888888888888889
         ]
        },
        "xaxis14": {
         "anchor": "y14",
         "domain": [
          0.35555555555555557,
          0.6444444444444445
         ]
        },
        "xaxis15": {
         "anchor": "y15",
         "domain": [
          0.7111111111111111,
          1
         ]
        },
        "xaxis16": {
         "anchor": "y16",
         "domain": [
          0,
          0.2888888888888889
         ]
        },
        "xaxis17": {
         "anchor": "y17",
         "domain": [
          0.35555555555555557,
          0.6444444444444445
         ]
        },
        "xaxis18": {
         "anchor": "y18",
         "domain": [
          0.7111111111111111,
          1
         ]
        },
        "xaxis2": {
         "anchor": "y2",
         "domain": [
          0.35555555555555557,
          0.6444444444444445
         ]
        },
        "xaxis3": {
         "anchor": "y3",
         "domain": [
          0.7111111111111111,
          1
         ]
        },
        "xaxis4": {
         "anchor": "y4",
         "domain": [
          0,
          0.2888888888888889
         ]
        },
        "xaxis5": {
         "anchor": "y5",
         "domain": [
          0.35555555555555557,
          0.6444444444444445
         ]
        },
        "xaxis6": {
         "anchor": "y6",
         "domain": [
          0.7111111111111111,
          1
         ]
        },
        "xaxis7": {
         "anchor": "y7",
         "domain": [
          0,
          0.2888888888888889
         ]
        },
        "xaxis8": {
         "anchor": "y8",
         "domain": [
          0.35555555555555557,
          0.6444444444444445
         ]
        },
        "xaxis9": {
         "anchor": "y9",
         "domain": [
          0.7111111111111111,
          1
         ]
        },
        "yaxis": {
         "anchor": "x",
         "domain": [
          0.875,
          1
         ]
        },
        "yaxis10": {
         "anchor": "x10",
         "domain": [
          0.35,
          0.475
         ]
        },
        "yaxis11": {
         "anchor": "x11",
         "domain": [
          0.35,
          0.475
         ]
        },
        "yaxis12": {
         "anchor": "x12",
         "domain": [
          0.35,
          0.475
         ]
        },
        "yaxis13": {
         "anchor": "x13",
         "domain": [
          0.175,
          0.3
         ]
        },
        "yaxis14": {
         "anchor": "x14",
         "domain": [
          0.175,
          0.3
         ]
        },
        "yaxis15": {
         "anchor": "x15",
         "domain": [
          0.175,
          0.3
         ]
        },
        "yaxis16": {
         "anchor": "x16",
         "domain": [
          0,
          0.125
         ]
        },
        "yaxis17": {
         "anchor": "x17",
         "domain": [
          0,
          0.125
         ]
        },
        "yaxis18": {
         "anchor": "x18",
         "domain": [
          0,
          0.125
         ]
        },
        "yaxis2": {
         "anchor": "x2",
         "domain": [
          0.875,
          1
         ]
        },
        "yaxis3": {
         "anchor": "x3",
         "domain": [
          0.875,
          1
         ]
        },
        "yaxis4": {
         "anchor": "x4",
         "domain": [
          0.7,
          0.825
         ]
        },
        "yaxis5": {
         "anchor": "x5",
         "domain": [
          0.7,
          0.825
         ]
        },
        "yaxis6": {
         "anchor": "x6",
         "domain": [
          0.7,
          0.825
         ]
        },
        "yaxis7": {
         "anchor": "x7",
         "domain": [
          0.525,
          0.65
         ]
        },
        "yaxis8": {
         "anchor": "x8",
         "domain": [
          0.525,
          0.65
         ]
        },
        "yaxis9": {
         "anchor": "x9",
         "domain": [
          0.525,
          0.65
         ]
        }
       }
      },
      "text/html": [
       "<div>                            <div id=\"9cd988de-0567-4dc4-8a68-a15e00ad7988\" class=\"plotly-graph-div\" style=\"height:1000px; width:100%;\"></div>            <script type=\"text/javascript\">                require([\"plotly\"], function(Plotly) {                    window.PLOTLYENV=window.PLOTLYENV || {};                                    if (document.getElementById(\"9cd988de-0567-4dc4-8a68-a15e00ad7988\")) {                    Plotly.newPlot(                        \"9cd988de-0567-4dc4-8a68-a15e00ad7988\",                        [{\"x\":[\"2022-01-01T00:00:00.000000000\",\"2022-02-01T00:00:00.000000000\",\"2022-03-01T00:00:00.000000000\",\"2022-04-01T00:00:00.000000000\",\"2022-05-01T00:00:00.000000000\",\"2022-07-01T00:00:00.000000000\",\"2022-08-01T00:00:00.000000000\",\"2022-09-01T00:00:00.000000000\",\"2022-10-01T00:00:00.000000000\",\"2022-11-01T00:00:00.000000000\",\"2022-12-01T00:00:00.000000000\"],\"y\":[984993.0,1289000.0,1276642.0,564000.0,2002500.0,1820600.0,2053790.0,1280000.0,1352100.0,1678282.0,1627745.0],\"type\":\"scatter\",\"xaxis\":\"x\",\"yaxis\":\"y\"},{\"x\":[\"2022-02-01T00:00:00.000000000\"],\"y\":[245000.0],\"type\":\"scatter\",\"xaxis\":\"x2\",\"yaxis\":\"y2\"},{\"x\":[\"2022-01-01T00:00:00.000000000\",\"2022-02-01T00:00:00.000000000\",\"2022-03-01T00:00:00.000000000\",\"2022-04-01T00:00:00.000000000\",\"2022-05-01T00:00:00.000000000\",\"2022-06-01T00:00:00.000000000\",\"2022-07-01T00:00:00.000000000\",\"2022-08-01T00:00:00.000000000\",\"2022-09-01T00:00:00.000000000\",\"2022-10-01T00:00:00.000000000\",\"2022-11-01T00:00:00.000000000\",\"2022-12-01T00:00:00.000000000\"],\"y\":[833500.0,711400.0,1262500.0,610400.0,746400.0,492500.0,454600.0,891293.0,684000.0,835250.0,380000.0,607850.0],\"type\":\"scatter\",\"xaxis\":\"x3\",\"yaxis\":\"y3\"},{\"x\":[\"2022-01-01T00:00:00.000000000\",\"2022-02-01T00:00:00.000000000\",\"2022-04-01T00:00:00.000000000\",\"2022-06-01T00:00:00.000000000\",\"2022-07-01T00:00:00.000000000\",\"2022-08-01T00:00:00.000000000\",\"2022-09-01T00:00:00.000000000\",\"2022-10-01T00:00:00.000000000\",\"2022-11-01T00:00:00.000000000\",\"2022-12-01T00:00:00.000000000\"],\"y\":[20000.0,256000.0,96200.0,106800.0,74400.0,49800.0,208900.0,49800.0,566580.0,107750.0],\"type\":\"scatter\",\"xaxis\":\"x4\",\"yaxis\":\"y4\"},{\"x\":[\"2022-01-01T00:00:00.000000000\",\"2022-04-01T00:00:00.000000000\",\"2022-06-01T00:00:00.000000000\",\"2022-07-01T00:00:00.000000000\",\"2022-08-01T00:00:00.000000000\",\"2022-09-01T00:00:00.000000000\",\"2022-11-01T00:00:00.000000000\",\"2022-12-01T00:00:00.000000000\"],\"y\":[100000.0,130000.0,222000.0,2525000.0,1297008.0,380000.0,212500.0,319000.0],\"type\":\"scatter\",\"xaxis\":\"x5\",\"yaxis\":\"y5\"},{\"x\":[\"2022-01-01T00:00:00.000000000\",\"2022-02-01T00:00:00.000000000\",\"2022-03-01T00:00:00.000000000\",\"2022-04-01T00:00:00.000000000\",\"2022-05-01T00:00:00.000000000\",\"2022-06-01T00:00:00.000000000\",\"2022-07-01T00:00:00.000000000\",\"2022-08-01T00:00:00.000000000\",\"2022-09-01T00:00:00.000000000\",\"2022-10-01T00:00:00.000000000\",\"2022-11-01T00:00:00.000000000\",\"2022-12-01T00:00:00.000000000\"],\"y\":[1787400.0,5288325.0,7018915.0,5194678.0,2843329.0,1943480.0,3032690.0,2546083.0,3339588.0,2461576.0,3951622.0,5708326.0],\"type\":\"scatter\",\"xaxis\":\"x6\",\"yaxis\":\"y6\"},{\"x\":[\"2022-02-01T00:00:00.000000000\",\"2022-07-01T00:00:00.000000000\"],\"y\":[185900.0,49500.0],\"type\":\"scatter\",\"xaxis\":\"x7\",\"yaxis\":\"y7\"},{\"x\":[\"2022-02-01T00:00:00.000000000\",\"2022-05-01T00:00:00.000000000\",\"2022-06-01T00:00:00.000000000\",\"2022-07-01T00:00:00.000000000\",\"2022-08-01T00:00:00.000000000\",\"2022-09-01T00:00:00.000000000\",\"2022-10-01T00:00:00.000000000\",\"2022-12-01T00:00:00.000000000\"],\"y\":[448700.0,667000.0,319500.0,475000.0,820000.0,620533.0,100000.0,592900.0],\"type\":\"scatter\",\"xaxis\":\"x8\",\"yaxis\":\"y8\"},{\"x\":[\"2022-01-01T00:00:00.000000000\",\"2022-02-01T00:00:00.000000000\",\"2022-03-01T00:00:00.000000000\",\"2022-04-01T00:00:00.000000000\",\"2022-05-01T00:00:00.000000000\",\"2022-06-01T00:00:00.000000000\",\"2022-07-01T00:00:00.000000000\",\"2022-08-01T00:00:00.000000000\",\"2022-09-01T00:00:00.000000000\",\"2022-10-01T00:00:00.000000000\",\"2022-11-01T00:00:00.000000000\",\"2022-12-01T00:00:00.000000000\"],\"y\":[497200.0,994900.0,121300.0,2247550.0,3990870.0,1777045.0,2379493.0,1432892.0,2436732.0,1428598.0,1506009.0,1606980.0],\"type\":\"scatter\",\"xaxis\":\"x9\",\"yaxis\":\"y9\"},{\"x\":[\"2022-01-01T00:00:00.000000000\",\"2022-02-01T00:00:00.000000000\",\"2022-03-01T00:00:00.000000000\",\"2022-06-01T00:00:00.000000000\",\"2022-07-01T00:00:00.000000000\",\"2022-08-01T00:00:00.000000000\",\"2022-09-01T00:00:00.000000000\",\"2022-10-01T00:00:00.000000000\",\"2022-11-01T00:00:00.000000000\",\"2022-12-01T00:00:00.000000000\"],\"y\":[6563000.0,5695900.0,39000.0,550000.0,206298.0,694882.0,273959.0,389600.0,1723270.0,404280.0],\"type\":\"scatter\",\"xaxis\":\"x10\",\"yaxis\":\"y10\"},{\"x\":[\"2022-01-01T00:00:00.000000000\",\"2022-02-01T00:00:00.000000000\",\"2022-03-01T00:00:00.000000000\",\"2022-04-01T00:00:00.000000000\",\"2022-05-01T00:00:00.000000000\",\"2022-06-01T00:00:00.000000000\",\"2022-07-01T00:00:00.000000000\",\"2022-08-01T00:00:00.000000000\",\"2022-09-01T00:00:00.000000000\",\"2022-10-01T00:00:00.000000000\",\"2022-11-01T00:00:00.000000000\"],\"y\":[261555.0,1474946.0,2808750.0,476596.0,3767479.0,951556.0,536900.0,107500.0,453540.0,85800.0,763650.0],\"type\":\"scatter\",\"xaxis\":\"x11\",\"yaxis\":\"y11\"},{\"x\":[\"2022-02-01T00:00:00.000000000\",\"2022-04-01T00:00:00.000000000\",\"2022-05-01T00:00:00.000000000\",\"2022-08-01T00:00:00.000000000\"],\"y\":[60000.0,486000.0,285000.0,40000.0],\"type\":\"scatter\",\"xaxis\":\"x12\",\"yaxis\":\"y12\"},{\"x\":[\"2022-01-01T00:00:00.000000000\",\"2022-02-01T00:00:00.000000000\",\"2022-03-01T00:00:00.000000000\",\"2022-04-01T00:00:00.000000000\",\"2022-05-01T00:00:00.000000000\",\"2022-06-01T00:00:00.000000000\",\"2022-07-01T00:00:00.000000000\",\"2022-08-01T00:00:00.000000000\",\"2022-09-01T00:00:00.000000000\",\"2022-10-01T00:00:00.000000000\",\"2022-11-01T00:00:00.000000000\",\"2022-12-01T00:00:00.000000000\"],\"y\":[7618155.0,5210056.0,3819556.0,3308174.0,2937177.0,4121086.0,4200642.0,2925791.0,3276141.0,3777210.0,1832700.0,2644112.0],\"type\":\"scatter\",\"xaxis\":\"x13\",\"yaxis\":\"y13\"},{\"x\":[\"2022-08-01T00:00:00.000000000\"],\"y\":[100533.0],\"type\":\"scatter\",\"xaxis\":\"x14\",\"yaxis\":\"y14\"},{\"x\":[\"2022-01-01T00:00:00.000000000\",\"2022-02-01T00:00:00.000000000\",\"2022-03-01T00:00:00.000000000\",\"2022-04-01T00:00:00.000000000\",\"2022-05-01T00:00:00.000000000\",\"2022-06-01T00:00:00.000000000\",\"2022-07-01T00:00:00.000000000\",\"2022-08-01T00:00:00.000000000\",\"2022-09-01T00:00:00.000000000\",\"2022-10-01T00:00:00.000000000\",\"2022-11-01T00:00:00.000000000\",\"2022-12-01T00:00:00.000000000\"],\"y\":[437199.0,158100.0,2227600.0,321300.0,155400.0,589500.0,1453500.0,964480.0,2244000.0,2081500.0,515700.0,2887325.0],\"type\":\"scatter\",\"xaxis\":\"x15\",\"yaxis\":\"y15\"},{\"x\":[\"2022-01-01T00:00:00.000000000\",\"2022-02-01T00:00:00.000000000\",\"2022-03-01T00:00:00.000000000\",\"2022-04-01T00:00:00.000000000\",\"2022-05-01T00:00:00.000000000\",\"2022-06-01T00:00:00.000000000\",\"2022-07-01T00:00:00.000000000\",\"2022-08-01T00:00:00.000000000\",\"2022-09-01T00:00:00.000000000\",\"2022-10-01T00:00:00.000000000\",\"2022-11-01T00:00:00.000000000\",\"2022-12-01T00:00:00.000000000\"],\"y\":[806400.0,219400.0,298500.0,266500.0,27000.0,777950.0,581900.0,684010.0,651690.0,802550.0,762100.0,878561.0],\"type\":\"scatter\",\"xaxis\":\"x16\",\"yaxis\":\"y16\"},{\"x\":[\"2022-01-01T00:00:00.000000000\",\"2022-02-01T00:00:00.000000000\",\"2022-03-01T00:00:00.000000000\",\"2022-04-01T00:00:00.000000000\",\"2022-05-01T00:00:00.000000000\",\"2022-06-01T00:00:00.000000000\",\"2022-07-01T00:00:00.000000000\",\"2022-08-01T00:00:00.000000000\",\"2022-09-01T00:00:00.000000000\",\"2022-10-01T00:00:00.000000000\",\"2022-11-01T00:00:00.000000000\",\"2022-12-01T00:00:00.000000000\"],\"y\":[1318300.0,1185000.0,1705000.0,2091345.0,1073653.0,3084230.0,1596080.0,1300000.0,1227898.0,1503713.0,856841.0,3728967.0],\"type\":\"scatter\",\"xaxis\":\"x17\",\"yaxis\":\"y17\"},{\"x\":[\"2022-03-01T00:00:00.000000000\",\"2022-08-01T00:00:00.000000000\",\"2022-09-01T00:00:00.000000000\",\"2022-11-01T00:00:00.000000000\"],\"y\":[1118910.0,2724637.0,3621600.0,1403000.0],\"type\":\"scatter\",\"xaxis\":\"x18\",\"yaxis\":\"y18\"}],                        {\"template\":{\"data\":{\"histogram2dcontour\":[{\"type\":\"histogram2dcontour\",\"colorbar\":{\"outlinewidth\":0,\"ticks\":\"\"},\"colorscale\":[[0.0,\"#0d0887\"],[0.1111111111111111,\"#46039f\"],[0.2222222222222222,\"#7201a8\"],[0.3333333333333333,\"#9c179e\"],[0.4444444444444444,\"#bd3786\"],[0.5555555555555556,\"#d8576b\"],[0.6666666666666666,\"#ed7953\"],[0.7777777777777778,\"#fb9f3a\"],[0.8888888888888888,\"#fdca26\"],[1.0,\"#f0f921\"]]}],\"choropleth\":[{\"type\":\"choropleth\",\"colorbar\":{\"outlinewidth\":0,\"ticks\":\"\"}}],\"histogram2d\":[{\"type\":\"histogram2d\",\"colorbar\":{\"outlinewidth\":0,\"ticks\":\"\"},\"colorscale\":[[0.0,\"#0d0887\"],[0.1111111111111111,\"#46039f\"],[0.2222222222222222,\"#7201a8\"],[0.3333333333333333,\"#9c179e\"],[0.4444444444444444,\"#bd3786\"],[0.5555555555555556,\"#d8576b\"],[0.6666666666666666,\"#ed7953\"],[0.7777777777777778,\"#fb9f3a\"],[0.8888888888888888,\"#fdca26\"],[1.0,\"#f0f921\"]]}],\"heatmap\":[{\"type\":\"heatmap\",\"colorbar\":{\"outlinewidth\":0,\"ticks\":\"\"},\"colorscale\":[[0.0,\"#0d0887\"],[0.1111111111111111,\"#46039f\"],[0.2222222222222222,\"#7201a8\"],[0.3333333333333333,\"#9c179e\"],[0.4444444444444444,\"#bd3786\"],[0.5555555555555556,\"#d8576b\"],[0.6666666666666666,\"#ed7953\"],[0.7777777777777778,\"#fb9f3a\"],[0.8888888888888888,\"#fdca26\"],[1.0,\"#f0f921\"]]}],\"heatmapgl\":[{\"type\":\"heatmapgl\",\"colorbar\":{\"outlinewidth\":0,\"ticks\":\"\"},\"colorscale\":[[0.0,\"#0d0887\"],[0.1111111111111111,\"#46039f\"],[0.2222222222222222,\"#7201a8\"],[0.3333333333333333,\"#9c179e\"],[0.4444444444444444,\"#bd3786\"],[0.5555555555555556,\"#d8576b\"],[0.6666666666666666,\"#ed7953\"],[0.7777777777777778,\"#fb9f3a\"],[0.8888888888888888,\"#fdca26\"],[1.0,\"#f0f921\"]]}],\"contourcarpet\":[{\"type\":\"contourcarpet\",\"colorbar\":{\"outlinewidth\":0,\"ticks\":\"\"}}],\"contour\":[{\"type\":\"contour\",\"colorbar\":{\"outlinewidth\":0,\"ticks\":\"\"},\"colorscale\":[[0.0,\"#0d0887\"],[0.1111111111111111,\"#46039f\"],[0.2222222222222222,\"#7201a8\"],[0.3333333333333333,\"#9c179e\"],[0.4444444444444444,\"#bd3786\"],[0.5555555555555556,\"#d8576b\"],[0.6666666666666666,\"#ed7953\"],[0.7777777777777778,\"#fb9f3a\"],[0.8888888888888888,\"#fdca26\"],[1.0,\"#f0f921\"]]}],\"surface\":[{\"type\":\"surface\",\"colorbar\":{\"outlinewidth\":0,\"ticks\":\"\"},\"colorscale\":[[0.0,\"#0d0887\"],[0.1111111111111111,\"#46039f\"],[0.2222222222222222,\"#7201a8\"],[0.3333333333333333,\"#9c179e\"],[0.4444444444444444,\"#bd3786\"],[0.5555555555555556,\"#d8576b\"],[0.6666666666666666,\"#ed7953\"],[0.7777777777777778,\"#fb9f3a\"],[0.8888888888888888,\"#fdca26\"],[1.0,\"#f0f921\"]]}],\"mesh3d\":[{\"type\":\"mesh3d\",\"colorbar\":{\"outlinewidth\":0,\"ticks\":\"\"}}],\"scatter\":[{\"fillpattern\":{\"fillmode\":\"overlay\",\"size\":10,\"solidity\":0.2},\"type\":\"scatter\"}],\"parcoords\":[{\"type\":\"parcoords\",\"line\":{\"colorbar\":{\"outlinewidth\":0,\"ticks\":\"\"}}}],\"scatterpolargl\":[{\"type\":\"scatterpolargl\",\"marker\":{\"colorbar\":{\"outlinewidth\":0,\"ticks\":\"\"}}}],\"bar\":[{\"error_x\":{\"color\":\"#2a3f5f\"},\"error_y\":{\"color\":\"#2a3f5f\"},\"marker\":{\"line\":{\"color\":\"#E5ECF6\",\"width\":0.5},\"pattern\":{\"fillmode\":\"overlay\",\"size\":10,\"solidity\":0.2}},\"type\":\"bar\"}],\"scattergeo\":[{\"type\":\"scattergeo\",\"marker\":{\"colorbar\":{\"outlinewidth\":0,\"ticks\":\"\"}}}],\"scatterpolar\":[{\"type\":\"scatterpolar\",\"marker\":{\"colorbar\":{\"outlinewidth\":0,\"ticks\":\"\"}}}],\"histogram\":[{\"marker\":{\"pattern\":{\"fillmode\":\"overlay\",\"size\":10,\"solidity\":0.2}},\"type\":\"histogram\"}],\"scattergl\":[{\"type\":\"scattergl\",\"marker\":{\"colorbar\":{\"outlinewidth\":0,\"ticks\":\"\"}}}],\"scatter3d\":[{\"type\":\"scatter3d\",\"line\":{\"colorbar\":{\"outlinewidth\":0,\"ticks\":\"\"}},\"marker\":{\"colorbar\":{\"outlinewidth\":0,\"ticks\":\"\"}}}],\"scattermapbox\":[{\"type\":\"scattermapbox\",\"marker\":{\"colorbar\":{\"outlinewidth\":0,\"ticks\":\"\"}}}],\"scatterternary\":[{\"type\":\"scatterternary\",\"marker\":{\"colorbar\":{\"outlinewidth\":0,\"ticks\":\"\"}}}],\"scattercarpet\":[{\"type\":\"scattercarpet\",\"marker\":{\"colorbar\":{\"outlinewidth\":0,\"ticks\":\"\"}}}],\"carpet\":[{\"aaxis\":{\"endlinecolor\":\"#2a3f5f\",\"gridcolor\":\"white\",\"linecolor\":\"white\",\"minorgridcolor\":\"white\",\"startlinecolor\":\"#2a3f5f\"},\"baxis\":{\"endlinecolor\":\"#2a3f5f\",\"gridcolor\":\"white\",\"linecolor\":\"white\",\"minorgridcolor\":\"white\",\"startlinecolor\":\"#2a3f5f\"},\"type\":\"carpet\"}],\"table\":[{\"cells\":{\"fill\":{\"color\":\"#EBF0F8\"},\"line\":{\"color\":\"white\"}},\"header\":{\"fill\":{\"color\":\"#C8D4E3\"},\"line\":{\"color\":\"white\"}},\"type\":\"table\"}],\"barpolar\":[{\"marker\":{\"line\":{\"color\":\"#E5ECF6\",\"width\":0.5},\"pattern\":{\"fillmode\":\"overlay\",\"size\":10,\"solidity\":0.2}},\"type\":\"barpolar\"}],\"pie\":[{\"automargin\":true,\"type\":\"pie\"}]},\"layout\":{\"autotypenumbers\":\"strict\",\"colorway\":[\"#636efa\",\"#EF553B\",\"#00cc96\",\"#ab63fa\",\"#FFA15A\",\"#19d3f3\",\"#FF6692\",\"#B6E880\",\"#FF97FF\",\"#FECB52\"],\"font\":{\"color\":\"#2a3f5f\"},\"hovermode\":\"closest\",\"hoverlabel\":{\"align\":\"left\"},\"paper_bgcolor\":\"white\",\"plot_bgcolor\":\"#E5ECF6\",\"polar\":{\"bgcolor\":\"#E5ECF6\",\"angularaxis\":{\"gridcolor\":\"white\",\"linecolor\":\"white\",\"ticks\":\"\"},\"radialaxis\":{\"gridcolor\":\"white\",\"linecolor\":\"white\",\"ticks\":\"\"}},\"ternary\":{\"bgcolor\":\"#E5ECF6\",\"aaxis\":{\"gridcolor\":\"white\",\"linecolor\":\"white\",\"ticks\":\"\"},\"baxis\":{\"gridcolor\":\"white\",\"linecolor\":\"white\",\"ticks\":\"\"},\"caxis\":{\"gridcolor\":\"white\",\"linecolor\":\"white\",\"ticks\":\"\"}},\"coloraxis\":{\"colorbar\":{\"outlinewidth\":0,\"ticks\":\"\"}},\"colorscale\":{\"sequential\":[[0.0,\"#0d0887\"],[0.1111111111111111,\"#46039f\"],[0.2222222222222222,\"#7201a8\"],[0.3333333333333333,\"#9c179e\"],[0.4444444444444444,\"#bd3786\"],[0.5555555555555556,\"#d8576b\"],[0.6666666666666666,\"#ed7953\"],[0.7777777777777778,\"#fb9f3a\"],[0.8888888888888888,\"#fdca26\"],[1.0,\"#f0f921\"]],\"sequentialminus\":[[0.0,\"#0d0887\"],[0.1111111111111111,\"#46039f\"],[0.2222222222222222,\"#7201a8\"],[0.3333333333333333,\"#9c179e\"],[0.4444444444444444,\"#bd3786\"],[0.5555555555555556,\"#d8576b\"],[0.6666666666666666,\"#ed7953\"],[0.7777777777777778,\"#fb9f3a\"],[0.8888888888888888,\"#fdca26\"],[1.0,\"#f0f921\"]],\"diverging\":[[0,\"#8e0152\"],[0.1,\"#c51b7d\"],[0.2,\"#de77ae\"],[0.3,\"#f1b6da\"],[0.4,\"#fde0ef\"],[0.5,\"#f7f7f7\"],[0.6,\"#e6f5d0\"],[0.7,\"#b8e186\"],[0.8,\"#7fbc41\"],[0.9,\"#4d9221\"],[1,\"#276419\"]]},\"xaxis\":{\"gridcolor\":\"white\",\"linecolor\":\"white\",\"ticks\":\"\",\"title\":{\"standoff\":15},\"zerolinecolor\":\"white\",\"automargin\":true,\"zerolinewidth\":2},\"yaxis\":{\"gridcolor\":\"white\",\"linecolor\":\"white\",\"ticks\":\"\",\"title\":{\"standoff\":15},\"zerolinecolor\":\"white\",\"automargin\":true,\"zerolinewidth\":2},\"scene\":{\"xaxis\":{\"backgroundcolor\":\"#E5ECF6\",\"gridcolor\":\"white\",\"linecolor\":\"white\",\"showbackground\":true,\"ticks\":\"\",\"zerolinecolor\":\"white\",\"gridwidth\":2},\"yaxis\":{\"backgroundcolor\":\"#E5ECF6\",\"gridcolor\":\"white\",\"linecolor\":\"white\",\"showbackground\":true,\"ticks\":\"\",\"zerolinecolor\":\"white\",\"gridwidth\":2},\"zaxis\":{\"backgroundcolor\":\"#E5ECF6\",\"gridcolor\":\"white\",\"linecolor\":\"white\",\"showbackground\":true,\"ticks\":\"\",\"zerolinecolor\":\"white\",\"gridwidth\":2}},\"shapedefaults\":{\"line\":{\"color\":\"#2a3f5f\"}},\"annotationdefaults\":{\"arrowcolor\":\"#2a3f5f\",\"arrowhead\":0,\"arrowwidth\":1},\"geo\":{\"bgcolor\":\"white\",\"landcolor\":\"#E5ECF6\",\"subunitcolor\":\"white\",\"showland\":true,\"showlakes\":true,\"lakecolor\":\"white\"},\"title\":{\"x\":0.05},\"mapbox\":{\"style\":\"light\"}}},\"xaxis\":{\"anchor\":\"y\",\"domain\":[0.0,0.2888888888888889]},\"yaxis\":{\"anchor\":\"x\",\"domain\":[0.875,1.0]},\"xaxis2\":{\"anchor\":\"y2\",\"domain\":[0.35555555555555557,0.6444444444444445]},\"yaxis2\":{\"anchor\":\"x2\",\"domain\":[0.875,1.0]},\"xaxis3\":{\"anchor\":\"y3\",\"domain\":[0.7111111111111111,1.0]},\"yaxis3\":{\"anchor\":\"x3\",\"domain\":[0.875,1.0]},\"xaxis4\":{\"anchor\":\"y4\",\"domain\":[0.0,0.2888888888888889]},\"yaxis4\":{\"anchor\":\"x4\",\"domain\":[0.7,0.825]},\"xaxis5\":{\"anchor\":\"y5\",\"domain\":[0.35555555555555557,0.6444444444444445]},\"yaxis5\":{\"anchor\":\"x5\",\"domain\":[0.7,0.825]},\"xaxis6\":{\"anchor\":\"y6\",\"domain\":[0.7111111111111111,1.0]},\"yaxis6\":{\"anchor\":\"x6\",\"domain\":[0.7,0.825]},\"xaxis7\":{\"anchor\":\"y7\",\"domain\":[0.0,0.2888888888888889]},\"yaxis7\":{\"anchor\":\"x7\",\"domain\":[0.525,0.65]},\"xaxis8\":{\"anchor\":\"y8\",\"domain\":[0.35555555555555557,0.6444444444444445]},\"yaxis8\":{\"anchor\":\"x8\",\"domain\":[0.525,0.65]},\"xaxis9\":{\"anchor\":\"y9\",\"domain\":[0.7111111111111111,1.0]},\"yaxis9\":{\"anchor\":\"x9\",\"domain\":[0.525,0.65]},\"xaxis10\":{\"anchor\":\"y10\",\"domain\":[0.0,0.2888888888888889]},\"yaxis10\":{\"anchor\":\"x10\",\"domain\":[0.35,0.475]},\"xaxis11\":{\"anchor\":\"y11\",\"domain\":[0.35555555555555557,0.6444444444444445]},\"yaxis11\":{\"anchor\":\"x11\",\"domain\":[0.35,0.475]},\"xaxis12\":{\"anchor\":\"y12\",\"domain\":[0.7111111111111111,1.0]},\"yaxis12\":{\"anchor\":\"x12\",\"domain\":[0.35,0.475]},\"xaxis13\":{\"anchor\":\"y13\",\"domain\":[0.0,0.2888888888888889]},\"yaxis13\":{\"anchor\":\"x13\",\"domain\":[0.175,0.3]},\"xaxis14\":{\"anchor\":\"y14\",\"domain\":[0.35555555555555557,0.6444444444444445]},\"yaxis14\":{\"anchor\":\"x14\",\"domain\":[0.175,0.3]},\"xaxis15\":{\"anchor\":\"y15\",\"domain\":[0.7111111111111111,1.0]},\"yaxis15\":{\"anchor\":\"x15\",\"domain\":[0.175,0.3]},\"xaxis16\":{\"anchor\":\"y16\",\"domain\":[0.0,0.2888888888888889]},\"yaxis16\":{\"anchor\":\"x16\",\"domain\":[0.0,0.125]},\"xaxis17\":{\"anchor\":\"y17\",\"domain\":[0.35555555555555557,0.6444444444444445]},\"yaxis17\":{\"anchor\":\"x17\",\"domain\":[0.0,0.125]},\"xaxis18\":{\"anchor\":\"y18\",\"domain\":[0.7111111111111111,1.0]},\"yaxis18\":{\"anchor\":\"x18\",\"domain\":[0.0,0.125]},\"annotations\":[{\"showarrow\":false,\"text\":\"Bills & Fees\",\"x\":0.5,\"xref\":\"x domain\",\"y\":1.2,\"yref\":\"y domain\"},{\"showarrow\":false,\"text\":\"Books\",\"x\":0.5,\"xref\":\"x2 domain\",\"y\":1.2,\"yref\":\"y2 domain\"},{\"showarrow\":false,\"text\":\"Coffee\",\"x\":0.5,\"xref\":\"x3 domain\",\"y\":1.2,\"yref\":\"y3 domain\"},{\"showarrow\":false,\"text\":\"Drink\",\"x\":0.5,\"xref\":\"x4 domain\",\"y\":1.2,\"yref\":\"y4 domain\"},{\"showarrow\":false,\"text\":\"Entertainment\",\"x\":0.5,\"xref\":\"x5 domain\",\"y\":1.2,\"yref\":\"y5 domain\"},{\"showarrow\":false,\"text\":\"Food & Drink\",\"x\":0.5,\"xref\":\"x6 domain\",\"y\":1.2,\"yref\":\"y6 domain\"},{\"showarrow\":false,\"text\":\"Gadget\",\"x\":0.5,\"xref\":\"x7 domain\",\"y\":1.2,\"yref\":\"y7 domain\"},{\"showarrow\":false,\"text\":\"Gifts\",\"x\":0.5,\"xref\":\"x8 domain\",\"y\":1.2,\"yref\":\"y8 domain\"},{\"showarrow\":false,\"text\":\"Groceries\",\"x\":0.5,\"xref\":\"x9 domain\",\"y\":1.2,\"yref\":\"y9 domain\"},{\"showarrow\":false,\"text\":\"Healthcare\",\"x\":0.5,\"xref\":\"x10 domain\",\"y\":1.2,\"yref\":\"y10 domain\"},{\"showarrow\":false,\"text\":\"Home\",\"x\":0.5,\"xref\":\"x11 domain\",\"y\":1.2,\"yref\":\"y11 domain\"},{\"showarrow\":false,\"text\":\"Laundry\",\"x\":0.5,\"xref\":\"x12 domain\",\"y\":1.2,\"yref\":\"y12 domain\"},{\"showarrow\":false,\"text\":\"Nami\",\"x\":0.5,\"xref\":\"x13 domain\",\"y\":1.2,\"yref\":\"y13 domain\"},{\"showarrow\":false,\"text\":\"Other\",\"x\":0.5,\"xref\":\"x14 domain\",\"y\":1.2,\"yref\":\"y14 domain\"},{\"showarrow\":false,\"text\":\"Shopping\",\"x\":0.5,\"xref\":\"x15 domain\",\"y\":1.2,\"yref\":\"y15 domain\"},{\"showarrow\":false,\"text\":\"Snack\",\"x\":0.5,\"xref\":\"x16 domain\",\"y\":1.2,\"yref\":\"y16 domain\"},{\"showarrow\":false,\"text\":\"Transport\",\"x\":0.5,\"xref\":\"x17 domain\",\"y\":1.2,\"yref\":\"y17 domain\"},{\"showarrow\":false,\"text\":\"Travel\",\"x\":0.5,\"xref\":\"x18 domain\",\"y\":1.2,\"yref\":\"y18 domain\"}],\"height\":1000},                        {\"responsive\": true}                    ).then(function(){\n",
       "                            \n",
       "var gd = document.getElementById('9cd988de-0567-4dc4-8a68-a15e00ad7988');\n",
       "var x = new MutationObserver(function (mutations, observer) {{\n",
       "        var display = window.getComputedStyle(gd).display;\n",
       "        if (!display || display === 'none') {{\n",
       "            console.log([gd, 'removed!']);\n",
       "            Plotly.purge(gd);\n",
       "            observer.disconnect();\n",
       "        }}\n",
       "}});\n",
       "\n",
       "// Listen for the removal of the full notebook cells\n",
       "var notebookContainer = gd.closest('#notebook-container');\n",
       "if (notebookContainer) {{\n",
       "    x.observe(notebookContainer, {childList: true});\n",
       "}}\n",
       "\n",
       "// Listen for the clearing of the current output cell\n",
       "var outputEl = gd.closest('.output');\n",
       "if (outputEl) {{\n",
       "    x.observe(outputEl, {childList: true});\n",
       "}}\n",
       "\n",
       "                        })                };                });            </script>        </div>"
      ]
     },
     "metadata": {},
     "output_type": "display_data"
    }
   ],
   "source": [
    "from plotly.subplots import make_subplots\n",
    "import plotly.graph_objects as go\n",
    "\n",
    "max_row = 6\n",
    "max_col = 3\n",
    "fig = make_subplots(rows=max_row, cols=max_col)\n",
    "row, col = 1,1\n",
    "\n",
    "for cat in category_list:\n",
    "    temp = category_m[category_m.category==cat]\n",
    "    fig.append_trace(go.Scatter(x=temp.trx_month.to_numpy(),\n",
    "                                y=temp.amount.to_numpy()),\n",
    "                     row=row, col=col)\n",
    "    fig.add_annotation(xref=\"x domain\",yref=\"y domain\",x=0.5, y=1.2, showarrow=False,\n",
    "                       text=cat, row=row, col=col)\n",
    "\n",
    "    print(cat, row, col)\n",
    "    if col<max_col:\n",
    "        col+=1\n",
    "    else:\n",
    "        row+=1\n",
    "        col=1\n",
    "        \n",
    "fig.update_layout(height=1000)\n",
    "\n",
    "fig.show()\n",
    "\n"
   ]
  }
 ],
 "metadata": {
  "kernelspec": {
   "display_name": "Python 3 (ipykernel)",
   "language": "python",
   "name": "python3"
  },
  "language_info": {
   "codemirror_mode": {
    "name": "ipython",
    "version": 3
   },
   "file_extension": ".py",
   "mimetype": "text/x-python",
   "name": "python",
   "nbconvert_exporter": "python",
   "pygments_lexer": "ipython3",
   "version": "3.10.5"
  },
  "toc": {
   "base_numbering": 1,
   "nav_menu": {},
   "number_sections": true,
   "sideBar": true,
   "skip_h1_title": false,
   "title_cell": "Table of Contents",
   "title_sidebar": "Contents",
   "toc_cell": false,
   "toc_position": {},
   "toc_section_display": true,
   "toc_window_display": false
  },
  "varInspector": {
   "cols": {
    "lenName": 16,
    "lenType": 16,
    "lenVar": 40
   },
   "kernels_config": {
    "python": {
     "delete_cmd_postfix": "",
     "delete_cmd_prefix": "del ",
     "library": "var_list.py",
     "varRefreshCmd": "print(var_dic_list())"
    },
    "r": {
     "delete_cmd_postfix": ") ",
     "delete_cmd_prefix": "rm(",
     "library": "var_list.r",
     "varRefreshCmd": "cat(var_dic_list()) "
    }
   },
   "types_to_exclude": [
    "module",
    "function",
    "builtin_function_or_method",
    "instance",
    "_Feature"
   ],
   "window_display": false
  }
 },
 "nbformat": 4,
 "nbformat_minor": 5
}
