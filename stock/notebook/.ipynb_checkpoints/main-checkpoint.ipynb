{
 "cells": [
  {
   "cell_type": "code",
   "execution_count": 34,
   "id": "c3d69a9e",
   "metadata": {
    "ExecuteTime": {
     "end_time": "2023-02-10T07:53:34.883721Z",
     "start_time": "2023-02-10T07:53:34.878944Z"
    }
   },
   "outputs": [],
   "source": [
    "import pandas as pd\n",
    "import numpy as np\n",
    "import datetime\n",
    "import os, sys\n",
    "import shutil\n",
    "\n",
    "from configparser import ConfigParser\n",
    "\n",
    "import warnings\n",
    "warnings.filterwarnings(\"ignore\")\n",
    "\n",
    "from selenium.webdriver.common.by import By\n",
    "from selenium.webdriver.common.keys import Keys\n",
    "from selenium.webdriver.support.ui import WebDriverWait\n",
    "from selenium.webdriver.support.ui import Select\n",
    "from selenium import webdriver\n"
   ]
  },
  {
   "cell_type": "code",
   "execution_count": 2,
   "id": "d7ef5b44",
   "metadata": {
    "ExecuteTime": {
     "end_time": "2023-02-10T07:25:59.713337Z",
     "start_time": "2023-02-10T07:25:59.711256Z"
    }
   },
   "outputs": [],
   "source": [
    "LQ_45_stocks=  ['ACES','ADRO','AKRA','AMRT','ANTM','ARTO','ASII','BBCA','BBNI','BBRI','BBTN','BMRI','BRIS','BRPT','BUKA','CPIN','EMTK','ESSA','EXCL','GOTO','HRUM','ICBP','INCO','INDF','INDY','INKP','INTP','ITMG','JPFA','KLBF','MDKA','MEDC','PGAS','PTBA','SCMA','SIDO','SMGR','SRTG','TBIG','TINS','TLKM','TOWR','TPIA','UNTR','UNVR']"
   ]
  },
  {
   "cell_type": "code",
   "execution_count": 3,
   "id": "a7dff6f5",
   "metadata": {
    "ExecuteTime": {
     "end_time": "2023-02-10T07:26:00.956484Z",
     "start_time": "2023-02-10T07:26:00.953791Z"
    }
   },
   "outputs": [],
   "source": [
    "website = 'https://www.idx.co.id/id/perusahaan-tercatat/laporan-keuangan-dan-tahunan'\n",
    "path ='/Users/soju/Documents/notebooks/chromedriver/chromedriver'"
   ]
  },
  {
   "cell_type": "code",
   "execution_count": 15,
   "id": "6c5f2094",
   "metadata": {
    "ExecuteTime": {
     "end_time": "2023-02-10T07:34:05.658805Z",
     "start_time": "2023-02-10T07:34:05.634041Z"
    }
   },
   "outputs": [],
   "source": [
    "class idxScrapper():\n",
    "    def __init__(self):\n",
    "        config = ConfigParser()\n",
    "        config_filename = '../config/config.ini'\n",
    "        config.read(config_filename)\n",
    "        self.stock_list =config['files_location']['stock_list']\n",
    "        self.path =config['files_location']['path']\n",
    "        self.website =config['web_url']['website']\n",
    "        \n",
    "    @staticmethod\n",
    "    def getEmitenURL(year, quarter, emiten):\n",
    "        if quarter ==1:\n",
    "            roman_quarter='I'\n",
    "            quarter_txt='TW1'\n",
    "        elif quarter ==2:\n",
    "            roman_quarter='II'\n",
    "            quarter_txt='TW2'\n",
    "        elif quarter ==3:\n",
    "            roman_quarter='III'\n",
    "            quarter_txt='TW3'\n",
    "        elif quarter ==4:\n",
    "            roman_quarter ='Tahunan'\n",
    "            quarter_txt = 'Audit'\n",
    "\n",
    "        emiten_file_link = 'https://www.idx.co.id/Portals/0/StaticData/ListedCompanies/Corporate_Actions/New_Info_JSX/Jenis_Informasi/01_Laporan_Keuangan/02_Soft_Copy_Laporan_Keuangan//Laporan%20Keuangan%20Tahun%20{0}/{1}/{2}/FinancialStatement-{0}-{3}-{2}.xlsx'.format(\n",
    "            year, quarter_txt, emiten, roman_quarter)\n",
    "\n",
    "        return emiten_file_link\n",
    "\n",
    "    def readStockList(self):\n",
    "        stock_dim = pd.read_excel(self.stock_list, engine='openpyxl'\n",
    "                                 ).sort_values('stock_code').reset_index(drop=True)\n",
    "        \n",
    "        stock_dim['offering_year'] = stock_dim.offering_date.str[-4:]\n",
    "        stock_dim=stock_dim.drop(columns={'offering_date', 'offering_notes', 'share_amount'})\n",
    "        return stock_dim\n",
    "    \n",
    "    def pullData(self, url):\n",
    "        self.webBrowser.execute_script('''window.open('about:blank', 'secondtab');''')\n",
    "\n",
    "        # It is switching to second tab now\n",
    "        self.webBrowser.switch_to.window('secondtab')\n",
    "\n",
    "        # In the second tab, it opens geeksforgeeks\n",
    "        self.webBrowser.get(url)\n",
    "        self.webBrowser.window_handles[1]\n",
    "        parent= self.webBrowser.window_handles[0]\n",
    "        child = self.webBrowser.window_handles[1]\n",
    "\n",
    "        self.webBrowser.switch_to.window(child)\n",
    "\n",
    "        self.webBrowser.close()\n",
    "        self.webBrowser.switch_to.window(parent)\n",
    "\n",
    "\n",
    "    def scrapeData(self, year): \n",
    "        website = self.website\n",
    "        path = self.path\n",
    "        self.ct = (datetime.datetime.now())\n",
    "        print(\"current time:\", self.ct)\n",
    "\n",
    "        self.webBrowser = webdriver.Chrome(path)\n",
    "        self.webBrowser.get(website)\n",
    "        for stock in LQ_45_stocks:\n",
    "            for i in range(4):\n",
    "                quarter = i+1\n",
    "                url = idxScrapper.getEmitenURL(year, quarter, stock)\n",
    "                print(stock, year, quarter, url)\n",
    "                self.pullData(url)\n",
    "        self.webBrowser.quit()\n",
    "\n",
    "    def moveFilestoFolder(self):\n",
    "        ct = self.ct\n",
    "        # folder path\n",
    "        dir_path = r'/Users/soju/Downloads'\n",
    "\n",
    "        # list file and directories\n",
    "        filenames = os.listdir(dir_path)\n",
    "\n",
    "        all_file = pd.DataFrame(columns=['filename', 'last_modified'])\n",
    "\n",
    "        for file in filenames:\n",
    "            filename = '/Users/soju/Downloads/'+file\n",
    "            timestamp = os.path.getmtime(filename)\n",
    "            last_mod = datetime.datetime.fromtimestamp(timestamp)\n",
    "            all_file = all_file.append({'filename': file, 'last_modified': last_mod}, ignore_index=True) # yuck\n",
    "        new_files = all_file[all_file.last_modified>=ct].sort_values('last_modified').reset_index(drop=True)\n",
    "        new_files = new_files[new_files.filename.str.contains('Financial')]\n",
    "\n",
    "        for new_file in new_files.filename.unique():\n",
    "            src_path = '/Users/soju/Downloads/'+new_file\n",
    "            dst_path = '/Users/soju/Documents/notebooks/projects/data-science/stock/data/financial_statement/'+new_file\n",
    "            shutil.move(src_path, dst_path)\n"
   ]
  },
  {
   "cell_type": "code",
   "execution_count": 16,
   "id": "4fdc159f",
   "metadata": {
    "ExecuteTime": {
     "end_time": "2023-02-10T07:34:09.081996Z",
     "start_time": "2023-02-10T07:34:09.074245Z"
    }
   },
   "outputs": [],
   "source": [
    "scrapper = idxScrapper()"
   ]
  },
  {
   "cell_type": "code",
   "execution_count": 17,
   "id": "87bd73ba",
   "metadata": {
    "ExecuteTime": {
     "end_time": "2023-02-10T07:34:10.030520Z",
     "start_time": "2023-02-10T07:34:09.696066Z"
    }
   },
   "outputs": [
    {
     "data": {
      "text/html": [
       "<div>\n",
       "<style scoped>\n",
       "    .dataframe tbody tr th:only-of-type {\n",
       "        vertical-align: middle;\n",
       "    }\n",
       "\n",
       "    .dataframe tbody tr th {\n",
       "        vertical-align: top;\n",
       "    }\n",
       "\n",
       "    .dataframe thead th {\n",
       "        text-align: right;\n",
       "    }\n",
       "</style>\n",
       "<table border=\"1\" class=\"dataframe\">\n",
       "  <thead>\n",
       "    <tr style=\"text-align: right;\">\n",
       "      <th></th>\n",
       "      <th>stock_code</th>\n",
       "      <th>stock_name</th>\n",
       "      <th>offering_year</th>\n",
       "    </tr>\n",
       "  </thead>\n",
       "  <tbody>\n",
       "    <tr>\n",
       "      <th>0</th>\n",
       "      <td>AALI</td>\n",
       "      <td>Astra Agro Lestari Tbk.</td>\n",
       "      <td>1997</td>\n",
       "    </tr>\n",
       "    <tr>\n",
       "      <th>1</th>\n",
       "      <td>ABBA</td>\n",
       "      <td>Mahaka Media Tbk.</td>\n",
       "      <td>2002</td>\n",
       "    </tr>\n",
       "    <tr>\n",
       "      <th>2</th>\n",
       "      <td>ABDA</td>\n",
       "      <td>Asuransi Bina Dana Arta Tbk.</td>\n",
       "      <td>1989</td>\n",
       "    </tr>\n",
       "    <tr>\n",
       "      <th>3</th>\n",
       "      <td>ABMM</td>\n",
       "      <td>ABM Investama Tbk.</td>\n",
       "      <td>2011</td>\n",
       "    </tr>\n",
       "    <tr>\n",
       "      <th>4</th>\n",
       "      <td>ACES</td>\n",
       "      <td>Ace Hardware Indonesia Tbk.</td>\n",
       "      <td>2007</td>\n",
       "    </tr>\n",
       "  </tbody>\n",
       "</table>\n",
       "</div>"
      ],
      "text/plain": [
       "  stock_code                    stock_name offering_year\n",
       "0       AALI       Astra Agro Lestari Tbk.          1997\n",
       "1       ABBA             Mahaka Media Tbk.          2002\n",
       "2       ABDA  Asuransi Bina Dana Arta Tbk.          1989\n",
       "3       ABMM            ABM Investama Tbk.          2011\n",
       "4       ACES   Ace Hardware Indonesia Tbk.          2007"
      ]
     },
     "execution_count": 17,
     "metadata": {},
     "output_type": "execute_result"
    }
   ],
   "source": [
    "stock_dim = scrapper.readStockList()\n",
    "stock_dim.head()"
   ]
  },
  {
   "cell_type": "code",
   "execution_count": 20,
   "id": "836150e3",
   "metadata": {
    "ExecuteTime": {
     "end_time": "2023-02-10T07:46:39.683675Z",
     "start_time": "2023-02-10T07:46:39.680598Z"
    }
   },
   "outputs": [],
   "source": [
    "year =2022\n",
    "\n",
    "scrapper.scrapeData(year)\n",
    "scrapper.moveFilestoFolder()"
   ]
  },
  {
   "cell_type": "code",
   "execution_count": 76,
   "id": "5e7b551c",
   "metadata": {
    "ExecuteTime": {
     "end_time": "2023-02-10T08:09:59.822870Z",
     "start_time": "2023-02-10T08:09:59.505140Z"
    }
   },
   "outputs": [
    {
     "data": {
      "text/plain": [
       "{'name': 'Ace Hardware Indonesia Tbk',\n",
       " 'code': 'ACES',\n",
       " 'sector': '9. Trade, Services & Investment',\n",
       " 'subsector': '93. Retail Trade',\n",
       " 'start_date': '2019-01-01',\n",
       " 'end_date': '2019-03-31',\n",
       " 'period': 'Kuartal I / First Quarter'}"
      ]
     },
     "execution_count": 76,
     "metadata": {},
     "output_type": "execute_result"
    }
   ],
   "source": [
    "sheet1 = pd.read_excel('../data/financial_statement/FinancialStatement-2019-I-ACES.xlsx'\n",
    "                      , engine='openpyxl'\n",
    "                      , sheet_name = '1000000'\n",
    "                      , names =['id_desc', 'val', 'en_desc']\n",
    "                     , header=3)\n",
    "\n",
    "sheet2 = pd.read_excel('../data/financial_statement/FinancialStatement-2019-I-ACES.xlsx'\n",
    "                      , engine='openpyxl'\n",
    "                      , sheet_name = '1210000'\n",
    "                      , names =['id_desc', 'val', 'en_desc']\n",
    "                     , header=3)\n",
    "\n",
    "name = sheet1[sheet1.id_desc=='Nama entitas'].val.item()\n",
    "code = sheet1[sheet1.id_desc=='Kode entitas'].val.item()\n",
    "sector = sheet1[sheet1.id_desc=='Sektor'].val.item()\n",
    "subsector = sheet1[sheet1.id_desc=='Subsektor'].val.item()\n",
    "sdate = sheet1[sheet1.id_desc=='Tanggal awal periode berjalan'].val.item()\n",
    "edate = sheet1[sheet1.id_desc=='Tanggal akhir periode berjalan'].val.item()\n",
    "period = sheet1[sheet1.id_desc=='Periode penyampaian laporan keuangan'].val.item()\n",
    "\n",
    "general_info ={'name':name\n",
    "              , 'code':code\n",
    "              , 'sector':sector\n",
    "              , 'subsector':subsector\n",
    "              , 'start_date':sdate\n",
    "              , 'end_date':edate\n",
    "              , 'period':period\n",
    "             }\n",
    "\n",
    "\n",
    "general_info"
   ]
  },
  {
   "cell_type": "code",
   "execution_count": 61,
   "id": "ea5c6231",
   "metadata": {
    "ExecuteTime": {
     "end_time": "2023-02-10T08:05:45.160910Z",
     "start_time": "2023-02-10T08:05:45.029919Z"
    }
   },
   "outputs": [
    {
     "data": {
      "text/plain": [
       "['Context',\n",
       " '1000000',\n",
       " '1210000',\n",
       " '1311000',\n",
       " '1410000 1 CurrentYear',\n",
       " '1410000 2 PriorYear',\n",
       " '1510000',\n",
       " 'hidden',\n",
       " 'Token']"
      ]
     },
     "execution_count": 61,
     "metadata": {},
     "output_type": "execute_result"
    }
   ],
   "source": [
    "xl = pd.ExcelFile('../data/financial_statement/FinancialStatement-2019-I-ACES.xlsx')\n",
    "xl.sheet_names  # see all sheet names"
   ]
  },
  {
   "cell_type": "code",
   "execution_count": 74,
   "id": "ce8b67fc",
   "metadata": {
    "ExecuteTime": {
     "end_time": "2023-02-10T08:09:27.211987Z",
     "start_time": "2023-02-10T08:09:27.074909Z"
    }
   },
   "outputs": [
    {
     "data": {
      "text/plain": [
       "5449977515042.0"
      ]
     },
     "execution_count": 74,
     "metadata": {},
     "output_type": "execute_result"
    }
   ],
   "source": [
    "sheet2 = pd.read_excel('../data/financial_statement/FinancialStatement-2019-I-ACES.xlsx'\n",
    "                      , engine='openpyxl'\n",
    "                      , sheet_name = '1210000'\n",
    "                      , names =['id_desc', 'this_year', 'last_year', 'en_desc']\n",
    "                     , header=3)\n",
    "asset = sheet2[sheet2.id_desc=='Jumlah aset'].this_year.item()\n",
    "short_term_liabilities = sheet2[sheet2.id_desc=='Jumlah liabilitas jangka pendek'].this_year.item()\n",
    "financial_position ={'asset':emiten_asset\n",
    "                    }"
   ]
  },
  {
   "cell_type": "code",
   "execution_count": 75,
   "id": "8474273a",
   "metadata": {
    "ExecuteTime": {
     "end_time": "2023-02-10T08:09:28.877476Z",
     "start_time": "2023-02-10T08:09:28.873310Z"
    }
   },
   "outputs": [
    {
     "data": {
      "text/plain": [
       "507435922373.0"
      ]
     },
     "execution_count": 75,
     "metadata": {},
     "output_type": "execute_result"
    }
   ],
   "source": [
    "emiten_short_term_liabilities"
   ]
  },
  {
   "cell_type": "code",
   "execution_count": null,
   "id": "87700d56",
   "metadata": {},
   "outputs": [],
   "source": []
  }
 ],
 "metadata": {
  "kernelspec": {
   "display_name": "Python 3 (ipykernel)",
   "language": "python",
   "name": "python3"
  },
  "language_info": {
   "codemirror_mode": {
    "name": "ipython",
    "version": 3
   },
   "file_extension": ".py",
   "mimetype": "text/x-python",
   "name": "python",
   "nbconvert_exporter": "python",
   "pygments_lexer": "ipython3",
   "version": "3.10.5"
  },
  "toc": {
   "base_numbering": 1,
   "nav_menu": {},
   "number_sections": true,
   "sideBar": true,
   "skip_h1_title": false,
   "title_cell": "Table of Contents",
   "title_sidebar": "Contents",
   "toc_cell": false,
   "toc_position": {},
   "toc_section_display": true,
   "toc_window_display": false
  },
  "varInspector": {
   "cols": {
    "lenName": 16,
    "lenType": 16,
    "lenVar": 40
   },
   "kernels_config": {
    "python": {
     "delete_cmd_postfix": "",
     "delete_cmd_prefix": "del ",
     "library": "var_list.py",
     "varRefreshCmd": "print(var_dic_list())"
    },
    "r": {
     "delete_cmd_postfix": ") ",
     "delete_cmd_prefix": "rm(",
     "library": "var_list.r",
     "varRefreshCmd": "cat(var_dic_list()) "
    }
   },
   "types_to_exclude": [
    "module",
    "function",
    "builtin_function_or_method",
    "instance",
    "_Feature"
   ],
   "window_display": false
  }
 },
 "nbformat": 4,
 "nbformat_minor": 5
}
